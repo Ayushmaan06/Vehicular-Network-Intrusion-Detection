{
  "nbformat": 4,
  "nbformat_minor": 0,
  "metadata": {
    "colab": {
      "provenance": []
    },
    "kernelspec": {
      "name": "python3",
      "display_name": "Python 3"
    },
    "language_info": {
      "name": "python"
    }
  },
  "cells": [
    {
      "cell_type": "code",
      "execution_count": null,
      "metadata": {
        "id": "ieW9kDlOmHAv"
      },
      "outputs": [],
      "source": [
        "import numpy as np\n",
        "import pandas as pd\n",
        "import seaborn as sns\n",
        "import matplotlib.pyplot as plt\n",
        "from sklearn.preprocessing import LabelEncoder\n",
        "from sklearn.model_selection import train_test_split\n",
        "from sklearn.metrics import classification_report,confusion_matrix,accuracy_score,precision_recall_fscore_support\n",
        "from sklearn.metrics import f1_score\n",
        "from sklearn.ensemble import RandomForestClassifier,ExtraTreesClassifier\n",
        "from sklearn.tree import DecisionTreeClassifier\n",
        "import xgboost as xgb\n",
        "from xgboost import plot_importance\n",
        "\n",
        "import warnings\n",
        "warnings.filterwarnings(\"ignore\")"
      ]
    },
    {
      "cell_type": "code",
      "source": [
        "df=pd.read_csv(\"/content/CICIDS2017_sample.csv\")"
      ],
      "metadata": {
        "id": "jEWfD5XEmx4l"
      },
      "execution_count": null,
      "outputs": []
    },
    {
      "cell_type": "code",
      "source": [
        "df.head()"
      ],
      "metadata": {
        "colab": {
          "base_uri": "https://localhost:8080/",
          "height": 307
        },
        "id": "6r781wEwm7y7",
        "outputId": "45097e6e-213a-405b-938e-3cef0d323a0c"
      },
      "execution_count": null,
      "outputs": [
        {
          "output_type": "execute_result",
          "data": {
            "text/plain": [
              "   Flow Duration  Total Fwd Packets  Total Backward Packets  \\\n",
              "0              4                  2                       0   \n",
              "1         142377                 46                      62   \n",
              "2         118873                 23                      28   \n",
              "3         143577                 43                      55   \n",
              "4         143745                 49                      59   \n",
              "\n",
              "   Total Length of Fwd Packets  Total Length of Bwd Packets  \\\n",
              "0                           37                            0   \n",
              "1                         1325                       105855   \n",
              "2                         1169                        45025   \n",
              "3                         1301                       107289   \n",
              "4                         1331                       110185   \n",
              "\n",
              "   Fwd Packet Length Max  Fwd Packet Length Min  Fwd Packet Length Mean  \\\n",
              "0                     31                      6               18.500000   \n",
              "1                    570                      0               28.804348   \n",
              "2                    570                      0               50.826087   \n",
              "3                    570                      0               30.255814   \n",
              "4                    570                      0               27.163265   \n",
              "\n",
              "   Fwd Packet Length Std  Bwd Packet Length Max  ...  min_seg_size_forward  \\\n",
              "0              17.677670                      0  ...                    20   \n",
              "1             111.407285                   4344  ...                    20   \n",
              "2             156.137367                   2896  ...                    32   \n",
              "3             115.178969                   4344  ...                    20   \n",
              "4             108.067176                   4344  ...                    20   \n",
              "\n",
              "   Active Mean  Active Std  Active Max  Active Min  Idle Mean  Idle Std  \\\n",
              "0          0.0         0.0           0           0        0.0       0.0   \n",
              "1          0.0         0.0           0           0        0.0       0.0   \n",
              "2          0.0         0.0           0           0        0.0       0.0   \n",
              "3          0.0         0.0           0           0        0.0       0.0   \n",
              "4          0.0         0.0           0           0        0.0       0.0   \n",
              "\n",
              "   Idle Max  Idle Min   Label  \n",
              "0         0         0  BENIGN  \n",
              "1         0         0  BENIGN  \n",
              "2         0         0  BENIGN  \n",
              "3         0         0  BENIGN  \n",
              "4         0         0  BENIGN  \n",
              "\n",
              "[5 rows x 78 columns]"
            ],
            "text/html": [
              "\n",
              "  <div id=\"df-43d15105-e749-4896-a710-48a8d25fccfb\" class=\"colab-df-container\">\n",
              "    <div>\n",
              "<style scoped>\n",
              "    .dataframe tbody tr th:only-of-type {\n",
              "        vertical-align: middle;\n",
              "    }\n",
              "\n",
              "    .dataframe tbody tr th {\n",
              "        vertical-align: top;\n",
              "    }\n",
              "\n",
              "    .dataframe thead th {\n",
              "        text-align: right;\n",
              "    }\n",
              "</style>\n",
              "<table border=\"1\" class=\"dataframe\">\n",
              "  <thead>\n",
              "    <tr style=\"text-align: right;\">\n",
              "      <th></th>\n",
              "      <th>Flow Duration</th>\n",
              "      <th>Total Fwd Packets</th>\n",
              "      <th>Total Backward Packets</th>\n",
              "      <th>Total Length of Fwd Packets</th>\n",
              "      <th>Total Length of Bwd Packets</th>\n",
              "      <th>Fwd Packet Length Max</th>\n",
              "      <th>Fwd Packet Length Min</th>\n",
              "      <th>Fwd Packet Length Mean</th>\n",
              "      <th>Fwd Packet Length Std</th>\n",
              "      <th>Bwd Packet Length Max</th>\n",
              "      <th>...</th>\n",
              "      <th>min_seg_size_forward</th>\n",
              "      <th>Active Mean</th>\n",
              "      <th>Active Std</th>\n",
              "      <th>Active Max</th>\n",
              "      <th>Active Min</th>\n",
              "      <th>Idle Mean</th>\n",
              "      <th>Idle Std</th>\n",
              "      <th>Idle Max</th>\n",
              "      <th>Idle Min</th>\n",
              "      <th>Label</th>\n",
              "    </tr>\n",
              "  </thead>\n",
              "  <tbody>\n",
              "    <tr>\n",
              "      <th>0</th>\n",
              "      <td>4</td>\n",
              "      <td>2</td>\n",
              "      <td>0</td>\n",
              "      <td>37</td>\n",
              "      <td>0</td>\n",
              "      <td>31</td>\n",
              "      <td>6</td>\n",
              "      <td>18.500000</td>\n",
              "      <td>17.677670</td>\n",
              "      <td>0</td>\n",
              "      <td>...</td>\n",
              "      <td>20</td>\n",
              "      <td>0.0</td>\n",
              "      <td>0.0</td>\n",
              "      <td>0</td>\n",
              "      <td>0</td>\n",
              "      <td>0.0</td>\n",
              "      <td>0.0</td>\n",
              "      <td>0</td>\n",
              "      <td>0</td>\n",
              "      <td>BENIGN</td>\n",
              "    </tr>\n",
              "    <tr>\n",
              "      <th>1</th>\n",
              "      <td>142377</td>\n",
              "      <td>46</td>\n",
              "      <td>62</td>\n",
              "      <td>1325</td>\n",
              "      <td>105855</td>\n",
              "      <td>570</td>\n",
              "      <td>0</td>\n",
              "      <td>28.804348</td>\n",
              "      <td>111.407285</td>\n",
              "      <td>4344</td>\n",
              "      <td>...</td>\n",
              "      <td>20</td>\n",
              "      <td>0.0</td>\n",
              "      <td>0.0</td>\n",
              "      <td>0</td>\n",
              "      <td>0</td>\n",
              "      <td>0.0</td>\n",
              "      <td>0.0</td>\n",
              "      <td>0</td>\n",
              "      <td>0</td>\n",
              "      <td>BENIGN</td>\n",
              "    </tr>\n",
              "    <tr>\n",
              "      <th>2</th>\n",
              "      <td>118873</td>\n",
              "      <td>23</td>\n",
              "      <td>28</td>\n",
              "      <td>1169</td>\n",
              "      <td>45025</td>\n",
              "      <td>570</td>\n",
              "      <td>0</td>\n",
              "      <td>50.826087</td>\n",
              "      <td>156.137367</td>\n",
              "      <td>2896</td>\n",
              "      <td>...</td>\n",
              "      <td>32</td>\n",
              "      <td>0.0</td>\n",
              "      <td>0.0</td>\n",
              "      <td>0</td>\n",
              "      <td>0</td>\n",
              "      <td>0.0</td>\n",
              "      <td>0.0</td>\n",
              "      <td>0</td>\n",
              "      <td>0</td>\n",
              "      <td>BENIGN</td>\n",
              "    </tr>\n",
              "    <tr>\n",
              "      <th>3</th>\n",
              "      <td>143577</td>\n",
              "      <td>43</td>\n",
              "      <td>55</td>\n",
              "      <td>1301</td>\n",
              "      <td>107289</td>\n",
              "      <td>570</td>\n",
              "      <td>0</td>\n",
              "      <td>30.255814</td>\n",
              "      <td>115.178969</td>\n",
              "      <td>4344</td>\n",
              "      <td>...</td>\n",
              "      <td>20</td>\n",
              "      <td>0.0</td>\n",
              "      <td>0.0</td>\n",
              "      <td>0</td>\n",
              "      <td>0</td>\n",
              "      <td>0.0</td>\n",
              "      <td>0.0</td>\n",
              "      <td>0</td>\n",
              "      <td>0</td>\n",
              "      <td>BENIGN</td>\n",
              "    </tr>\n",
              "    <tr>\n",
              "      <th>4</th>\n",
              "      <td>143745</td>\n",
              "      <td>49</td>\n",
              "      <td>59</td>\n",
              "      <td>1331</td>\n",
              "      <td>110185</td>\n",
              "      <td>570</td>\n",
              "      <td>0</td>\n",
              "      <td>27.163265</td>\n",
              "      <td>108.067176</td>\n",
              "      <td>4344</td>\n",
              "      <td>...</td>\n",
              "      <td>20</td>\n",
              "      <td>0.0</td>\n",
              "      <td>0.0</td>\n",
              "      <td>0</td>\n",
              "      <td>0</td>\n",
              "      <td>0.0</td>\n",
              "      <td>0.0</td>\n",
              "      <td>0</td>\n",
              "      <td>0</td>\n",
              "      <td>BENIGN</td>\n",
              "    </tr>\n",
              "  </tbody>\n",
              "</table>\n",
              "<p>5 rows × 78 columns</p>\n",
              "</div>\n",
              "    <div class=\"colab-df-buttons\">\n",
              "\n",
              "  <div class=\"colab-df-container\">\n",
              "    <button class=\"colab-df-convert\" onclick=\"convertToInteractive('df-43d15105-e749-4896-a710-48a8d25fccfb')\"\n",
              "            title=\"Convert this dataframe to an interactive table.\"\n",
              "            style=\"display:none;\">\n",
              "\n",
              "  <svg xmlns=\"http://www.w3.org/2000/svg\" height=\"24px\" viewBox=\"0 -960 960 960\">\n",
              "    <path d=\"M120-120v-720h720v720H120Zm60-500h600v-160H180v160Zm220 220h160v-160H400v160Zm0 220h160v-160H400v160ZM180-400h160v-160H180v160Zm440 0h160v-160H620v160ZM180-180h160v-160H180v160Zm440 0h160v-160H620v160Z\"/>\n",
              "  </svg>\n",
              "    </button>\n",
              "\n",
              "  <style>\n",
              "    .colab-df-container {\n",
              "      display:flex;\n",
              "      gap: 12px;\n",
              "    }\n",
              "\n",
              "    .colab-df-convert {\n",
              "      background-color: #E8F0FE;\n",
              "      border: none;\n",
              "      border-radius: 50%;\n",
              "      cursor: pointer;\n",
              "      display: none;\n",
              "      fill: #1967D2;\n",
              "      height: 32px;\n",
              "      padding: 0 0 0 0;\n",
              "      width: 32px;\n",
              "    }\n",
              "\n",
              "    .colab-df-convert:hover {\n",
              "      background-color: #E2EBFA;\n",
              "      box-shadow: 0px 1px 2px rgba(60, 64, 67, 0.3), 0px 1px 3px 1px rgba(60, 64, 67, 0.15);\n",
              "      fill: #174EA6;\n",
              "    }\n",
              "\n",
              "    .colab-df-buttons div {\n",
              "      margin-bottom: 4px;\n",
              "    }\n",
              "\n",
              "    [theme=dark] .colab-df-convert {\n",
              "      background-color: #3B4455;\n",
              "      fill: #D2E3FC;\n",
              "    }\n",
              "\n",
              "    [theme=dark] .colab-df-convert:hover {\n",
              "      background-color: #434B5C;\n",
              "      box-shadow: 0px 1px 3px 1px rgba(0, 0, 0, 0.15);\n",
              "      filter: drop-shadow(0px 1px 2px rgba(0, 0, 0, 0.3));\n",
              "      fill: #FFFFFF;\n",
              "    }\n",
              "  </style>\n",
              "\n",
              "    <script>\n",
              "      const buttonEl =\n",
              "        document.querySelector('#df-43d15105-e749-4896-a710-48a8d25fccfb button.colab-df-convert');\n",
              "      buttonEl.style.display =\n",
              "        google.colab.kernel.accessAllowed ? 'block' : 'none';\n",
              "\n",
              "      async function convertToInteractive(key) {\n",
              "        const element = document.querySelector('#df-43d15105-e749-4896-a710-48a8d25fccfb');\n",
              "        const dataTable =\n",
              "          await google.colab.kernel.invokeFunction('convertToInteractive',\n",
              "                                                    [key], {});\n",
              "        if (!dataTable) return;\n",
              "\n",
              "        const docLinkHtml = 'Like what you see? Visit the ' +\n",
              "          '<a target=\"_blank\" href=https://colab.research.google.com/notebooks/data_table.ipynb>data table notebook</a>'\n",
              "          + ' to learn more about interactive tables.';\n",
              "        element.innerHTML = '';\n",
              "        dataTable['output_type'] = 'display_data';\n",
              "        await google.colab.output.renderOutput(dataTable, element);\n",
              "        const docLink = document.createElement('div');\n",
              "        docLink.innerHTML = docLinkHtml;\n",
              "        element.appendChild(docLink);\n",
              "      }\n",
              "    </script>\n",
              "  </div>\n",
              "\n",
              "\n",
              "<div id=\"df-42a51ff6-3b36-4245-812b-12572d893750\">\n",
              "  <button class=\"colab-df-quickchart\" onclick=\"quickchart('df-42a51ff6-3b36-4245-812b-12572d893750')\"\n",
              "            title=\"Suggest charts\"\n",
              "            style=\"display:none;\">\n",
              "\n",
              "<svg xmlns=\"http://www.w3.org/2000/svg\" height=\"24px\"viewBox=\"0 0 24 24\"\n",
              "     width=\"24px\">\n",
              "    <g>\n",
              "        <path d=\"M19 3H5c-1.1 0-2 .9-2 2v14c0 1.1.9 2 2 2h14c1.1 0 2-.9 2-2V5c0-1.1-.9-2-2-2zM9 17H7v-7h2v7zm4 0h-2V7h2v10zm4 0h-2v-4h2v4z\"/>\n",
              "    </g>\n",
              "</svg>\n",
              "  </button>\n",
              "\n",
              "<style>\n",
              "  .colab-df-quickchart {\n",
              "      --bg-color: #E8F0FE;\n",
              "      --fill-color: #1967D2;\n",
              "      --hover-bg-color: #E2EBFA;\n",
              "      --hover-fill-color: #174EA6;\n",
              "      --disabled-fill-color: #AAA;\n",
              "      --disabled-bg-color: #DDD;\n",
              "  }\n",
              "\n",
              "  [theme=dark] .colab-df-quickchart {\n",
              "      --bg-color: #3B4455;\n",
              "      --fill-color: #D2E3FC;\n",
              "      --hover-bg-color: #434B5C;\n",
              "      --hover-fill-color: #FFFFFF;\n",
              "      --disabled-bg-color: #3B4455;\n",
              "      --disabled-fill-color: #666;\n",
              "  }\n",
              "\n",
              "  .colab-df-quickchart {\n",
              "    background-color: var(--bg-color);\n",
              "    border: none;\n",
              "    border-radius: 50%;\n",
              "    cursor: pointer;\n",
              "    display: none;\n",
              "    fill: var(--fill-color);\n",
              "    height: 32px;\n",
              "    padding: 0;\n",
              "    width: 32px;\n",
              "  }\n",
              "\n",
              "  .colab-df-quickchart:hover {\n",
              "    background-color: var(--hover-bg-color);\n",
              "    box-shadow: 0 1px 2px rgba(60, 64, 67, 0.3), 0 1px 3px 1px rgba(60, 64, 67, 0.15);\n",
              "    fill: var(--button-hover-fill-color);\n",
              "  }\n",
              "\n",
              "  .colab-df-quickchart-complete:disabled,\n",
              "  .colab-df-quickchart-complete:disabled:hover {\n",
              "    background-color: var(--disabled-bg-color);\n",
              "    fill: var(--disabled-fill-color);\n",
              "    box-shadow: none;\n",
              "  }\n",
              "\n",
              "  .colab-df-spinner {\n",
              "    border: 2px solid var(--fill-color);\n",
              "    border-color: transparent;\n",
              "    border-bottom-color: var(--fill-color);\n",
              "    animation:\n",
              "      spin 1s steps(1) infinite;\n",
              "  }\n",
              "\n",
              "  @keyframes spin {\n",
              "    0% {\n",
              "      border-color: transparent;\n",
              "      border-bottom-color: var(--fill-color);\n",
              "      border-left-color: var(--fill-color);\n",
              "    }\n",
              "    20% {\n",
              "      border-color: transparent;\n",
              "      border-left-color: var(--fill-color);\n",
              "      border-top-color: var(--fill-color);\n",
              "    }\n",
              "    30% {\n",
              "      border-color: transparent;\n",
              "      border-left-color: var(--fill-color);\n",
              "      border-top-color: var(--fill-color);\n",
              "      border-right-color: var(--fill-color);\n",
              "    }\n",
              "    40% {\n",
              "      border-color: transparent;\n",
              "      border-right-color: var(--fill-color);\n",
              "      border-top-color: var(--fill-color);\n",
              "    }\n",
              "    60% {\n",
              "      border-color: transparent;\n",
              "      border-right-color: var(--fill-color);\n",
              "    }\n",
              "    80% {\n",
              "      border-color: transparent;\n",
              "      border-right-color: var(--fill-color);\n",
              "      border-bottom-color: var(--fill-color);\n",
              "    }\n",
              "    90% {\n",
              "      border-color: transparent;\n",
              "      border-bottom-color: var(--fill-color);\n",
              "    }\n",
              "  }\n",
              "</style>\n",
              "\n",
              "  <script>\n",
              "    async function quickchart(key) {\n",
              "      const quickchartButtonEl =\n",
              "        document.querySelector('#' + key + ' button');\n",
              "      quickchartButtonEl.disabled = true;  // To prevent multiple clicks.\n",
              "      quickchartButtonEl.classList.add('colab-df-spinner');\n",
              "      try {\n",
              "        const charts = await google.colab.kernel.invokeFunction(\n",
              "            'suggestCharts', [key], {});\n",
              "      } catch (error) {\n",
              "        console.error('Error during call to suggestCharts:', error);\n",
              "      }\n",
              "      quickchartButtonEl.classList.remove('colab-df-spinner');\n",
              "      quickchartButtonEl.classList.add('colab-df-quickchart-complete');\n",
              "    }\n",
              "    (() => {\n",
              "      let quickchartButtonEl =\n",
              "        document.querySelector('#df-42a51ff6-3b36-4245-812b-12572d893750 button');\n",
              "      quickchartButtonEl.style.display =\n",
              "        google.colab.kernel.accessAllowed ? 'block' : 'none';\n",
              "    })();\n",
              "  </script>\n",
              "</div>\n",
              "\n",
              "    </div>\n",
              "  </div>\n"
            ],
            "application/vnd.google.colaboratory.intrinsic+json": {
              "type": "dataframe",
              "variable_name": "df"
            }
          },
          "metadata": {},
          "execution_count": 4
        }
      ]
    },
    {
      "cell_type": "code",
      "source": [
        "df.Label.value_counts()"
      ],
      "metadata": {
        "colab": {
          "base_uri": "https://localhost:8080/",
          "height": 335
        },
        "id": "LgUpVsFEA31z",
        "outputId": "29e7b054-9e57-4ab1-8280-2692344a68a8"
      },
      "execution_count": null,
      "outputs": [
        {
          "output_type": "execute_result",
          "data": {
            "text/plain": [
              "Label\n",
              "BENIGN          22731\n",
              "DoS             19035\n",
              "PortScan         7946\n",
              "BruteForce       2767\n",
              "WebAttack        2180\n",
              "Bot              1966\n",
              "Infiltration       36\n",
              "Name: count, dtype: int64"
            ],
            "text/html": [
              "<div>\n",
              "<style scoped>\n",
              "    .dataframe tbody tr th:only-of-type {\n",
              "        vertical-align: middle;\n",
              "    }\n",
              "\n",
              "    .dataframe tbody tr th {\n",
              "        vertical-align: top;\n",
              "    }\n",
              "\n",
              "    .dataframe thead th {\n",
              "        text-align: right;\n",
              "    }\n",
              "</style>\n",
              "<table border=\"1\" class=\"dataframe\">\n",
              "  <thead>\n",
              "    <tr style=\"text-align: right;\">\n",
              "      <th></th>\n",
              "      <th>count</th>\n",
              "    </tr>\n",
              "    <tr>\n",
              "      <th>Label</th>\n",
              "      <th></th>\n",
              "    </tr>\n",
              "  </thead>\n",
              "  <tbody>\n",
              "    <tr>\n",
              "      <th>BENIGN</th>\n",
              "      <td>22731</td>\n",
              "    </tr>\n",
              "    <tr>\n",
              "      <th>DoS</th>\n",
              "      <td>19035</td>\n",
              "    </tr>\n",
              "    <tr>\n",
              "      <th>PortScan</th>\n",
              "      <td>7946</td>\n",
              "    </tr>\n",
              "    <tr>\n",
              "      <th>BruteForce</th>\n",
              "      <td>2767</td>\n",
              "    </tr>\n",
              "    <tr>\n",
              "      <th>WebAttack</th>\n",
              "      <td>2180</td>\n",
              "    </tr>\n",
              "    <tr>\n",
              "      <th>Bot</th>\n",
              "      <td>1966</td>\n",
              "    </tr>\n",
              "    <tr>\n",
              "      <th>Infiltration</th>\n",
              "      <td>36</td>\n",
              "    </tr>\n",
              "  </tbody>\n",
              "</table>\n",
              "</div><br><label><b>dtype:</b> int64</label>"
            ]
          },
          "metadata": {},
          "execution_count": 5
        }
      ]
    },
    {
      "cell_type": "markdown",
      "source": [],
      "metadata": {
        "id": "m4eNQrDvA3Zc"
      }
    },
    {
      "cell_type": "code",
      "source": [
        "df.info()"
      ],
      "metadata": {
        "colab": {
          "base_uri": "https://localhost:8080/"
        },
        "id": "5EDcBu0Rm9Qi",
        "outputId": "094d9af5-2fcf-4488-b126-aeff62c9599f"
      },
      "execution_count": null,
      "outputs": [
        {
          "output_type": "stream",
          "name": "stdout",
          "text": [
            "<class 'pandas.core.frame.DataFrame'>\n",
            "RangeIndex: 56661 entries, 0 to 56660\n",
            "Data columns (total 78 columns):\n",
            " #   Column                       Non-Null Count  Dtype  \n",
            "---  ------                       --------------  -----  \n",
            " 0   Flow Duration                56661 non-null  int64  \n",
            " 1   Total Fwd Packets            56661 non-null  int64  \n",
            " 2   Total Backward Packets       56661 non-null  int64  \n",
            " 3   Total Length of Fwd Packets  56661 non-null  int64  \n",
            " 4   Total Length of Bwd Packets  56661 non-null  int64  \n",
            " 5   Fwd Packet Length Max        56661 non-null  int64  \n",
            " 6   Fwd Packet Length Min        56661 non-null  int64  \n",
            " 7   Fwd Packet Length Mean       56661 non-null  float64\n",
            " 8   Fwd Packet Length Std        56661 non-null  float64\n",
            " 9   Bwd Packet Length Max        56661 non-null  int64  \n",
            " 10  Bwd Packet Length Min        56661 non-null  int64  \n",
            " 11  Bwd Packet Length Mean       56661 non-null  float64\n",
            " 12  Bwd Packet Length Std        56661 non-null  float64\n",
            " 13  Flow Bytes/s                 56607 non-null  float64\n",
            " 14  Flow Packets/s               56661 non-null  float64\n",
            " 15  Flow IAT Mean                56661 non-null  float64\n",
            " 16  Flow IAT Std                 56661 non-null  float64\n",
            " 17  Flow IAT Max                 56661 non-null  int64  \n",
            " 18  Flow IAT Min                 56661 non-null  int64  \n",
            " 19  Fwd IAT Total                56661 non-null  int64  \n",
            " 20  Fwd IAT Mean                 56661 non-null  float64\n",
            " 21  Fwd IAT Std                  56661 non-null  float64\n",
            " 22  Fwd IAT Max                  56661 non-null  int64  \n",
            " 23  Fwd IAT Min                  56661 non-null  int64  \n",
            " 24  Bwd IAT Total                56661 non-null  int64  \n",
            " 25  Bwd IAT Mean                 56661 non-null  float64\n",
            " 26  Bwd IAT Std                  56661 non-null  float64\n",
            " 27  Bwd IAT Max                  56661 non-null  int64  \n",
            " 28  Bwd IAT Min                  56661 non-null  int64  \n",
            " 29  Fwd PSH Flags                56661 non-null  int64  \n",
            " 30  Bwd PSH Flags                56661 non-null  int64  \n",
            " 31  Fwd URG Flags                56661 non-null  int64  \n",
            " 32  Bwd URG Flags                56661 non-null  int64  \n",
            " 33  Fwd Header Length            56661 non-null  int64  \n",
            " 34  Bwd Header Length            56661 non-null  int64  \n",
            " 35  Fwd Packets/s                56661 non-null  float64\n",
            " 36  Bwd Packets/s                56661 non-null  float64\n",
            " 37  Min Packet Length            56661 non-null  int64  \n",
            " 38  Max Packet Length            56661 non-null  int64  \n",
            " 39  Packet Length Mean           56661 non-null  float64\n",
            " 40  Packet Length Std            56661 non-null  float64\n",
            " 41  Packet Length Variance       56661 non-null  float64\n",
            " 42  FIN Flag Count               56661 non-null  int64  \n",
            " 43  SYN Flag Count               56661 non-null  int64  \n",
            " 44  RST Flag Count               56661 non-null  int64  \n",
            " 45  PSH Flag Count               56661 non-null  int64  \n",
            " 46  ACK Flag Count               56661 non-null  int64  \n",
            " 47  URG Flag Count               56661 non-null  int64  \n",
            " 48  CWE Flag Count               56661 non-null  int64  \n",
            " 49  ECE Flag Count               56661 non-null  int64  \n",
            " 50  Down/Up Ratio                56661 non-null  int64  \n",
            " 51  Average Packet Size          56661 non-null  float64\n",
            " 52  Avg Fwd Segment Size         56661 non-null  float64\n",
            " 53  Avg Bwd Segment Size         56661 non-null  float64\n",
            " 54  Fwd Header Length.1          56661 non-null  int64  \n",
            " 55  Fwd Avg Bytes/Bulk           56661 non-null  int64  \n",
            " 56  Fwd Avg Packets/Bulk         56661 non-null  int64  \n",
            " 57  Fwd Avg Bulk Rate            56661 non-null  int64  \n",
            " 58  Bwd Avg Bytes/Bulk           56661 non-null  int64  \n",
            " 59  Bwd Avg Packets/Bulk         56661 non-null  int64  \n",
            " 60  Bwd Avg Bulk Rate            56661 non-null  int64  \n",
            " 61  Subflow Fwd Packets          56661 non-null  int64  \n",
            " 62  Subflow Fwd Bytes            56661 non-null  int64  \n",
            " 63  Subflow Bwd Packets          56661 non-null  int64  \n",
            " 64  Subflow Bwd Bytes            56661 non-null  int64  \n",
            " 65  Init_Win_bytes_forward       56661 non-null  int64  \n",
            " 66  Init_Win_bytes_backward      56661 non-null  int64  \n",
            " 67  act_data_pkt_fwd             56661 non-null  int64  \n",
            " 68  min_seg_size_forward         56661 non-null  int64  \n",
            " 69  Active Mean                  56661 non-null  float64\n",
            " 70  Active Std                   56661 non-null  float64\n",
            " 71  Active Max                   56661 non-null  int64  \n",
            " 72  Active Min                   56661 non-null  int64  \n",
            " 73  Idle Mean                    56661 non-null  float64\n",
            " 74  Idle Std                     56661 non-null  float64\n",
            " 75  Idle Max                     56661 non-null  int64  \n",
            " 76  Idle Min                     56661 non-null  int64  \n",
            " 77  Label                        56661 non-null  object \n",
            "dtypes: float64(24), int64(53), object(1)\n",
            "memory usage: 33.7+ MB\n"
          ]
        }
      ]
    },
    {
      "cell_type": "code",
      "source": [
        "# Min-max normalization\n",
        "numeric_features = df.dtypes[df.dtypes != 'object'].index\n",
        "df[numeric_features] = df[numeric_features].apply(\n",
        "    lambda x: (x - x.min()) / (x.max()-x.min()))\n",
        "# Fill empty values by 0\n",
        "df = df.fillna(0)"
      ],
      "metadata": {
        "id": "O_RDQxFem-87"
      },
      "execution_count": null,
      "outputs": []
    },
    {
      "cell_type": "code",
      "source": [
        "labelencoder = LabelEncoder()\n",
        "df.iloc[:, -1] = labelencoder.fit_transform(df.iloc[:, -1])\n",
        "X = df.drop(['Label'],axis=1).values\n",
        "y = df.iloc[:, -1].values.reshape(-1,1)\n",
        "y=np.ravel(y)\n",
        "X_train, X_test, y_train, y_test = train_test_split(X,y, train_size = 0.8, test_size = 0.2, random_state = 0,stratify = y)"
      ],
      "metadata": {
        "id": "Ut1Y09-_nF_y"
      },
      "execution_count": null,
      "outputs": []
    },
    {
      "cell_type": "code",
      "source": [
        "X_train.shape"
      ],
      "metadata": {
        "colab": {
          "base_uri": "https://localhost:8080/"
        },
        "id": "vivq-mi7nKbx",
        "outputId": "b1dfd2b0-70b2-4099-befc-f05884e940a8"
      },
      "execution_count": null,
      "outputs": [
        {
          "output_type": "execute_result",
          "data": {
            "text/plain": [
              "(45328, 77)"
            ]
          },
          "metadata": {},
          "execution_count": 9
        }
      ]
    },
    {
      "cell_type": "code",
      "source": [
        "print(np.unique(y_train))  # Check unique class labels\n",
        "print(y_train.dtype)  # Check data type\n"
      ],
      "metadata": {
        "colab": {
          "base_uri": "https://localhost:8080/"
        },
        "id": "8bzu81Rk-1N2",
        "outputId": "e1790484-5ce1-46ff-b2ec-421d5c05f7d6"
      },
      "execution_count": null,
      "outputs": [
        {
          "output_type": "stream",
          "name": "stdout",
          "text": [
            "[0 1 2 3 4 5 6]\n",
            "object\n"
          ]
        }
      ]
    },
    {
      "cell_type": "code",
      "source": [
        "y_train = y_train.astype(int)  # Convert to integer\n",
        "print(np.unique(y_train), y_train.dtype)  # Check again\n"
      ],
      "metadata": {
        "colab": {
          "base_uri": "https://localhost:8080/"
        },
        "id": "QUW82Tx__Szm",
        "outputId": "edcbed71-3f10-4732-a138-6ecaa5ea9723"
      },
      "execution_count": null,
      "outputs": [
        {
          "output_type": "stream",
          "name": "stdout",
          "text": [
            "[0 1 2 3 4 5 6] int64\n"
          ]
        }
      ]
    },
    {
      "cell_type": "code",
      "source": [
        "from imblearn.over_sampling import SMOTE\n",
        "smote=SMOTE(sampling_strategy={4:1500}) # Create 1500 samples for the minority class \"4\""
      ],
      "metadata": {
        "id": "eVeKMZOIwG3I"
      },
      "execution_count": null,
      "outputs": []
    },
    {
      "cell_type": "code",
      "source": [
        "X_train, y_train = smote.fit_resample(X_train, y_train)"
      ],
      "metadata": {
        "id": "MTmxewnN8z_4"
      },
      "execution_count": null,
      "outputs": []
    },
    {
      "cell_type": "code",
      "source": [
        "y_train = y_train.astype(int)\n",
        "y_test = y_test.astype(int)\n"
      ],
      "metadata": {
        "id": "lrjn7ZOv_wRE"
      },
      "execution_count": null,
      "outputs": []
    },
    {
      "cell_type": "code",
      "source": [
        "!pip install optuna"
      ],
      "metadata": {
        "colab": {
          "base_uri": "https://localhost:8080/"
        },
        "id": "heDvy0fygXwK",
        "outputId": "8a60dd27-63f0-497e-bdb3-2a661d682d3d"
      },
      "execution_count": null,
      "outputs": [
        {
          "output_type": "stream",
          "name": "stdout",
          "text": [
            "Collecting optuna\n",
            "  Downloading optuna-4.2.1-py3-none-any.whl.metadata (17 kB)\n",
            "Collecting alembic>=1.5.0 (from optuna)\n",
            "  Downloading alembic-1.15.2-py3-none-any.whl.metadata (7.3 kB)\n",
            "Collecting colorlog (from optuna)\n",
            "  Downloading colorlog-6.9.0-py3-none-any.whl.metadata (10 kB)\n",
            "Requirement already satisfied: numpy in /usr/local/lib/python3.11/dist-packages (from optuna) (2.0.2)\n",
            "Requirement already satisfied: packaging>=20.0 in /usr/local/lib/python3.11/dist-packages (from optuna) (24.2)\n",
            "Requirement already satisfied: sqlalchemy>=1.4.2 in /usr/local/lib/python3.11/dist-packages (from optuna) (2.0.40)\n",
            "Requirement already satisfied: tqdm in /usr/local/lib/python3.11/dist-packages (from optuna) (4.67.1)\n",
            "Requirement already satisfied: PyYAML in /usr/local/lib/python3.11/dist-packages (from optuna) (6.0.2)\n",
            "Requirement already satisfied: Mako in /usr/lib/python3/dist-packages (from alembic>=1.5.0->optuna) (1.1.3)\n",
            "Requirement already satisfied: typing-extensions>=4.12 in /usr/local/lib/python3.11/dist-packages (from alembic>=1.5.0->optuna) (4.13.0)\n",
            "Requirement already satisfied: greenlet>=1 in /usr/local/lib/python3.11/dist-packages (from sqlalchemy>=1.4.2->optuna) (3.1.1)\n",
            "Downloading optuna-4.2.1-py3-none-any.whl (383 kB)\n",
            "\u001b[2K   \u001b[90m━━━━━━━━━━━━━━━━━━━━━━━━━━━━━━━━━━━━━━━━\u001b[0m \u001b[32m383.6/383.6 kB\u001b[0m \u001b[31m9.5 MB/s\u001b[0m eta \u001b[36m0:00:00\u001b[0m\n",
            "\u001b[?25hDownloading alembic-1.15.2-py3-none-any.whl (231 kB)\n",
            "\u001b[2K   \u001b[90m━━━━━━━━━━━━━━━━━━━━━━━━━━━━━━━━━━━━━━━━\u001b[0m \u001b[32m231.9/231.9 kB\u001b[0m \u001b[31m16.0 MB/s\u001b[0m eta \u001b[36m0:00:00\u001b[0m\n",
            "\u001b[?25hDownloading colorlog-6.9.0-py3-none-any.whl (11 kB)\n",
            "Installing collected packages: colorlog, alembic, optuna\n",
            "Successfully installed alembic-1.15.2 colorlog-6.9.0 optuna-4.2.1\n"
          ]
        }
      ]
    },
    {
      "cell_type": "code",
      "source": [
        "import optuna\n",
        "import numpy as np\n",
        "import matplotlib.pyplot as plt\n",
        "import seaborn as sns\n",
        "from sklearn.metrics import precision_recall_fscore_support, classification_report, confusion_matrix, accuracy_score\n",
        "from sklearn.tree import DecisionTreeClassifier\n",
        "from sklearn.ensemble import RandomForestClassifier, ExtraTreesClassifier\n",
        "import xgboost as xgb\n",
        "\n",
        "# Common function to train, evaluate and plot heatmap\n",
        "def train_and_evaluate(model, X_train, y_train, X_test, y_test, model_name):\n",
        "    model.fit(X_train, y_train)\n",
        "    y_predict = model.predict(X_test)\n",
        "\n",
        "    # Calculate metrics\n",
        "    accuracy = accuracy_score(y_test, y_predict)\n",
        "    precision, recall, fscore, _ = precision_recall_fscore_support(y_test, y_predict, average='weighted')\n",
        "\n",
        "    print(f'Accuracy of {model_name}: {accuracy}')\n",
        "    print(f'Precision of {model_name}: {precision}')\n",
        "    print(f'Recall of {model_name}: {recall}')\n",
        "    print(f'F1-score of {model_name}: {fscore}')\n",
        "    print(classification_report(y_test, y_predict))\n",
        "\n",
        "    # Confusion Matrix\n",
        "    cm = confusion_matrix(y_test, y_predict)\n",
        "    plt.figure(figsize=(5, 5))\n",
        "    sns.heatmap(cm, annot=True, linewidth=0.5, linecolor=\"red\", fmt=\".0f\")\n",
        "    plt.xlabel(\"y_pred\")\n",
        "    plt.ylabel(\"y_true\")\n",
        "    plt.title(f\"Confusion Matrix of {model_name}\")\n",
        "    plt.show()\n",
        "\n",
        "# Optuna tuning functions\n",
        "def tune_dt(trial):\n",
        "    params = {\n",
        "        'max_depth': trial.suggest_int('max_depth', 2, 30),\n",
        "        'min_samples_split': trial.suggest_int('min_samples_split', 2, 20),\n",
        "        'min_samples_leaf': trial.suggest_int('min_samples_leaf', 1, 20),\n",
        "        'criterion': trial.suggest_categorical('criterion', ['gini', 'entropy'])\n",
        "    }\n",
        "    model = DecisionTreeClassifier(**params, random_state=0)\n",
        "    model.fit(X_train, y_train)\n",
        "    return accuracy_score(y_test, model.predict(X_test))\n",
        "\n",
        "def tune_rf(trial):\n",
        "    params = {\n",
        "        'n_estimators': trial.suggest_int('n_estimators', 50, 300, step=50),\n",
        "        'max_depth': trial.suggest_int('max_depth', 5, 50),\n",
        "        'min_samples_split': trial.suggest_int('min_samples_split', 2, 20),\n",
        "        'min_samples_leaf': trial.suggest_int('min_samples_leaf', 1, 20),\n",
        "        'criterion': trial.suggest_categorical('criterion', ['gini', 'entropy'])\n",
        "    }\n",
        "    model = RandomForestClassifier(**params, random_state=0)\n",
        "    model.fit(X_train, y_train)\n",
        "    return accuracy_score(y_test, model.predict(X_test))\n",
        "\n",
        "def tune_et(trial):\n",
        "    params = {\n",
        "        'n_estimators': trial.suggest_int('n_estimators', 50, 300, step=50),\n",
        "        'max_depth': trial.suggest_int('max_depth', 5, 50),\n",
        "        'min_samples_split': trial.suggest_int('min_samples_split', 2, 20),\n",
        "        'min_samples_leaf': trial.suggest_int('min_samples_leaf', 1, 20),\n",
        "        'criterion': trial.suggest_categorical('criterion', ['gini', 'entropy'])\n",
        "    }\n",
        "    model = ExtraTreesClassifier(**params, random_state=0)\n",
        "    model.fit(X_train, y_train)\n",
        "    return accuracy_score(y_test, model.predict(X_test))\n",
        "\n",
        "def tune_xg(trial):\n",
        "    params = {\n",
        "        'n_estimators': trial.suggest_int('n_estimators', 50, 300, step=50),\n",
        "        'max_depth': trial.suggest_int('max_depth', 3, 20),\n",
        "        'learning_rate': trial.suggest_loguniform('learning_rate', 0.01, 0.3),\n",
        "        'subsample': trial.suggest_uniform('subsample', 0.5, 1.0),\n",
        "        'colsample_bytree': trial.suggest_uniform('colsample_bytree', 0.5, 1.0)\n",
        "    }\n",
        "    model = xgb.XGBClassifier(**params, random_state=0)\n",
        "    model.fit(X_train, y_train)\n",
        "    return accuracy_score(y_test, model.predict(X_test))\n",
        "\n",
        "# Running Optuna\n",
        "def run_optuna(tune_func, model_name, n_trials=50):\n",
        "    study = optuna.create_study(direction='maximize')\n",
        "    study.optimize(tune_func, n_trials=n_trials)\n",
        "    print(f\"Best parameters for {model_name}: {study.best_params}\")\n",
        "    return study.best_params\n"
      ],
      "metadata": {
        "id": "8DSphZpHgUGP"
      },
      "execution_count": null,
      "outputs": []
    },
    {
      "cell_type": "code",
      "source": [
        "\n",
        "# Tune and Train Models\n",
        "best_dt_params = run_optuna(tune_dt, \"Decision Tree\")\n",
        "dt = DecisionTreeClassifier(**best_dt_params, random_state=0)\n",
        "train_and_evaluate(dt, X_train, y_train, X_test, y_test, \"Decision Tree\")\n"
      ],
      "metadata": {
        "colab": {
          "base_uri": "https://localhost:8080/",
          "height": 1000
        },
        "id": "YTVdvLSUgc3H",
        "outputId": "c7f0a69f-2102-423b-ee8e-20de609e8ed2"
      },
      "execution_count": null,
      "outputs": [
        {
          "output_type": "stream",
          "name": "stderr",
          "text": [
            "[I 2025-04-01 17:56:57,931] A new study created in memory with name: no-name-9e8d2943-5b45-4e04-9d02-ae04f7e42a4e\n",
            "[I 2025-04-01 17:57:02,076] Trial 0 finished with value: 0.9914409247330804 and parameters: {'max_depth': 25, 'min_samples_split': 13, 'min_samples_leaf': 15, 'criterion': 'entropy'}. Best is trial 0 with value: 0.9914409247330804.\n",
            "[I 2025-04-01 17:57:09,177] Trial 1 finished with value: 0.9948822024177182 and parameters: {'max_depth': 28, 'min_samples_split': 4, 'min_samples_leaf': 2, 'criterion': 'entropy'}. Best is trial 1 with value: 0.9948822024177182.\n",
            "[I 2025-04-01 17:57:12,717] Trial 2 finished with value: 0.9608223771287391 and parameters: {'max_depth': 7, 'min_samples_split': 15, 'min_samples_leaf': 20, 'criterion': 'entropy'}. Best is trial 1 with value: 0.9948822024177182.\n",
            "[I 2025-04-01 17:57:15,269] Trial 3 finished with value: 0.9944410129709698 and parameters: {'max_depth': 13, 'min_samples_split': 8, 'min_samples_leaf': 5, 'criterion': 'gini'}. Best is trial 1 with value: 0.9948822024177182.\n",
            "[I 2025-04-01 17:57:18,730] Trial 4 finished with value: 0.9939998235242213 and parameters: {'max_depth': 12, 'min_samples_split': 20, 'min_samples_leaf': 3, 'criterion': 'gini'}. Best is trial 1 with value: 0.9948822024177182.\n",
            "[I 2025-04-01 17:57:19,544] Trial 5 finished with value: 0.6781081796523427 and parameters: {'max_depth': 2, 'min_samples_split': 6, 'min_samples_leaf': 10, 'criterion': 'gini'}. Best is trial 1 with value: 0.9948822024177182.\n",
            "[I 2025-04-01 17:57:21,302] Trial 6 finished with value: 0.9112326833142151 and parameters: {'max_depth': 5, 'min_samples_split': 13, 'min_samples_leaf': 6, 'criterion': 'gini'}. Best is trial 1 with value: 0.9948822024177182.\n",
            "[I 2025-04-01 17:57:23,158] Trial 7 finished with value: 0.9604694255713403 and parameters: {'max_depth': 7, 'min_samples_split': 6, 'min_samples_leaf': 18, 'criterion': 'entropy'}. Best is trial 1 with value: 0.9948822024177182.\n",
            "[I 2025-04-01 17:57:24,354] Trial 8 finished with value: 0.9932939204094238 and parameters: {'max_depth': 24, 'min_samples_split': 18, 'min_samples_leaf': 14, 'criterion': 'gini'}. Best is trial 1 with value: 0.9948822024177182.\n",
            "[I 2025-04-01 17:57:25,793] Trial 9 finished with value: 0.990117356392835 and parameters: {'max_depth': 24, 'min_samples_split': 13, 'min_samples_leaf': 18, 'criterion': 'entropy'}. Best is trial 1 with value: 0.9948822024177182.\n",
            "[I 2025-04-01 17:57:27,217] Trial 10 finished with value: 0.9945292508603194 and parameters: {'max_depth': 30, 'min_samples_split': 2, 'min_samples_leaf': 9, 'criterion': 'entropy'}. Best is trial 1 with value: 0.9948822024177182.\n",
            "[I 2025-04-01 17:57:28,688] Trial 11 finished with value: 0.9955881055325156 and parameters: {'max_depth': 30, 'min_samples_split': 2, 'min_samples_leaf': 1, 'criterion': 'entropy'}. Best is trial 11 with value: 0.9955881055325156.\n",
            "[I 2025-04-01 17:57:30,561] Trial 12 finished with value: 0.9955881055325156 and parameters: {'max_depth': 30, 'min_samples_split': 2, 'min_samples_leaf': 1, 'criterion': 'entropy'}. Best is trial 11 with value: 0.9955881055325156.\n",
            "[I 2025-04-01 17:57:32,494] Trial 13 finished with value: 0.9955881055325156 and parameters: {'max_depth': 19, 'min_samples_split': 2, 'min_samples_leaf': 1, 'criterion': 'entropy'}. Best is trial 11 with value: 0.9955881055325156.\n",
            "[I 2025-04-01 17:57:33,947] Trial 14 finished with value: 0.9945292508603194 and parameters: {'max_depth': 19, 'min_samples_split': 9, 'min_samples_leaf': 6, 'criterion': 'entropy'}. Best is trial 11 with value: 0.9955881055325156.\n",
            "[I 2025-04-01 17:57:35,389] Trial 15 finished with value: 0.9953233918644666 and parameters: {'max_depth': 27, 'min_samples_split': 5, 'min_samples_leaf': 1, 'criterion': 'entropy'}. Best is trial 11 with value: 0.9955881055325156.\n",
            "[I 2025-04-01 17:57:36,800] Trial 16 finished with value: 0.9941762993029207 and parameters: {'max_depth': 20, 'min_samples_split': 9, 'min_samples_leaf': 4, 'criterion': 'entropy'}. Best is trial 11 with value: 0.9955881055325156.\n",
            "[I 2025-04-01 17:57:38,207] Trial 17 finished with value: 0.9942645371922704 and parameters: {'max_depth': 30, 'min_samples_split': 3, 'min_samples_leaf': 8, 'criterion': 'entropy'}. Best is trial 11 with value: 0.9955881055325156.\n",
            "[I 2025-04-01 17:57:39,581] Trial 18 finished with value: 0.9927644930733257 and parameters: {'max_depth': 14, 'min_samples_split': 8, 'min_samples_leaf': 12, 'criterion': 'entropy'}. Best is trial 11 with value: 0.9955881055325156.\n",
            "[I 2025-04-01 17:57:40,956] Trial 19 finished with value: 0.993823347745522 and parameters: {'max_depth': 22, 'min_samples_split': 4, 'min_samples_leaf': 7, 'criterion': 'entropy'}. Best is trial 11 with value: 0.9955881055325156.\n",
            "[I 2025-04-01 17:57:42,641] Trial 20 finished with value: 0.9942645371922704 and parameters: {'max_depth': 26, 'min_samples_split': 11, 'min_samples_leaf': 3, 'criterion': 'entropy'}. Best is trial 11 with value: 0.9955881055325156.\n",
            "[I 2025-04-01 17:57:44,740] Trial 21 finished with value: 0.995764581311215 and parameters: {'max_depth': 17, 'min_samples_split': 2, 'min_samples_leaf': 1, 'criterion': 'entropy'}. Best is trial 21 with value: 0.995764581311215.\n",
            "[I 2025-04-01 17:57:46,152] Trial 22 finished with value: 0.995764581311215 and parameters: {'max_depth': 16, 'min_samples_split': 2, 'min_samples_leaf': 1, 'criterion': 'entropy'}. Best is trial 21 with value: 0.995764581311215.\n",
            "[I 2025-04-01 17:57:47,589] Trial 23 finished with value: 0.9939998235242213 and parameters: {'max_depth': 16, 'min_samples_split': 6, 'min_samples_leaf': 4, 'criterion': 'entropy'}. Best is trial 21 with value: 0.995764581311215.\n",
            "[I 2025-04-01 17:57:49,011] Trial 24 finished with value: 0.989852642724786 and parameters: {'max_depth': 10, 'min_samples_split': 4, 'min_samples_leaf': 3, 'criterion': 'entropy'}. Best is trial 21 with value: 0.995764581311215.\n",
            "[I 2025-04-01 17:57:50,414] Trial 25 finished with value: 0.995764581311215 and parameters: {'max_depth': 16, 'min_samples_split': 2, 'min_samples_leaf': 1, 'criterion': 'entropy'}. Best is trial 21 with value: 0.995764581311215.\n",
            "[I 2025-04-01 17:57:51,597] Trial 26 finished with value: 0.9949704403070678 and parameters: {'max_depth': 17, 'min_samples_split': 5, 'min_samples_leaf': 5, 'criterion': 'gini'}. Best is trial 21 with value: 0.995764581311215.\n",
            "[I 2025-04-01 17:57:53,008] Trial 27 finished with value: 0.9951469160857672 and parameters: {'max_depth': 15, 'min_samples_split': 7, 'min_samples_leaf': 2, 'criterion': 'entropy'}. Best is trial 21 with value: 0.995764581311215.\n",
            "[I 2025-04-01 17:57:54,391] Trial 28 finished with value: 0.9905585458395835 and parameters: {'max_depth': 11, 'min_samples_split': 3, 'min_samples_leaf': 12, 'criterion': 'entropy'}. Best is trial 21 with value: 0.995764581311215.\n",
            "[I 2025-04-01 17:57:56,499] Trial 29 finished with value: 0.9942645371922704 and parameters: {'max_depth': 17, 'min_samples_split': 4, 'min_samples_leaf': 4, 'criterion': 'entropy'}. Best is trial 21 with value: 0.995764581311215.\n",
            "[I 2025-04-01 17:57:58,145] Trial 30 finished with value: 0.993823347745522 and parameters: {'max_depth': 22, 'min_samples_split': 11, 'min_samples_leaf': 7, 'criterion': 'entropy'}. Best is trial 21 with value: 0.995764581311215.\n",
            "[I 2025-04-01 17:57:59,553] Trial 31 finished with value: 0.9955881055325156 and parameters: {'max_depth': 21, 'min_samples_split': 2, 'min_samples_leaf': 1, 'criterion': 'entropy'}. Best is trial 21 with value: 0.995764581311215.\n",
            "[I 2025-04-01 17:58:01,004] Trial 32 finished with value: 0.9902055942821848 and parameters: {'max_depth': 10, 'min_samples_split': 3, 'min_samples_leaf': 2, 'criterion': 'entropy'}. Best is trial 21 with value: 0.995764581311215.\n",
            "[I 2025-04-01 17:58:02,431] Trial 33 finished with value: 0.9947939645283684 and parameters: {'max_depth': 18, 'min_samples_split': 5, 'min_samples_leaf': 2, 'criterion': 'entropy'}. Best is trial 21 with value: 0.995764581311215.\n",
            "[I 2025-04-01 17:58:03,853] Trial 34 finished with value: 0.9945292508603194 and parameters: {'max_depth': 14, 'min_samples_split': 3, 'min_samples_leaf': 3, 'criterion': 'entropy'}. Best is trial 21 with value: 0.995764581311215.\n",
            "[I 2025-04-01 17:58:05,208] Trial 35 finished with value: 0.9817347569046149 and parameters: {'max_depth': 8, 'min_samples_split': 2, 'min_samples_leaf': 1, 'criterion': 'entropy'}. Best is trial 21 with value: 0.995764581311215.\n",
            "[I 2025-04-01 17:58:06,378] Trial 36 finished with value: 0.9946174887496692 and parameters: {'max_depth': 13, 'min_samples_split': 17, 'min_samples_leaf': 5, 'criterion': 'gini'}. Best is trial 21 with value: 0.995764581311215.\n",
            "[I 2025-04-01 17:58:08,111] Trial 37 finished with value: 0.995235153975117 and parameters: {'max_depth': 16, 'min_samples_split': 4, 'min_samples_leaf': 2, 'criterion': 'entropy'}. Best is trial 21 with value: 0.995764581311215.\n",
            "[I 2025-04-01 17:58:09,135] Trial 38 finished with value: 0.8392305656048707 and parameters: {'max_depth': 4, 'min_samples_split': 7, 'min_samples_leaf': 3, 'criterion': 'gini'}. Best is trial 21 with value: 0.995764581311215.\n",
            "[I 2025-04-01 17:58:10,776] Trial 39 finished with value: 0.9941762993029207 and parameters: {'max_depth': 23, 'min_samples_split': 5, 'min_samples_leaf': 5, 'criterion': 'entropy'}. Best is trial 21 with value: 0.995764581311215.\n",
            "[I 2025-04-01 17:58:11,956] Trial 40 finished with value: 0.9948822024177182 and parameters: {'max_depth': 28, 'min_samples_split': 3, 'min_samples_leaf': 4, 'criterion': 'gini'}. Best is trial 21 with value: 0.995764581311215.\n",
            "[I 2025-04-01 17:58:13,412] Trial 41 finished with value: 0.9955881055325156 and parameters: {'max_depth': 29, 'min_samples_split': 2, 'min_samples_leaf': 1, 'criterion': 'entropy'}. Best is trial 21 with value: 0.995764581311215.\n",
            "[I 2025-04-01 17:58:14,822] Trial 42 finished with value: 0.9948822024177182 and parameters: {'max_depth': 25, 'min_samples_split': 2, 'min_samples_leaf': 2, 'criterion': 'entropy'}. Best is trial 21 with value: 0.995764581311215.\n",
            "[I 2025-04-01 17:58:16,230] Trial 43 finished with value: 0.9955881055325156 and parameters: {'max_depth': 27, 'min_samples_split': 3, 'min_samples_leaf': 1, 'criterion': 'entropy'}. Best is trial 21 with value: 0.995764581311215.\n",
            "[I 2025-04-01 17:58:17,646] Trial 44 finished with value: 0.9944410129709698 and parameters: {'max_depth': 29, 'min_samples_split': 4, 'min_samples_leaf': 3, 'criterion': 'entropy'}. Best is trial 21 with value: 0.995764581311215.\n",
            "[I 2025-04-01 17:58:19,103] Trial 45 finished with value: 0.9885290743845407 and parameters: {'max_depth': 12, 'min_samples_split': 2, 'min_samples_leaf': 16, 'criterion': 'entropy'}. Best is trial 21 with value: 0.995764581311215.\n",
            "[I 2025-04-01 17:58:20,908] Trial 46 finished with value: 0.989587929056737 and parameters: {'max_depth': 19, 'min_samples_split': 15, 'min_samples_leaf': 20, 'criterion': 'entropy'}. Best is trial 21 with value: 0.995764581311215.\n",
            "[I 2025-04-01 17:58:22,836] Trial 47 finished with value: 0.9953233918644666 and parameters: {'max_depth': 26, 'min_samples_split': 5, 'min_samples_leaf': 1, 'criterion': 'entropy'}. Best is trial 21 with value: 0.995764581311215.\n",
            "[I 2025-04-01 17:58:24,221] Trial 48 finished with value: 0.9947057266390188 and parameters: {'max_depth': 15, 'min_samples_split': 6, 'min_samples_leaf': 6, 'criterion': 'entropy'}. Best is trial 21 with value: 0.995764581311215.\n",
            "[I 2025-04-01 17:58:24,626] Trial 49 finished with value: 0.6781081796523427 and parameters: {'max_depth': 2, 'min_samples_split': 3, 'min_samples_leaf': 2, 'criterion': 'gini'}. Best is trial 21 with value: 0.995764581311215.\n"
          ]
        },
        {
          "output_type": "stream",
          "name": "stdout",
          "text": [
            "Best parameters for Decision Tree: {'max_depth': 17, 'min_samples_split': 2, 'min_samples_leaf': 1, 'criterion': 'entropy'}\n",
            "Accuracy of Decision Tree: 0.995764581311215\n",
            "Precision of Decision Tree: 0.9957618430285637\n",
            "Recall of Decision Tree: 0.995764581311215\n",
            "F1-score of Decision Tree: 0.995759618235671\n",
            "              precision    recall  f1-score   support\n",
            "\n",
            "           0       1.00      0.99      1.00      4547\n",
            "           1       0.99      0.98      0.98       393\n",
            "           2       1.00      1.00      1.00       554\n",
            "           3       1.00      1.00      1.00      3807\n",
            "           4       0.71      0.71      0.71         7\n",
            "           5       0.99      1.00      1.00      1589\n",
            "           6       0.99      0.98      0.99       436\n",
            "\n",
            "    accuracy                           1.00     11333\n",
            "   macro avg       0.95      0.95      0.95     11333\n",
            "weighted avg       1.00      1.00      1.00     11333\n",
            "\n"
          ]
        },
        {
          "output_type": "display_data",
          "data": {
            "text/plain": [
              "<Figure size 500x500 with 2 Axes>"
            ],
            "image/png": "[encoded data removed]"
          },
          "metadata": {}
        }
      ]
    },
    {
      "cell_type": "code",
      "source": [
        "dt_train=dt.predict(X_train)\n",
        "dt_test=dt.predict(X_test)"
      ],
      "metadata": {
        "id": "rSJuNpOU_ccO"
      },
      "execution_count": null,
      "outputs": []
    },
    {
      "cell_type": "code",
      "source": [
        "\n",
        "best_rf_params = run_optuna(tune_rf, \"Random Forest\")\n",
        "rf = RandomForestClassifier(**best_rf_params, random_state=0)\n",
        "train_and_evaluate(rf, X_train, y_train, X_test, y_test, \"Random Forest\")\n"
      ],
      "metadata": {
        "colab": {
          "base_uri": "https://localhost:8080/",
          "height": 1000
        },
        "id": "qe2zaLQvAgOs",
        "outputId": "10e589d6-82f1-438b-f006-f99245ffcf4a"
      },
      "execution_count": null,
      "outputs": [
        {
          "output_type": "stream",
          "name": "stderr",
          "text": [
            "[I 2025-04-01 18:00:33,208] A new study created in memory with name: no-name-bdf5437e-27c7-4eb7-9f08-62f3f3f74800\n",
            "[I 2025-04-01 18:01:14,197] Trial 0 finished with value: 0.9947057266390188 and parameters: {'n_estimators': 300, 'max_depth': 15, 'min_samples_split': 8, 'min_samples_leaf': 1, 'criterion': 'entropy'}. Best is trial 0 with value: 0.9947057266390188.\n",
            "[I 2025-04-01 18:01:27,201] Trial 1 finished with value: 0.9929409688520251 and parameters: {'n_estimators': 100, 'max_depth': 32, 'min_samples_split': 9, 'min_samples_leaf': 5, 'criterion': 'entropy'}. Best is trial 0 with value: 0.9947057266390188.\n",
            "[I 2025-04-01 18:01:37,638] Trial 2 finished with value: 0.9879996470484426 and parameters: {'n_estimators': 100, 'max_depth': 33, 'min_samples_split': 20, 'min_samples_leaf': 14, 'criterion': 'gini'}. Best is trial 0 with value: 0.9947057266390188.\n",
            "[I 2025-04-01 18:02:04,734] Trial 3 finished with value: 0.9939998235242213 and parameters: {'n_estimators': 250, 'max_depth': 21, 'min_samples_split': 16, 'min_samples_leaf': 4, 'criterion': 'gini'}. Best is trial 0 with value: 0.9947057266390188.\n",
            "[I 2025-04-01 18:02:11,294] Trial 4 finished with value: 0.9911762110650313 and parameters: {'n_estimators': 50, 'max_depth': 43, 'min_samples_split': 13, 'min_samples_leaf': 7, 'criterion': 'entropy'}. Best is trial 0 with value: 0.9947057266390188.\n",
            "[I 2025-04-01 18:02:19,009] Trial 5 finished with value: 0.9214682784787788 and parameters: {'n_estimators': 100, 'max_depth': 5, 'min_samples_split': 10, 'min_samples_leaf': 14, 'criterion': 'gini'}. Best is trial 0 with value: 0.9947057266390188.\n",
            "[I 2025-04-01 18:02:52,984] Trial 6 finished with value: 0.9894996911673872 and parameters: {'n_estimators': 250, 'max_depth': 33, 'min_samples_split': 16, 'min_samples_leaf': 13, 'criterion': 'entropy'}. Best is trial 0 with value: 0.9947057266390188.\n",
            "[I 2025-04-01 18:03:18,955] Trial 7 finished with value: 0.9899408806141358 and parameters: {'n_estimators': 200, 'max_depth': 17, 'min_samples_split': 18, 'min_samples_leaf': 12, 'criterion': 'entropy'}. Best is trial 0 with value: 0.9947057266390188.\n",
            "[I 2025-04-01 18:03:51,349] Trial 8 finished with value: 0.9934703961881232 and parameters: {'n_estimators': 250, 'max_depth': 15, 'min_samples_split': 19, 'min_samples_leaf': 2, 'criterion': 'entropy'}. Best is trial 0 with value: 0.9947057266390188.\n",
            "[I 2025-04-01 18:03:57,069] Trial 9 finished with value: 0.9903820700608842 and parameters: {'n_estimators': 50, 'max_depth': 42, 'min_samples_split': 15, 'min_samples_leaf': 9, 'criterion': 'gini'}. Best is trial 0 with value: 0.9947057266390188.\n",
            "[I 2025-04-01 18:04:28,310] Trial 10 finished with value: 0.9552633900997088 and parameters: {'n_estimators': 300, 'max_depth': 6, 'min_samples_split': 3, 'min_samples_leaf': 20, 'criterion': 'entropy'}. Best is trial 0 with value: 0.9947057266390188.\n",
            "[I 2025-04-01 18:05:01,468] Trial 11 finished with value: 0.9953233918644666 and parameters: {'n_estimators': 300, 'max_depth': 19, 'min_samples_split': 7, 'min_samples_leaf': 1, 'criterion': 'gini'}. Best is trial 11 with value: 0.9953233918644666.\n",
            "[I 2025-04-01 18:05:33,886] Trial 12 finished with value: 0.9951469160857672 and parameters: {'n_estimators': 300, 'max_depth': 23, 'min_samples_split': 6, 'min_samples_leaf': 1, 'criterion': 'gini'}. Best is trial 11 with value: 0.9953233918644666.\n",
            "[I 2025-04-01 18:06:07,124] Trial 13 finished with value: 0.9947057266390188 and parameters: {'n_estimators': 300, 'max_depth': 24, 'min_samples_split': 5, 'min_samples_leaf': 4, 'criterion': 'gini'}. Best is trial 11 with value: 0.9953233918644666.\n",
            "[I 2025-04-01 18:06:28,327] Trial 14 finished with value: 0.9911762110650313 and parameters: {'n_estimators': 200, 'max_depth': 28, 'min_samples_split': 5, 'min_samples_leaf': 8, 'criterion': 'gini'}. Best is trial 11 with value: 0.9953233918644666.\n",
            "[I 2025-04-01 18:06:54,963] Trial 15 finished with value: 0.989323215388688 and parameters: {'n_estimators': 250, 'max_depth': 11, 'min_samples_split': 7, 'min_samples_leaf': 1, 'criterion': 'gini'}. Best is trial 11 with value: 0.9953233918644666.\n",
            "[I 2025-04-01 18:07:10,099] Trial 16 finished with value: 0.9863231271507985 and parameters: {'n_estimators': 150, 'max_depth': 22, 'min_samples_split': 2, 'min_samples_leaf': 18, 'criterion': 'gini'}. Best is trial 11 with value: 0.9953233918644666.\n",
            "[I 2025-04-01 18:07:42,186] Trial 17 finished with value: 0.9925880172946263 and parameters: {'n_estimators': 300, 'max_depth': 26, 'min_samples_split': 5, 'min_samples_leaf': 6, 'criterion': 'gini'}. Best is trial 11 with value: 0.9953233918644666.\n",
            "[I 2025-04-01 18:08:03,377] Trial 18 finished with value: 0.9944410129709698 and parameters: {'n_estimators': 200, 'max_depth': 38, 'min_samples_split': 11, 'min_samples_leaf': 3, 'criterion': 'gini'}. Best is trial 11 with value: 0.9953233918644666.\n",
            "[I 2025-04-01 18:08:19,609] Trial 19 finished with value: 0.9899408806141358 and parameters: {'n_estimators': 150, 'max_depth': 19, 'min_samples_split': 7, 'min_samples_leaf': 10, 'criterion': 'gini'}. Best is trial 11 with value: 0.9953233918644666.\n",
            "[I 2025-04-01 18:08:50,966] Trial 20 finished with value: 0.9921468278478779 and parameters: {'n_estimators': 300, 'max_depth': 49, 'min_samples_split': 13, 'min_samples_leaf': 6, 'criterion': 'gini'}. Best is trial 11 with value: 0.9953233918644666.\n",
            "[I 2025-04-01 18:09:30,324] Trial 21 finished with value: 0.9924997794052767 and parameters: {'n_estimators': 300, 'max_depth': 12, 'min_samples_split': 8, 'min_samples_leaf': 1, 'criterion': 'entropy'}. Best is trial 11 with value: 0.9953233918644666.\n",
            "[I 2025-04-01 18:10:03,942] Trial 22 finished with value: 0.9933821582987735 and parameters: {'n_estimators': 250, 'max_depth': 13, 'min_samples_split': 6, 'min_samples_leaf': 1, 'criterion': 'entropy'}. Best is trial 11 with value: 0.9953233918644666.\n",
            "[I 2025-04-01 18:10:43,441] Trial 23 finished with value: 0.9947939645283684 and parameters: {'n_estimators': 300, 'max_depth': 28, 'min_samples_split': 9, 'min_samples_leaf': 3, 'criterion': 'entropy'}. Best is trial 11 with value: 0.9953233918644666.\n",
            "[I 2025-04-01 18:11:11,116] Trial 24 finished with value: 0.9948822024177182 and parameters: {'n_estimators': 250, 'max_depth': 29, 'min_samples_split': 3, 'min_samples_leaf': 3, 'criterion': 'gini'}. Best is trial 11 with value: 0.9953233918644666.\n",
            "[I 2025-04-01 18:11:37,985] Trial 25 finished with value: 0.9948822024177182 and parameters: {'n_estimators': 250, 'max_depth': 30, 'min_samples_split': 4, 'min_samples_leaf': 3, 'criterion': 'gini'}. Best is trial 11 with value: 0.9953233918644666.\n",
            "[I 2025-04-01 18:12:05,635] Trial 26 finished with value: 0.9928527309626753 and parameters: {'n_estimators': 250, 'max_depth': 36, 'min_samples_split': 2, 'min_samples_leaf': 5, 'criterion': 'gini'}. Best is trial 11 with value: 0.9953233918644666.\n",
            "[I 2025-04-01 18:12:26,540] Trial 27 finished with value: 0.9950586781964176 and parameters: {'n_estimators': 200, 'max_depth': 24, 'min_samples_split': 4, 'min_samples_leaf': 3, 'criterion': 'gini'}. Best is trial 11 with value: 0.9953233918644666.\n",
            "[I 2025-04-01 18:12:49,888] Trial 28 finished with value: 0.9917938762904791 and parameters: {'n_estimators': 200, 'max_depth': 24, 'min_samples_split': 6, 'min_samples_leaf': 7, 'criterion': 'gini'}. Best is trial 11 with value: 0.9953233918644666.\n",
            "[I 2025-04-01 18:13:06,605] Trial 29 finished with value: 0.9951469160857672 and parameters: {'n_estimators': 150, 'max_depth': 20, 'min_samples_split': 11, 'min_samples_leaf': 1, 'criterion': 'gini'}. Best is trial 11 with value: 0.9953233918644666.\n",
            "[I 2025-04-01 18:13:17,232] Trial 30 finished with value: 0.9946174887496692 and parameters: {'n_estimators': 100, 'max_depth': 18, 'min_samples_split': 12, 'min_samples_leaf': 1, 'criterion': 'gini'}. Best is trial 11 with value: 0.9953233918644666.\n",
            "[I 2025-04-01 18:13:33,803] Trial 31 finished with value: 0.9949704403070678 and parameters: {'n_estimators': 150, 'max_depth': 21, 'min_samples_split': 8, 'min_samples_leaf': 2, 'criterion': 'gini'}. Best is trial 11 with value: 0.9953233918644666.\n",
            "[I 2025-04-01 18:13:49,490] Trial 32 finished with value: 0.9951469160857672 and parameters: {'n_estimators': 150, 'max_depth': 25, 'min_samples_split': 10, 'min_samples_leaf': 2, 'criterion': 'gini'}. Best is trial 11 with value: 0.9953233918644666.\n",
            "[I 2025-04-01 18:14:04,947] Trial 33 finished with value: 0.9928527309626753 and parameters: {'n_estimators': 150, 'max_depth': 17, 'min_samples_split': 10, 'min_samples_leaf': 5, 'criterion': 'gini'}. Best is trial 11 with value: 0.9953233918644666.\n",
            "[I 2025-04-01 18:14:14,889] Trial 34 finished with value: 0.9868525544868967 and parameters: {'n_estimators': 100, 'max_depth': 10, 'min_samples_split': 11, 'min_samples_leaf': 2, 'criterion': 'gini'}. Best is trial 11 with value: 0.9953233918644666.\n",
            "[I 2025-04-01 18:14:30,535] Trial 35 finished with value: 0.9939998235242213 and parameters: {'n_estimators': 150, 'max_depth': 20, 'min_samples_split': 9, 'min_samples_leaf': 4, 'criterion': 'gini'}. Best is trial 11 with value: 0.9953233918644666.\n",
            "[I 2025-04-01 18:14:41,472] Trial 36 finished with value: 0.9950586781964176 and parameters: {'n_estimators': 100, 'max_depth': 26, 'min_samples_split': 13, 'min_samples_leaf': 1, 'criterion': 'gini'}. Best is trial 11 with value: 0.9953233918644666.\n",
            "[I 2025-04-01 18:14:57,398] Trial 37 finished with value: 0.9928527309626753 and parameters: {'n_estimators': 150, 'max_depth': 31, 'min_samples_split': 10, 'min_samples_leaf': 5, 'criterion': 'gini'}. Best is trial 11 with value: 0.9953233918644666.\n",
            "[I 2025-04-01 18:15:02,679] Trial 38 finished with value: 0.9868525544868967 and parameters: {'n_estimators': 50, 'max_depth': 15, 'min_samples_split': 8, 'min_samples_leaf': 16, 'criterion': 'gini'}. Best is trial 11 with value: 0.9953233918644666.\n",
            "[I 2025-04-01 18:15:24,414] Trial 39 finished with value: 0.9945292508603194 and parameters: {'n_estimators': 200, 'max_depth': 23, 'min_samples_split': 14, 'min_samples_leaf': 2, 'criterion': 'gini'}. Best is trial 11 with value: 0.9953233918644666.\n",
            "[I 2025-04-01 18:15:34,569] Trial 40 finished with value: 0.9767051972116827 and parameters: {'n_estimators': 100, 'max_depth': 9, 'min_samples_split': 12, 'min_samples_leaf': 11, 'criterion': 'gini'}. Best is trial 11 with value: 0.9953233918644666.\n",
            "[I 2025-04-01 18:15:55,897] Trial 41 finished with value: 0.9948822024177182 and parameters: {'n_estimators': 200, 'max_depth': 24, 'min_samples_split': 7, 'min_samples_leaf': 3, 'criterion': 'gini'}. Best is trial 11 with value: 0.9953233918644666.\n",
            "[I 2025-04-01 18:16:12,430] Trial 42 finished with value: 0.995499867643166 and parameters: {'n_estimators': 150, 'max_depth': 20, 'min_samples_split': 4, 'min_samples_leaf': 2, 'criterion': 'gini'}. Best is trial 42 with value: 0.995499867643166.\n",
            "[I 2025-04-01 18:16:28,246] Trial 43 finished with value: 0.9947057266390188 and parameters: {'n_estimators': 150, 'max_depth': 17, 'min_samples_split': 6, 'min_samples_leaf': 2, 'criterion': 'gini'}. Best is trial 42 with value: 0.995499867643166.\n",
            "[I 2025-04-01 18:16:44,534] Trial 44 finished with value: 0.995764581311215 and parameters: {'n_estimators': 150, 'max_depth': 26, 'min_samples_split': 4, 'min_samples_leaf': 1, 'criterion': 'gini'}. Best is trial 44 with value: 0.995764581311215.\n",
            "[I 2025-04-01 18:16:55,089] Trial 45 finished with value: 0.9942645371922704 and parameters: {'n_estimators': 100, 'max_depth': 21, 'min_samples_split': 4, 'min_samples_leaf': 4, 'criterion': 'gini'}. Best is trial 44 with value: 0.995764581311215.\n",
            "[I 2025-04-01 18:17:11,028] Trial 46 finished with value: 0.9954116297538163 and parameters: {'n_estimators': 150, 'max_depth': 33, 'min_samples_split': 3, 'min_samples_leaf': 1, 'criterion': 'gini'}. Best is trial 44 with value: 0.995764581311215.\n",
            "[I 2025-04-01 18:17:31,333] Trial 47 finished with value: 0.9955881055325156 and parameters: {'n_estimators': 150, 'max_depth': 34, 'min_samples_split': 3, 'min_samples_leaf': 1, 'criterion': 'entropy'}. Best is trial 44 with value: 0.995764581311215.\n",
            "[I 2025-04-01 18:17:50,695] Trial 48 finished with value: 0.9890585017206388 and parameters: {'n_estimators': 150, 'max_depth': 34, 'min_samples_split': 3, 'min_samples_leaf': 15, 'criterion': 'entropy'}. Best is trial 44 with value: 0.995764581311215.\n",
            "[I 2025-04-01 18:18:03,752] Trial 49 finished with value: 0.9928527309626753 and parameters: {'n_estimators': 100, 'max_depth': 40, 'min_samples_split': 2, 'min_samples_leaf': 6, 'criterion': 'entropy'}. Best is trial 44 with value: 0.995764581311215.\n"
          ]
        },
        {
          "output_type": "stream",
          "name": "stdout",
          "text": [
            "Best parameters for Random Forest: {'n_estimators': 150, 'max_depth': 26, 'min_samples_split': 4, 'min_samples_leaf': 1, 'criterion': 'gini'}\n",
            "Accuracy of Random Forest: 0.995764581311215\n",
            "Precision of Random Forest: 0.9957619483437727\n",
            "Recall of Random Forest: 0.995764581311215\n",
            "F1-score of Random Forest: 0.9957394482492445\n",
            "              precision    recall  f1-score   support\n",
            "\n",
            "           0       0.99      1.00      1.00      4547\n",
            "           1       0.99      0.97      0.98       393\n",
            "           2       1.00      1.00      1.00       554\n",
            "           3       1.00      1.00      1.00      3807\n",
            "           4       1.00      0.71      0.83         7\n",
            "           5       1.00      1.00      1.00      1589\n",
            "           6       1.00      0.97      0.98       436\n",
            "\n",
            "    accuracy                           1.00     11333\n",
            "   macro avg       1.00      0.95      0.97     11333\n",
            "weighted avg       1.00      1.00      1.00     11333\n",
            "\n"
          ]
        },
        {
          "output_type": "display_data",
          "data": {
            "text/plain": [
              "<Figure size 500x500 with 2 Axes>"
            ],
            "image/png": "[encoded data removed]"
          },
          "metadata": {}
        }
      ]
    },
    {
      "cell_type": "code",
      "source": [
        "rf_train=rf.predict(X_train)\n",
        "rf_test=rf.predict(X_test)"
      ],
      "metadata": {
        "id": "E3IqiiexBSwc"
      },
      "execution_count": null,
      "outputs": []
    },
    {
      "cell_type": "code",
      "source": [
        "\n",
        "best_et_params = run_optuna(tune_et, \"Extra Trees\")\n",
        "et = ExtraTreesClassifier(**best_et_params, random_state=0)\n",
        "train_and_evaluate(et, X_train, y_train, X_test, y_test, \"Extra Trees\")\n",
        "\n",
        "\n"
      ],
      "metadata": {
        "colab": {
          "base_uri": "https://localhost:8080/",
          "height": 1000
        },
        "id": "8UGXAQ6lAjBs",
        "outputId": "734c4d76-164b-4e0e-d5b3-e864a7547a71"
      },
      "execution_count": null,
      "outputs": [
        {
          "output_type": "stream",
          "name": "stderr",
          "text": [
            "[I 2025-04-01 18:23:53,336] A new study created in memory with name: no-name-9f3370bb-0cec-46c6-b13f-fbd680fe5bd0\n",
            "[I 2025-04-01 18:24:11,320] Trial 0 finished with value: 0.9601164740139416 and parameters: {'n_estimators': 200, 'max_depth': 44, 'min_samples_split': 6, 'min_samples_leaf': 7, 'criterion': 'gini'}. Best is trial 0 with value: 0.9601164740139416.\n",
            "[I 2025-04-01 18:24:25,606] Trial 1 finished with value: 0.959145857231095 and parameters: {'n_estimators': 300, 'max_depth': 35, 'min_samples_split': 10, 'min_samples_leaf': 8, 'criterion': 'entropy'}. Best is trial 0 with value: 0.9601164740139416.\n",
            "[I 2025-04-01 18:24:38,499] Trial 2 finished with value: 0.9553516279890585 and parameters: {'n_estimators': 300, 'max_depth': 36, 'min_samples_split': 16, 'min_samples_leaf': 18, 'criterion': 'gini'}. Best is trial 0 with value: 0.9601164740139416.\n",
            "[I 2025-04-01 18:24:49,744] Trial 3 finished with value: 0.959145857231095 and parameters: {'n_estimators': 250, 'max_depth': 28, 'min_samples_split': 10, 'min_samples_leaf': 8, 'criterion': 'entropy'}. Best is trial 0 with value: 0.9601164740139416.\n",
            "[I 2025-04-01 18:24:55,788] Trial 4 finished with value: 0.9559692932145063 and parameters: {'n_estimators': 150, 'max_depth': 40, 'min_samples_split': 17, 'min_samples_leaf': 15, 'criterion': 'gini'}. Best is trial 0 with value: 0.9601164740139416.\n",
            "[I 2025-04-01 18:25:06,473] Trial 5 finished with value: 0.9568516721080031 and parameters: {'n_estimators': 250, 'max_depth': 16, 'min_samples_split': 3, 'min_samples_leaf': 13, 'criterion': 'entropy'}. Best is trial 0 with value: 0.9601164740139416.\n",
            "[I 2025-04-01 18:25:15,521] Trial 6 finished with value: 0.9562340068825553 and parameters: {'n_estimators': 200, 'max_depth': 24, 'min_samples_split': 4, 'min_samples_leaf': 14, 'criterion': 'gini'}. Best is trial 0 with value: 0.9601164740139416.\n",
            "[I 2025-04-01 18:25:26,696] Trial 7 finished with value: 0.9563222447719051 and parameters: {'n_estimators': 250, 'max_depth': 36, 'min_samples_split': 9, 'min_samples_leaf': 14, 'criterion': 'gini'}. Best is trial 0 with value: 0.9601164740139416.\n",
            "[I 2025-04-01 18:25:30,799] Trial 8 finished with value: 0.9569399099973529 and parameters: {'n_estimators': 100, 'max_depth': 49, 'min_samples_split': 7, 'min_samples_leaf': 12, 'criterion': 'gini'}. Best is trial 0 with value: 0.9601164740139416.\n",
            "[I 2025-04-01 18:25:40,459] Trial 9 finished with value: 0.9432630371481514 and parameters: {'n_estimators': 250, 'max_depth': 10, 'min_samples_split': 20, 'min_samples_leaf': 9, 'criterion': 'entropy'}. Best is trial 0 with value: 0.9601164740139416.\n",
            "[I 2025-04-01 18:25:42,963] Trial 10 finished with value: 0.9900291185034854 and parameters: {'n_estimators': 50, 'max_depth': 49, 'min_samples_split': 6, 'min_samples_leaf': 1, 'criterion': 'gini'}. Best is trial 10 with value: 0.9900291185034854.\n",
            "[I 2025-04-01 18:25:45,446] Trial 11 finished with value: 0.9899408806141358 and parameters: {'n_estimators': 50, 'max_depth': 48, 'min_samples_split': 6, 'min_samples_leaf': 1, 'criterion': 'gini'}. Best is trial 10 with value: 0.9900291185034854.\n",
            "[I 2025-04-01 18:25:49,089] Trial 12 finished with value: 0.989587929056737 and parameters: {'n_estimators': 50, 'max_depth': 50, 'min_samples_split': 2, 'min_samples_leaf': 1, 'criterion': 'gini'}. Best is trial 10 with value: 0.9900291185034854.\n",
            "[I 2025-04-01 18:25:51,532] Trial 13 finished with value: 0.9879996470484426 and parameters: {'n_estimators': 50, 'max_depth': 44, 'min_samples_split': 13, 'min_samples_leaf': 1, 'criterion': 'gini'}. Best is trial 10 with value: 0.9900291185034854.\n",
            "[I 2025-04-01 18:25:55,992] Trial 14 finished with value: 0.967616694608665 and parameters: {'n_estimators': 100, 'max_depth': 29, 'min_samples_split': 6, 'min_samples_leaf': 4, 'criterion': 'gini'}. Best is trial 10 with value: 0.9900291185034854.\n",
            "[I 2025-04-01 18:26:01,526] Trial 15 finished with value: 0.9684108356128122 and parameters: {'n_estimators': 100, 'max_depth': 45, 'min_samples_split': 13, 'min_samples_leaf': 4, 'criterion': 'gini'}. Best is trial 10 with value: 0.9900291185034854.\n",
            "[I 2025-04-01 18:26:03,849] Trial 16 finished with value: 0.9677931703873643 and parameters: {'n_estimators': 50, 'max_depth': 50, 'min_samples_split': 8, 'min_samples_leaf': 4, 'criterion': 'gini'}. Best is trial 10 with value: 0.9900291185034854.\n",
            "[I 2025-04-01 18:26:10,407] Trial 17 finished with value: 0.9602047119032913 and parameters: {'n_estimators': 150, 'max_depth': 20, 'min_samples_split': 4, 'min_samples_leaf': 5, 'criterion': 'gini'}. Best is trial 10 with value: 0.9900291185034854.\n",
            "[I 2025-04-01 18:26:14,172] Trial 18 finished with value: 0.8031412688608488 and parameters: {'n_estimators': 100, 'max_depth': 6, 'min_samples_split': 12, 'min_samples_leaf': 1, 'criterion': 'entropy'}. Best is trial 10 with value: 0.9900291185034854.\n",
            "[I 2025-04-01 18:26:16,176] Trial 19 finished with value: 0.954645724874261 and parameters: {'n_estimators': 50, 'max_depth': 40, 'min_samples_split': 5, 'min_samples_leaf': 20, 'criterion': 'gini'}. Best is trial 10 with value: 0.9900291185034854.\n",
            "[I 2025-04-01 18:26:22,796] Trial 20 finished with value: 0.9643518927027266 and parameters: {'n_estimators': 150, 'max_depth': 32, 'min_samples_split': 8, 'min_samples_leaf': 6, 'criterion': 'gini'}. Best is trial 10 with value: 0.9900291185034854.\n",
            "[I 2025-04-01 18:26:26,475] Trial 21 finished with value: 0.9801464748963205 and parameters: {'n_estimators': 50, 'max_depth': 49, 'min_samples_split': 2, 'min_samples_leaf': 2, 'criterion': 'gini'}. Best is trial 10 with value: 0.9900291185034854.\n",
            "[I 2025-04-01 18:26:28,931] Trial 22 finished with value: 0.9790876202241242 and parameters: {'n_estimators': 50, 'max_depth': 46, 'min_samples_split': 2, 'min_samples_leaf': 2, 'criterion': 'gini'}. Best is trial 10 with value: 0.9900291185034854.\n",
            "[I 2025-04-01 18:26:33,453] Trial 23 finished with value: 0.9699991176211065 and parameters: {'n_estimators': 100, 'max_depth': 42, 'min_samples_split': 5, 'min_samples_leaf': 3, 'criterion': 'gini'}. Best is trial 10 with value: 0.9900291185034854.\n",
            "[I 2025-04-01 18:26:36,117] Trial 24 finished with value: 0.989587929056737 and parameters: {'n_estimators': 50, 'max_depth': 50, 'min_samples_split': 2, 'min_samples_leaf': 1, 'criterion': 'gini'}. Best is trial 10 with value: 0.9900291185034854.\n",
            "[I 2025-04-01 18:26:41,244] Trial 25 finished with value: 0.9581752404482485 and parameters: {'n_estimators': 100, 'max_depth': 39, 'min_samples_split': 4, 'min_samples_leaf': 10, 'criterion': 'gini'}. Best is trial 10 with value: 0.9900291185034854.\n",
            "[I 2025-04-01 18:26:43,504] Trial 26 finished with value: 0.96902850083826 and parameters: {'n_estimators': 50, 'max_depth': 46, 'min_samples_split': 7, 'min_samples_leaf': 3, 'criterion': 'entropy'}. Best is trial 10 with value: 0.9900291185034854.\n",
            "[I 2025-04-01 18:26:47,800] Trial 27 finished with value: 0.9657636989323215 and parameters: {'n_estimators': 100, 'max_depth': 47, 'min_samples_split': 6, 'min_samples_leaf': 6, 'criterion': 'gini'}. Best is trial 10 with value: 0.9900291185034854.\n",
            "[I 2025-04-01 18:26:51,177] Trial 28 finished with value: 0.9790876202241242 and parameters: {'n_estimators': 50, 'max_depth': 33, 'min_samples_split': 3, 'min_samples_leaf': 2, 'criterion': 'gini'}. Best is trial 10 with value: 0.9900291185034854.\n",
            "[I 2025-04-01 18:26:59,764] Trial 29 finished with value: 0.9667343157151681 and parameters: {'n_estimators': 200, 'max_depth': 42, 'min_samples_split': 6, 'min_samples_leaf': 6, 'criterion': 'gini'}. Best is trial 10 with value: 0.9900291185034854.\n",
            "[I 2025-04-01 18:27:07,599] Trial 30 finished with value: 0.9698226418424072 and parameters: {'n_estimators': 150, 'max_depth': 43, 'min_samples_split': 11, 'min_samples_leaf': 3, 'criterion': 'gini'}. Best is trial 10 with value: 0.9900291185034854.\n",
            "[I 2025-04-01 18:27:10,162] Trial 31 finished with value: 0.989587929056737 and parameters: {'n_estimators': 50, 'max_depth': 50, 'min_samples_split': 2, 'min_samples_leaf': 1, 'criterion': 'gini'}. Best is trial 10 with value: 0.9900291185034854.\n",
            "[I 2025-04-01 18:27:12,690] Trial 32 finished with value: 0.9903820700608842 and parameters: {'n_estimators': 50, 'max_depth': 47, 'min_samples_split': 3, 'min_samples_leaf': 1, 'criterion': 'gini'}. Best is trial 32 with value: 0.9903820700608842.\n",
            "[I 2025-04-01 18:27:15,962] Trial 33 finished with value: 0.9670872672725669 and parameters: {'n_estimators': 50, 'max_depth': 47, 'min_samples_split': 5, 'min_samples_leaf': 5, 'criterion': 'gini'}. Best is trial 32 with value: 0.9903820700608842.\n",
            "[I 2025-04-01 18:27:20,450] Trial 34 finished with value: 0.9787346686667255 and parameters: {'n_estimators': 100, 'max_depth': 38, 'min_samples_split': 3, 'min_samples_leaf': 2, 'criterion': 'entropy'}. Best is trial 32 with value: 0.9903820700608842.\n",
            "[I 2025-04-01 18:27:22,639] Trial 35 finished with value: 0.959145857231095 and parameters: {'n_estimators': 50, 'max_depth': 43, 'min_samples_split': 4, 'min_samples_leaf': 8, 'criterion': 'gini'}. Best is trial 32 with value: 0.9903820700608842.\n",
            "[I 2025-04-01 18:27:37,059] Trial 36 finished with value: 0.9698226418424072 and parameters: {'n_estimators': 300, 'max_depth': 47, 'min_samples_split': 9, 'min_samples_leaf': 3, 'criterion': 'gini'}. Best is trial 32 with value: 0.9903820700608842.\n",
            "[I 2025-04-01 18:27:42,833] Trial 37 finished with value: 0.9863231271507985 and parameters: {'n_estimators': 100, 'max_depth': 41, 'min_samples_split': 15, 'min_samples_leaf': 1, 'criterion': 'entropy'}. Best is trial 32 with value: 0.9903820700608842.\n",
            "[I 2025-04-01 18:27:44,993] Trial 38 finished with value: 0.96338127591988 and parameters: {'n_estimators': 50, 'max_depth': 37, 'min_samples_split': 7, 'min_samples_leaf': 7, 'criterion': 'gini'}. Best is trial 32 with value: 0.9903820700608842.\n",
            "[I 2025-04-01 18:27:47,167] Trial 39 finished with value: 0.9604694255713403 and parameters: {'n_estimators': 50, 'max_depth': 24, 'min_samples_split': 3, 'min_samples_leaf': 5, 'criterion': 'gini'}. Best is trial 32 with value: 0.9903820700608842.\n",
            "[I 2025-04-01 18:27:54,161] Trial 40 finished with value: 0.9553516279890585 and parameters: {'n_estimators': 150, 'max_depth': 48, 'min_samples_split': 5, 'min_samples_leaf': 16, 'criterion': 'gini'}. Best is trial 32 with value: 0.9903820700608842.\n",
            "[I 2025-04-01 18:27:56,673] Trial 41 finished with value: 0.989587929056737 and parameters: {'n_estimators': 50, 'max_depth': 50, 'min_samples_split': 2, 'min_samples_leaf': 1, 'criterion': 'gini'}. Best is trial 32 with value: 0.9903820700608842.\n",
            "[I 2025-04-01 18:27:59,011] Trial 42 finished with value: 0.9798817612282714 and parameters: {'n_estimators': 50, 'max_depth': 45, 'min_samples_split': 3, 'min_samples_leaf': 2, 'criterion': 'gini'}. Best is trial 32 with value: 0.9903820700608842.\n",
            "[I 2025-04-01 18:28:04,708] Trial 43 finished with value: 0.9906467837289332 and parameters: {'n_estimators': 100, 'max_depth': 48, 'min_samples_split': 4, 'min_samples_leaf': 1, 'criterion': 'gini'}. Best is trial 43 with value: 0.9906467837289332.\n",
            "[I 2025-04-01 18:28:09,446] Trial 44 finished with value: 0.9700873555104562 and parameters: {'n_estimators': 100, 'max_depth': 44, 'min_samples_split': 4, 'min_samples_leaf': 3, 'criterion': 'gini'}. Best is trial 43 with value: 0.9906467837289332.\n",
            "[I 2025-04-01 18:28:13,840] Trial 45 finished with value: 0.9675284567193153 and parameters: {'n_estimators': 100, 'max_depth': 48, 'min_samples_split': 5, 'min_samples_leaf': 4, 'criterion': 'gini'}. Best is trial 43 with value: 0.9906467837289332.\n",
            "[I 2025-04-01 18:28:19,024] Trial 46 finished with value: 0.9587929056736962 and parameters: {'n_estimators': 50, 'max_depth': 44, 'min_samples_split': 8, 'min_samples_leaf': 11, 'criterion': 'entropy'}. Best is trial 43 with value: 0.9906467837289332.\n",
            "[I 2025-04-01 18:28:32,180] Trial 47 finished with value: 0.9670872672725669 and parameters: {'n_estimators': 100, 'max_depth': 16, 'min_samples_split': 10, 'min_samples_leaf': 2, 'criterion': 'gini'}. Best is trial 43 with value: 0.9906467837289332.\n",
            "[I 2025-04-01 18:28:47,000] Trial 48 finished with value: 0.967881408276714 and parameters: {'n_estimators': 200, 'max_depth': 48, 'min_samples_split': 6, 'min_samples_leaf': 4, 'criterion': 'gini'}. Best is trial 43 with value: 0.9906467837289332.\n",
            "[I 2025-04-01 18:28:49,449] Trial 49 finished with value: 0.9845583693638048 and parameters: {'n_estimators': 50, 'max_depth': 40, 'min_samples_split': 19, 'min_samples_leaf': 1, 'criterion': 'gini'}. Best is trial 43 with value: 0.9906467837289332.\n"
          ]
        },
        {
          "output_type": "stream",
          "name": "stdout",
          "text": [
            "Best parameters for Extra Trees: {'n_estimators': 100, 'max_depth': 48, 'min_samples_split': 4, 'min_samples_leaf': 1, 'criterion': 'gini'}\n",
            "Accuracy of Extra Trees: 0.9906467837289332\n",
            "Precision of Extra Trees: 0.9906637753823813\n",
            "Recall of Extra Trees: 0.9906467837289332\n",
            "F1-score of Extra Trees: 0.9906363061847749\n",
            "              precision    recall  f1-score   support\n",
            "\n",
            "           0       0.99      0.99      0.99      4547\n",
            "           1       0.95      0.97      0.96       393\n",
            "           2       0.98      0.99      0.99       554\n",
            "           3       0.99      1.00      1.00      3807\n",
            "           4       0.83      0.71      0.77         7\n",
            "           5       1.00      1.00      1.00      1589\n",
            "           6       0.98      0.96      0.97       436\n",
            "\n",
            "    accuracy                           0.99     11333\n",
            "   macro avg       0.96      0.95      0.95     11333\n",
            "weighted avg       0.99      0.99      0.99     11333\n",
            "\n"
          ]
        },
        {
          "output_type": "display_data",
          "data": {
            "text/plain": [
              "<Figure size 500x500 with 2 Axes>"
            ],
            "image/png": "[encoded data removed]"
          },
          "metadata": {}
        }
      ]
    },
    {
      "cell_type": "code",
      "source": [
        "et_train=et.predict(X_train)\n",
        "et_test=et.predict(X_test)"
      ],
      "metadata": {
        "id": "E56SS1ADBPHr"
      },
      "execution_count": null,
      "outputs": []
    },
    {
      "cell_type": "code",
      "source": [
        "best_xg_params = run_optuna(tune_xg, \"XGBoost\")\n",
        "xg = xgb.XGBClassifier(**best_xg_params, random_state=0)\n",
        "train_and_evaluate(xg, X_train, y_train, X_test, y_test, \"XGBoost\")"
      ],
      "metadata": {
        "colab": {
          "base_uri": "https://localhost:8080/",
          "height": 1000
        },
        "id": "TZFIPbcFBdcD",
        "outputId": "1053d463-0559-4b9c-bb03-7ab327b9efaa"
      },
      "execution_count": null,
      "outputs": [
        {
          "output_type": "stream",
          "name": "stderr",
          "text": [
            "[I 2025-04-01 18:29:09,534] A new study created in memory with name: no-name-5eec870b-a886-41e1-b1c7-a5f3b39456bc\n",
            "[I 2025-04-01 18:29:50,296] Trial 0 finished with value: 0.9975293390982087 and parameters: {'n_estimators': 300, 'max_depth': 10, 'learning_rate': 0.04969212006898039, 'subsample': 0.5634522762009693, 'colsample_bytree': 0.8419283393310706}. Best is trial 0 with value: 0.9975293390982087.\n",
            "[I 2025-04-01 18:29:54,955] Trial 1 finished with value: 0.9972646254301597 and parameters: {'n_estimators': 50, 'max_depth': 5, 'learning_rate': 0.2659773577386065, 'subsample': 0.5267824039936269, 'colsample_bytree': 0.8814233794717048}. Best is trial 0 with value: 0.9975293390982087.\n",
            "[I 2025-04-01 18:30:03,703] Trial 2 finished with value: 0.995235153975117 and parameters: {'n_estimators': 50, 'max_depth': 16, 'learning_rate': 0.020823899416044796, 'subsample': 0.8114273165233206, 'colsample_bytree': 0.5344664204740637}. Best is trial 0 with value: 0.9975293390982087.\n",
            "[I 2025-04-01 18:30:34,673] Trial 3 finished with value: 0.9977058148769081 and parameters: {'n_estimators': 250, 'max_depth': 4, 'learning_rate': 0.1532643268477875, 'subsample': 0.7459409146517484, 'colsample_bytree': 0.7768940080870785}. Best is trial 3 with value: 0.9977058148769081.\n",
            "[I 2025-04-01 18:31:19,001] Trial 4 finished with value: 0.9971763875408101 and parameters: {'n_estimators': 150, 'max_depth': 13, 'learning_rate': 0.05549813073433369, 'subsample': 0.9701762284115245, 'colsample_bytree': 0.5489678975888943}. Best is trial 3 with value: 0.9977058148769081.\n",
            "[I 2025-04-01 18:31:25,424] Trial 5 finished with value: 0.9955881055325156 and parameters: {'n_estimators': 50, 'max_depth': 9, 'learning_rate': 0.03254604167094749, 'subsample': 0.6445108216892218, 'colsample_bytree': 0.8400653702205232}. Best is trial 3 with value: 0.9977058148769081.\n",
            "[I 2025-04-01 18:31:55,791] Trial 6 finished with value: 0.9962940086473132 and parameters: {'n_estimators': 300, 'max_depth': 5, 'learning_rate': 0.024103106457104295, 'subsample': 0.5403786629529174, 'colsample_bytree': 0.6992861762880584}. Best is trial 3 with value: 0.9977058148769081.\n",
            "[I 2025-04-01 18:32:13,950] Trial 7 finished with value: 0.9944410129709698 and parameters: {'n_estimators': 150, 'max_depth': 7, 'learning_rate': 0.01804893204662938, 'subsample': 0.644157240916546, 'colsample_bytree': 0.9754989465094597}. Best is trial 3 with value: 0.9977058148769081.\n",
            "[I 2025-04-01 18:32:38,274] Trial 8 finished with value: 0.9975293390982087 and parameters: {'n_estimators': 300, 'max_depth': 3, 'learning_rate': 0.27681629202792996, 'subsample': 0.7594877077848567, 'colsample_bytree': 0.9477338888480749}. Best is trial 3 with value: 0.9977058148769081.\n",
            "[I 2025-04-01 18:32:45,280] Trial 9 finished with value: 0.9921468278478779 and parameters: {'n_estimators': 50, 'max_depth': 7, 'learning_rate': 0.021420203213131317, 'subsample': 0.5475795826791041, 'colsample_bytree': 0.7617861016550835}. Best is trial 3 with value: 0.9977058148769081.\n",
            "[I 2025-04-01 18:33:12,700] Trial 10 finished with value: 0.9975293390982087 and parameters: {'n_estimators': 200, 'max_depth': 20, 'learning_rate': 0.12441758344344579, 'subsample': 0.9164660186685227, 'colsample_bytree': 0.6601476594748492}. Best is trial 3 with value: 0.9977058148769081.\n",
            "[I 2025-04-01 18:33:44,324] Trial 11 finished with value: 0.9975293390982087 and parameters: {'n_estimators': 250, 'max_depth': 12, 'learning_rate': 0.07659662584098174, 'subsample': 0.6788123778130416, 'colsample_bytree': 0.7984503932811847}. Best is trial 3 with value: 0.9977058148769081.\n",
            "[I 2025-04-01 18:34:16,525] Trial 12 finished with value: 0.9976175769875585 and parameters: {'n_estimators': 250, 'max_depth': 10, 'learning_rate': 0.13651188303337436, 'subsample': 0.8573021430332537, 'colsample_bytree': 0.8880009917598148}. Best is trial 3 with value: 0.9977058148769081.\n",
            "[I 2025-04-01 18:34:42,400] Trial 13 finished with value: 0.9975293390982087 and parameters: {'n_estimators': 200, 'max_depth': 15, 'learning_rate': 0.1387021274548937, 'subsample': 0.8513846396749677, 'colsample_bytree': 0.9201736283298284}. Best is trial 3 with value: 0.9977058148769081.\n",
            "[I 2025-04-01 18:35:00,341] Trial 14 finished with value: 0.9975293390982087 and parameters: {'n_estimators': 250, 'max_depth': 3, 'learning_rate': 0.1450817517763539, 'subsample': 0.8631059250995734, 'colsample_bytree': 0.6690592674407696}. Best is trial 3 with value: 0.9977058148769081.\n",
            "[I 2025-04-01 18:35:30,685] Trial 15 finished with value: 0.9977940527662579 and parameters: {'n_estimators': 250, 'max_depth': 9, 'learning_rate': 0.17519070417682112, 'subsample': 0.7419422972148024, 'colsample_bytree': 0.7341756618701339}. Best is trial 15 with value: 0.9977940527662579.\n",
            "[I 2025-04-01 18:35:51,374] Trial 16 finished with value: 0.9977058148769081 and parameters: {'n_estimators': 200, 'max_depth': 7, 'learning_rate': 0.19934459954030243, 'subsample': 0.7337134140419697, 'colsample_bytree': 0.6195606911584736}. Best is trial 15 with value: 0.9977940527662579.\n",
            "[I 2025-04-01 18:36:16,021] Trial 17 finished with value: 0.9977058148769081 and parameters: {'n_estimators': 250, 'max_depth': 5, 'learning_rate': 0.08684198667408066, 'subsample': 0.7464051522445639, 'colsample_bytree': 0.7224040769141238}. Best is trial 15 with value: 0.9977940527662579.\n",
            "[I 2025-04-01 18:36:30,600] Trial 18 finished with value: 0.9971763875408101 and parameters: {'n_estimators': 100, 'max_depth': 14, 'learning_rate': 0.09015357279470691, 'subsample': 0.6983162675928138, 'colsample_bytree': 0.7647164788233651}. Best is trial 15 with value: 0.9977940527662579.\n",
            "[I 2025-04-01 18:37:09,437] Trial 19 finished with value: 0.9968234359834113 and parameters: {'n_estimators': 250, 'max_depth': 17, 'learning_rate': 0.011580508711050328, 'subsample': 0.8094313288940073, 'colsample_bytree': 0.5939142650347587}. Best is trial 15 with value: 0.9977940527662579.\n",
            "[I 2025-04-01 18:37:30,158] Trial 20 finished with value: 0.9976175769875585 and parameters: {'n_estimators': 150, 'max_depth': 9, 'learning_rate': 0.19606941317394466, 'subsample': 0.5994029516433643, 'colsample_bytree': 0.8359762452380985}. Best is trial 15 with value: 0.9977940527662579.\n",
            "[I 2025-04-01 18:37:52,790] Trial 21 finished with value: 0.9977058148769081 and parameters: {'n_estimators': 200, 'max_depth': 7, 'learning_rate': 0.18790241944410047, 'subsample': 0.7402176803450726, 'colsample_bytree': 0.6184038958280474}. Best is trial 15 with value: 0.9977940527662579.\n",
            "[I 2025-04-01 18:38:12,557] Trial 22 finished with value: 0.9976175769875585 and parameters: {'n_estimators': 200, 'max_depth': 6, 'learning_rate': 0.20123922937153357, 'subsample': 0.7109934536424496, 'colsample_bytree': 0.6183133153012168}. Best is trial 15 with value: 0.9977940527662579.\n",
            "[I 2025-04-01 18:38:39,042] Trial 23 finished with value: 0.9976175769875585 and parameters: {'n_estimators': 250, 'max_depth': 8, 'learning_rate': 0.2258853244540797, 'subsample': 0.7891475368975753, 'colsample_bytree': 0.7242338549180113}. Best is trial 15 with value: 0.9977940527662579.\n",
            "[I 2025-04-01 18:39:03,426] Trial 24 finished with value: 0.9974411012088591 and parameters: {'n_estimators': 200, 'max_depth': 11, 'learning_rate': 0.11350545882576485, 'subsample': 0.6395734494797168, 'colsample_bytree': 0.7915931240718259}. Best is trial 15 with value: 0.9977940527662579.\n",
            "[I 2025-04-01 18:39:31,116] Trial 25 finished with value: 0.9972646254301597 and parameters: {'n_estimators': 300, 'max_depth': 4, 'learning_rate': 0.06397279022149407, 'subsample': 0.7696640090188991, 'colsample_bytree': 0.6706165482801408}. Best is trial 15 with value: 0.9977940527662579.\n",
            "[I 2025-04-01 18:39:42,347] Trial 26 finished with value: 0.9975293390982087 and parameters: {'n_estimators': 100, 'max_depth': 8, 'learning_rate': 0.17239821836176913, 'subsample': 0.7119920001580261, 'colsample_bytree': 0.5674685645734187}. Best is trial 15 with value: 0.9977940527662579.\n",
            "[I 2025-04-01 18:40:11,317] Trial 27 finished with value: 0.9977058148769081 and parameters: {'n_estimators': 250, 'max_depth': 6, 'learning_rate': 0.09929873941789956, 'subsample': 0.6740359524386224, 'colsample_bytree': 0.6413502407688371}. Best is trial 15 with value: 0.9977940527662579.\n",
            "[I 2025-04-01 18:40:28,485] Trial 28 finished with value: 0.9975293390982087 and parameters: {'n_estimators': 200, 'max_depth': 4, 'learning_rate': 0.2924949852792442, 'subsample': 0.6065966184796898, 'colsample_bytree': 0.5133355639535118}. Best is trial 15 with value: 0.9977940527662579.\n",
            "[I 2025-04-01 18:41:08,237] Trial 29 finished with value: 0.9974411012088591 and parameters: {'n_estimators': 300, 'max_depth': 11, 'learning_rate': 0.035511667624514076, 'subsample': 0.7292665115548829, 'colsample_bytree': 0.7095619449697276}. Best is trial 15 with value: 0.9977940527662579.\n",
            "[I 2025-04-01 18:41:29,910] Trial 30 finished with value: 0.9970881496514603 and parameters: {'n_estimators': 150, 'max_depth': 10, 'learning_rate': 0.043402762900679404, 'subsample': 0.825623463799996, 'colsample_bytree': 0.8104706198259533}. Best is trial 15 with value: 0.9977940527662579.\n",
            "[I 2025-04-01 18:41:57,347] Trial 31 finished with value: 0.9975293390982087 and parameters: {'n_estimators': 250, 'max_depth': 5, 'learning_rate': 0.07517940863040548, 'subsample': 0.7424589586692832, 'colsample_bytree': 0.7433362406105235}. Best is trial 15 with value: 0.9977940527662579.\n",
            "[I 2025-04-01 18:42:23,351] Trial 32 finished with value: 0.9977058148769081 and parameters: {'n_estimators': 250, 'max_depth': 6, 'learning_rate': 0.15966443832354432, 'subsample': 0.7736778723855513, 'colsample_bytree': 0.7298635374269007}. Best is trial 15 with value: 0.9977940527662579.\n",
            "[I 2025-04-01 18:42:49,694] Trial 33 finished with value: 0.9977940527662579 and parameters: {'n_estimators': 300, 'max_depth': 4, 'learning_rate': 0.23320253155731496, 'subsample': 0.6849584977944623, 'colsample_bytree': 0.6930327675207005}. Best is trial 15 with value: 0.9977940527662579.\n",
            "[I 2025-04-01 18:43:13,460] Trial 34 finished with value: 0.9975293390982087 and parameters: {'n_estimators': 300, 'max_depth': 3, 'learning_rate': 0.2266893653741931, 'subsample': 0.6783831011275366, 'colsample_bytree': 0.6851821866567043}. Best is trial 15 with value: 0.9977940527662579.\n",
            "[I 2025-04-01 18:43:42,433] Trial 35 finished with value: 0.9977940527662579 and parameters: {'n_estimators': 300, 'max_depth': 8, 'learning_rate': 0.23858601129395274, 'subsample': 0.5910215164249176, 'colsample_bytree': 0.7745123077751805}. Best is trial 15 with value: 0.9977940527662579.\n",
            "[I 2025-04-01 18:44:13,728] Trial 36 finished with value: 0.9976175769875585 and parameters: {'n_estimators': 300, 'max_depth': 9, 'learning_rate': 0.23757834203403136, 'subsample': 0.5989249331619059, 'colsample_bytree': 0.8692995595337836}. Best is trial 15 with value: 0.9977940527662579.\n",
            "[I 2025-04-01 18:44:38,693] Trial 37 finished with value: 0.9975293390982087 and parameters: {'n_estimators': 300, 'max_depth': 4, 'learning_rate': 0.2973190151434057, 'subsample': 0.5765603021477492, 'colsample_bytree': 0.7604906659909612}. Best is trial 15 with value: 0.9977940527662579.\n",
            "[I 2025-04-01 18:45:10,637] Trial 38 finished with value: 0.9977058148769081 and parameters: {'n_estimators': 300, 'max_depth': 8, 'learning_rate': 0.11208680479381239, 'subsample': 0.6219592830105597, 'colsample_bytree': 0.7843222953322205}. Best is trial 15 with value: 0.9977940527662579.\n",
            "[I 2025-04-01 18:45:41,214] Trial 39 finished with value: 0.9975293390982087 and parameters: {'n_estimators': 300, 'max_depth': 13, 'learning_rate': 0.24436274171512035, 'subsample': 0.5189374232953325, 'colsample_bytree': 0.841002269388779}. Best is trial 15 with value: 0.9977940527662579.\n",
            "[I 2025-04-01 18:46:12,808] Trial 40 finished with value: 0.9975293390982087 and parameters: {'n_estimators': 300, 'max_depth': 6, 'learning_rate': 0.15848318252087698, 'subsample': 0.6597600512718772, 'colsample_bytree': 0.8252768481642514}. Best is trial 15 with value: 0.9977940527662579.\n",
            "[I 2025-04-01 18:46:38,562] Trial 41 finished with value: 0.9977058148769081 and parameters: {'n_estimators': 250, 'max_depth': 7, 'learning_rate': 0.2074891953792831, 'subsample': 0.7987545865582936, 'colsample_bytree': 0.6382477601135897}. Best is trial 15 with value: 0.9977940527662579.\n",
            "[I 2025-04-01 18:47:05,033] Trial 42 finished with value: 0.9976175769875585 and parameters: {'n_estimators': 250, 'max_depth': 10, 'learning_rate': 0.17587772497756013, 'subsample': 0.9916360208770747, 'colsample_bytree': 0.6868269837296795}. Best is trial 15 with value: 0.9977940527662579.\n",
            "[I 2025-04-01 18:47:30,339] Trial 43 finished with value: 0.9977940527662579 and parameters: {'n_estimators': 300, 'max_depth': 4, 'learning_rate': 0.26226099109375695, 'subsample': 0.5639699421620115, 'colsample_bytree': 0.7755636035287573}. Best is trial 15 with value: 0.9977940527662579.\n",
            "[I 2025-04-01 18:47:57,764] Trial 44 finished with value: 0.9977058148769081 and parameters: {'n_estimators': 300, 'max_depth': 4, 'learning_rate': 0.2556439318515591, 'subsample': 0.5672705518596401, 'colsample_bytree': 0.7697330063496428}. Best is trial 15 with value: 0.9977940527662579.\n",
            "[I 2025-04-01 18:48:21,163] Trial 45 finished with value: 0.9976175769875585 and parameters: {'n_estimators': 300, 'max_depth': 3, 'learning_rate': 0.2626409866008287, 'subsample': 0.5101963553050296, 'colsample_bytree': 0.868880276271677}. Best is trial 15 with value: 0.9977940527662579.\n",
            "[I 2025-04-01 18:48:50,453] Trial 46 finished with value: 0.9976175769875585 and parameters: {'n_estimators': 300, 'max_depth': 5, 'learning_rate': 0.12692573693812673, 'subsample': 0.5313588631559789, 'colsample_bytree': 0.7433505572495098}. Best is trial 15 with value: 0.9977940527662579.\n",
            "[I 2025-04-01 18:49:15,371] Trial 47 finished with value: 0.9974411012088591 and parameters: {'n_estimators': 250, 'max_depth': 5, 'learning_rate': 0.15621650933423573, 'subsample': 0.5772776210008437, 'colsample_bytree': 0.8118692116932702}. Best is trial 15 with value: 0.9977940527662579.\n",
            "[I 2025-04-01 18:49:46,920] Trial 48 finished with value: 0.9977058148769081 and parameters: {'n_estimators': 300, 'max_depth': 9, 'learning_rate': 0.22929643399239644, 'subsample': 0.8874116267119658, 'colsample_bytree': 0.7061116998176515}. Best is trial 15 with value: 0.9977940527662579.\n",
            "[I 2025-04-01 18:50:05,345] Trial 49 finished with value: 0.9975293390982087 and parameters: {'n_estimators': 250, 'max_depth': 3, 'learning_rate': 0.29826560718447664, 'subsample': 0.6380050488073266, 'colsample_bytree': 0.77913555189798}. Best is trial 15 with value: 0.9977940527662579.\n"
          ]
        },
        {
          "output_type": "stream",
          "name": "stdout",
          "text": [
            "Best parameters for XGBoost: {'n_estimators': 250, 'max_depth': 9, 'learning_rate': 0.17519070417682112, 'subsample': 0.7419422972148024, 'colsample_bytree': 0.7341756618701339}\n",
            "Accuracy of XGBoost: 0.9977940527662579\n",
            "Precision of XGBoost: 0.9977928487216056\n",
            "Recall of XGBoost: 0.9977940527662579\n",
            "F1-score of XGBoost: 0.9977764513344796\n",
            "              precision    recall  f1-score   support\n",
            "\n",
            "           0       1.00      1.00      1.00      4547\n",
            "           1       0.99      0.98      0.99       393\n",
            "           2       1.00      1.00      1.00       554\n",
            "           3       1.00      1.00      1.00      3807\n",
            "           4       1.00      0.71      0.83         7\n",
            "           5       1.00      1.00      1.00      1589\n",
            "           6       1.00      1.00      1.00       436\n",
            "\n",
            "    accuracy                           1.00     11333\n",
            "   macro avg       1.00      0.96      0.97     11333\n",
            "weighted avg       1.00      1.00      1.00     11333\n",
            "\n"
          ]
        },
        {
          "output_type": "display_data",
          "data": {
            "text/plain": [
              "<Figure size 500x500 with 2 Axes>"
            ],
            "image/png": "[encoded data removed]"
          },
          "metadata": {}
        }
      ]
    },
    {
      "cell_type": "code",
      "source": [
        "xg_train=xg.predict(X_train)\n",
        "xg_test=xg.predict(X_test)"
      ],
      "metadata": {
        "id": "ZoOHJUJdBgGL"
      },
      "execution_count": null,
      "outputs": []
    },
    {
      "cell_type": "code",
      "source": [
        "# Use the outputs of 4 base models to construct a new ensemble model\n",
        "base_predictions_train = pd.DataFrame( {\n",
        "    'DecisionTree': dt_train.ravel(),\n",
        "        'RandomForest': rf_train.ravel(),\n",
        "     'ExtraTrees': et_train.ravel(),\n",
        "     'XgBoost': xg_train.ravel(),\n",
        "    })\n",
        "base_predictions_train.head(5)"
      ],
      "metadata": {
        "colab": {
          "base_uri": "https://localhost:8080/",
          "height": 206
        },
        "id": "uEf183-tBkXq",
        "outputId": "bb7bfa96-32ca-47fb-8025-c1601931446e"
      },
      "execution_count": null,
      "outputs": [
        {
          "output_type": "execute_result",
          "data": {
            "text/plain": [
              "   DecisionTree  RandomForest  ExtraTrees  XgBoost\n",
              "0             5             5           5        5\n",
              "1             3             3           3        3\n",
              "2             5             5           5        5\n",
              "3             3             3           3        3\n",
              "4             2             2           2        2"
            ],
            "text/html": [
              "\n",
              "  <div id=\"df-f543e70d-649d-45ba-8d30-0b269cab004b\" class=\"colab-df-container\">\n",
              "    <div>\n",
              "<style scoped>\n",
              "    .dataframe tbody tr th:only-of-type {\n",
              "        vertical-align: middle;\n",
              "    }\n",
              "\n",
              "    .dataframe tbody tr th {\n",
              "        vertical-align: top;\n",
              "    }\n",
              "\n",
              "    .dataframe thead th {\n",
              "        text-align: right;\n",
              "    }\n",
              "</style>\n",
              "<table border=\"1\" class=\"dataframe\">\n",
              "  <thead>\n",
              "    <tr style=\"text-align: right;\">\n",
              "      <th></th>\n",
              "      <th>DecisionTree</th>\n",
              "      <th>RandomForest</th>\n",
              "      <th>ExtraTrees</th>\n",
              "      <th>XgBoost</th>\n",
              "    </tr>\n",
              "  </thead>\n",
              "  <tbody>\n",
              "    <tr>\n",
              "      <th>0</th>\n",
              "      <td>5</td>\n",
              "      <td>5</td>\n",
              "      <td>5</td>\n",
              "      <td>5</td>\n",
              "    </tr>\n",
              "    <tr>\n",
              "      <th>1</th>\n",
              "      <td>3</td>\n",
              "      <td>3</td>\n",
              "      <td>3</td>\n",
              "      <td>3</td>\n",
              "    </tr>\n",
              "    <tr>\n",
              "      <th>2</th>\n",
              "      <td>5</td>\n",
              "      <td>5</td>\n",
              "      <td>5</td>\n",
              "      <td>5</td>\n",
              "    </tr>\n",
              "    <tr>\n",
              "      <th>3</th>\n",
              "      <td>3</td>\n",
              "      <td>3</td>\n",
              "      <td>3</td>\n",
              "      <td>3</td>\n",
              "    </tr>\n",
              "    <tr>\n",
              "      <th>4</th>\n",
              "      <td>2</td>\n",
              "      <td>2</td>\n",
              "      <td>2</td>\n",
              "      <td>2</td>\n",
              "    </tr>\n",
              "  </tbody>\n",
              "</table>\n",
              "</div>\n",
              "    <div class=\"colab-df-buttons\">\n",
              "\n",
              "  <div class=\"colab-df-container\">\n",
              "    <button class=\"colab-df-convert\" onclick=\"convertToInteractive('df-f543e70d-649d-45ba-8d30-0b269cab004b')\"\n",
              "            title=\"Convert this dataframe to an interactive table.\"\n",
              "            style=\"display:none;\">\n",
              "\n",
              "  <svg xmlns=\"http://www.w3.org/2000/svg\" height=\"24px\" viewBox=\"0 -960 960 960\">\n",
              "    <path d=\"M120-120v-720h720v720H120Zm60-500h600v-160H180v160Zm220 220h160v-160H400v160Zm0 220h160v-160H400v160ZM180-400h160v-160H180v160Zm440 0h160v-160H620v160ZM180-180h160v-160H180v160Zm440 0h160v-160H620v160Z\"/>\n",
              "  </svg>\n",
              "    </button>\n",
              "\n",
              "  <style>\n",
              "    .colab-df-container {\n",
              "      display:flex;\n",
              "      gap: 12px;\n",
              "    }\n",
              "\n",
              "    .colab-df-convert {\n",
              "      background-color: #E8F0FE;\n",
              "      border: none;\n",
              "      border-radius: 50%;\n",
              "      cursor: pointer;\n",
              "      display: none;\n",
              "      fill: #1967D2;\n",
              "      height: 32px;\n",
              "      padding: 0 0 0 0;\n",
              "      width: 32px;\n",
              "    }\n",
              "\n",
              "    .colab-df-convert:hover {\n",
              "      background-color: #E2EBFA;\n",
              "      box-shadow: 0px 1px 2px rgba(60, 64, 67, 0.3), 0px 1px 3px 1px rgba(60, 64, 67, 0.15);\n",
              "      fill: #174EA6;\n",
              "    }\n",
              "\n",
              "    .colab-df-buttons div {\n",
              "      margin-bottom: 4px;\n",
              "    }\n",
              "\n",
              "    [theme=dark] .colab-df-convert {\n",
              "      background-color: #3B4455;\n",
              "      fill: #D2E3FC;\n",
              "    }\n",
              "\n",
              "    [theme=dark] .colab-df-convert:hover {\n",
              "      background-color: #434B5C;\n",
              "      box-shadow: 0px 1px 3px 1px rgba(0, 0, 0, 0.15);\n",
              "      filter: drop-shadow(0px 1px 2px rgba(0, 0, 0, 0.3));\n",
              "      fill: #FFFFFF;\n",
              "    }\n",
              "  </style>\n",
              "\n",
              "    <script>\n",
              "      const buttonEl =\n",
              "        document.querySelector('#df-f543e70d-649d-45ba-8d30-0b269cab004b button.colab-df-convert');\n",
              "      buttonEl.style.display =\n",
              "        google.colab.kernel.accessAllowed ? 'block' : 'none';\n",
              "\n",
              "      async function convertToInteractive(key) {\n",
              "        const element = document.querySelector('#df-f543e70d-649d-45ba-8d30-0b269cab004b');\n",
              "        const dataTable =\n",
              "          await google.colab.kernel.invokeFunction('convertToInteractive',\n",
              "                                                    [key], {});\n",
              "        if (!dataTable) return;\n",
              "\n",
              "        const docLinkHtml = 'Like what you see? Visit the ' +\n",
              "          '<a target=\"_blank\" href=https://colab.research.google.com/notebooks/data_table.ipynb>data table notebook</a>'\n",
              "          + ' to learn more about interactive tables.';\n",
              "        element.innerHTML = '';\n",
              "        dataTable['output_type'] = 'display_data';\n",
              "        await google.colab.output.renderOutput(dataTable, element);\n",
              "        const docLink = document.createElement('div');\n",
              "        docLink.innerHTML = docLinkHtml;\n",
              "        element.appendChild(docLink);\n",
              "      }\n",
              "    </script>\n",
              "  </div>\n",
              "\n",
              "\n",
              "<div id=\"df-da1de41d-d4ac-4015-a2de-a463581ebb33\">\n",
              "  <button class=\"colab-df-quickchart\" onclick=\"quickchart('df-da1de41d-d4ac-4015-a2de-a463581ebb33')\"\n",
              "            title=\"Suggest charts\"\n",
              "            style=\"display:none;\">\n",
              "\n",
              "<svg xmlns=\"http://www.w3.org/2000/svg\" height=\"24px\"viewBox=\"0 0 24 24\"\n",
              "     width=\"24px\">\n",
              "    <g>\n",
              "        <path d=\"M19 3H5c-1.1 0-2 .9-2 2v14c0 1.1.9 2 2 2h14c1.1 0 2-.9 2-2V5c0-1.1-.9-2-2-2zM9 17H7v-7h2v7zm4 0h-2V7h2v10zm4 0h-2v-4h2v4z\"/>\n",
              "    </g>\n",
              "</svg>\n",
              "  </button>\n",
              "\n",
              "<style>\n",
              "  .colab-df-quickchart {\n",
              "      --bg-color: #E8F0FE;\n",
              "      --fill-color: #1967D2;\n",
              "      --hover-bg-color: #E2EBFA;\n",
              "      --hover-fill-color: #174EA6;\n",
              "      --disabled-fill-color: #AAA;\n",
              "      --disabled-bg-color: #DDD;\n",
              "  }\n",
              "\n",
              "  [theme=dark] .colab-df-quickchart {\n",
              "      --bg-color: #3B4455;\n",
              "      --fill-color: #D2E3FC;\n",
              "      --hover-bg-color: #434B5C;\n",
              "      --hover-fill-color: #FFFFFF;\n",
              "      --disabled-bg-color: #3B4455;\n",
              "      --disabled-fill-color: #666;\n",
              "  }\n",
              "\n",
              "  .colab-df-quickchart {\n",
              "    background-color: var(--bg-color);\n",
              "    border: none;\n",
              "    border-radius: 50%;\n",
              "    cursor: pointer;\n",
              "    display: none;\n",
              "    fill: var(--fill-color);\n",
              "    height: 32px;\n",
              "    padding: 0;\n",
              "    width: 32px;\n",
              "  }\n",
              "\n",
              "  .colab-df-quickchart:hover {\n",
              "    background-color: var(--hover-bg-color);\n",
              "    box-shadow: 0 1px 2px rgba(60, 64, 67, 0.3), 0 1px 3px 1px rgba(60, 64, 67, 0.15);\n",
              "    fill: var(--button-hover-fill-color);\n",
              "  }\n",
              "\n",
              "  .colab-df-quickchart-complete:disabled,\n",
              "  .colab-df-quickchart-complete:disabled:hover {\n",
              "    background-color: var(--disabled-bg-color);\n",
              "    fill: var(--disabled-fill-color);\n",
              "    box-shadow: none;\n",
              "  }\n",
              "\n",
              "  .colab-df-spinner {\n",
              "    border: 2px solid var(--fill-color);\n",
              "    border-color: transparent;\n",
              "    border-bottom-color: var(--fill-color);\n",
              "    animation:\n",
              "      spin 1s steps(1) infinite;\n",
              "  }\n",
              "\n",
              "  @keyframes spin {\n",
              "    0% {\n",
              "      border-color: transparent;\n",
              "      border-bottom-color: var(--fill-color);\n",
              "      border-left-color: var(--fill-color);\n",
              "    }\n",
              "    20% {\n",
              "      border-color: transparent;\n",
              "      border-left-color: var(--fill-color);\n",
              "      border-top-color: var(--fill-color);\n",
              "    }\n",
              "    30% {\n",
              "      border-color: transparent;\n",
              "      border-left-color: var(--fill-color);\n",
              "      border-top-color: var(--fill-color);\n",
              "      border-right-color: var(--fill-color);\n",
              "    }\n",
              "    40% {\n",
              "      border-color: transparent;\n",
              "      border-right-color: var(--fill-color);\n",
              "      border-top-color: var(--fill-color);\n",
              "    }\n",
              "    60% {\n",
              "      border-color: transparent;\n",
              "      border-right-color: var(--fill-color);\n",
              "    }\n",
              "    80% {\n",
              "      border-color: transparent;\n",
              "      border-right-color: var(--fill-color);\n",
              "      border-bottom-color: var(--fill-color);\n",
              "    }\n",
              "    90% {\n",
              "      border-color: transparent;\n",
              "      border-bottom-color: var(--fill-color);\n",
              "    }\n",
              "  }\n",
              "</style>\n",
              "\n",
              "  <script>\n",
              "    async function quickchart(key) {\n",
              "      const quickchartButtonEl =\n",
              "        document.querySelector('#' + key + ' button');\n",
              "      quickchartButtonEl.disabled = true;  // To prevent multiple clicks.\n",
              "      quickchartButtonEl.classList.add('colab-df-spinner');\n",
              "      try {\n",
              "        const charts = await google.colab.kernel.invokeFunction(\n",
              "            'suggestCharts', [key], {});\n",
              "      } catch (error) {\n",
              "        console.error('Error during call to suggestCharts:', error);\n",
              "      }\n",
              "      quickchartButtonEl.classList.remove('colab-df-spinner');\n",
              "      quickchartButtonEl.classList.add('colab-df-quickchart-complete');\n",
              "    }\n",
              "    (() => {\n",
              "      let quickchartButtonEl =\n",
              "        document.querySelector('#df-da1de41d-d4ac-4015-a2de-a463581ebb33 button');\n",
              "      quickchartButtonEl.style.display =\n",
              "        google.colab.kernel.accessAllowed ? 'block' : 'none';\n",
              "    })();\n",
              "  </script>\n",
              "</div>\n",
              "\n",
              "    </div>\n",
              "  </div>\n"
            ],
            "application/vnd.google.colaboratory.intrinsic+json": {
              "type": "dataframe",
              "variable_name": "base_predictions_train",
              "summary": "{\n  \"name\": \"base_predictions_train\",\n  \"rows\": 46799,\n  \"fields\": [\n    {\n      \"column\": \"DecisionTree\",\n      \"properties\": {\n        \"dtype\": \"number\",\n        \"std\": 1,\n        \"min\": 0,\n        \"max\": 6,\n        \"num_unique_values\": 7,\n        \"samples\": [\n          5,\n          3,\n          1\n        ],\n        \"semantic_type\": \"\",\n        \"description\": \"\"\n      }\n    },\n    {\n      \"column\": \"RandomForest\",\n      \"properties\": {\n        \"dtype\": \"number\",\n        \"std\": 1,\n        \"min\": 0,\n        \"max\": 6,\n        \"num_unique_values\": 7,\n        \"samples\": [\n          5,\n          3,\n          1\n        ],\n        \"semantic_type\": \"\",\n        \"description\": \"\"\n      }\n    },\n    {\n      \"column\": \"ExtraTrees\",\n      \"properties\": {\n        \"dtype\": \"number\",\n        \"std\": 1,\n        \"min\": 0,\n        \"max\": 6,\n        \"num_unique_values\": 7,\n        \"samples\": [\n          5,\n          3,\n          1\n        ],\n        \"semantic_type\": \"\",\n        \"description\": \"\"\n      }\n    },\n    {\n      \"column\": \"XgBoost\",\n      \"properties\": {\n        \"dtype\": \"number\",\n        \"std\": 1,\n        \"min\": 0,\n        \"max\": 6,\n        \"num_unique_values\": 7,\n        \"samples\": [\n          5,\n          3,\n          1\n        ],\n        \"semantic_type\": \"\",\n        \"description\": \"\"\n      }\n    }\n  ]\n}"
            }
          },
          "metadata": {},
          "execution_count": 26
        }
      ]
    },
    {
      "cell_type": "code",
      "source": [
        "dt_train=dt_train.reshape(-1, 1)\n",
        "et_train=et_train.reshape(-1, 1)\n",
        "rf_train=rf_train.reshape(-1, 1)\n",
        "xg_train=xg_train.reshape(-1, 1)\n",
        "dt_test=dt_test.reshape(-1, 1)\n",
        "et_test=et_test.reshape(-1, 1)\n",
        "rf_test=rf_test.reshape(-1, 1)\n",
        "xg_test=xg_test.reshape(-1, 1)"
      ],
      "metadata": {
        "id": "stYGThp_G0bW"
      },
      "execution_count": null,
      "outputs": []
    },
    {
      "cell_type": "code",
      "source": [
        "x_train = np.concatenate(( dt_train, et_train, rf_train, xg_train), axis=1)\n",
        "x_test = np.concatenate(( dt_test, et_test, rf_test, xg_test), axis=1)"
      ],
      "metadata": {
        "id": "WHZt6QigG6sF"
      },
      "execution_count": null,
      "outputs": []
    },
    {
      "cell_type": "code",
      "source": [
        "stk = xgb.XGBClassifier().fit(x_train, y_train)"
      ],
      "metadata": {
        "id": "5tYjGDbBHXMV"
      },
      "execution_count": null,
      "outputs": []
    },
    {
      "cell_type": "code",
      "source": [
        "y_predict=stk.predict(x_test)\n",
        "y_true=y_test\n",
        "stk_score=accuracy_score(y_true,y_predict)\n",
        "print('Accuracy of Stacking: '+ str(stk_score))\n",
        "precision,recall,fscore,none= precision_recall_fscore_support(y_true, y_predict, average='weighted')\n",
        "print('Precision of Stacking: '+(str(precision)))\n",
        "print('Recall of Stacking: '+(str(recall)))\n",
        "print('F1-score of Stacking: '+(str(fscore)))\n",
        "print(classification_report(y_true,y_predict))\n",
        "cm=confusion_matrix(y_true,y_predict)\n",
        "f,ax=plt.subplots(figsize=(5,5))\n",
        "sns.heatmap(cm,annot=True,linewidth=0.5,linecolor=\"red\",fmt=\".0f\",ax=ax)\n",
        "plt.xlabel(\"y_pred\")\n",
        "plt.ylabel(\"y_true\")\n",
        "plt.show()"
      ],
      "metadata": {
        "colab": {
          "base_uri": "https://localhost:8080/",
          "height": 777
        },
        "id": "Pm7nsRKjH04B",
        "outputId": "8da33aeb-0c88-496d-d2fe-b4f24efd078f"
      },
      "execution_count": null,
      "outputs": [
        {
          "output_type": "stream",
          "name": "stdout",
          "text": [
            "Accuracy of Stacking: 0.9960292949792641\n",
            "Precision of Stacking: 0.9960511072574638\n",
            "Recall of Stacking: 0.9960292949792641\n",
            "F1-score of Stacking: 0.9960211364085831\n",
            "              precision    recall  f1-score   support\n",
            "\n",
            "           0       1.00      0.99      1.00      4547\n",
            "           1       0.96      0.98      0.97       393\n",
            "           2       1.00      1.00      1.00       554\n",
            "           3       1.00      1.00      1.00      3807\n",
            "           4       1.00      0.71      0.83         7\n",
            "           5       1.00      1.00      1.00      1589\n",
            "           6       1.00      1.00      1.00       436\n",
            "\n",
            "    accuracy                           1.00     11333\n",
            "   macro avg       0.99      0.95      0.97     11333\n",
            "weighted avg       1.00      1.00      1.00     11333\n",
            "\n"
          ]
        },
        {
          "output_type": "display_data",
          "data": {
            "text/plain": [
              "<Figure size 500x500 with 2 Axes>"
            ],
            "image/png": "[encoded data removed]"
          },
          "metadata": {}
        }
      ]
    },
    {
      "cell_type": "code",
      "source": [
        "# Save the feature importance lists generated by four tree-based algorithms\n",
        "dt_feature = dt.feature_importances_\n",
        "rf_feature = rf.feature_importances_\n",
        "et_feature = et.feature_importances_\n",
        "xgb_feature = xg.feature_importances_"
      ],
      "metadata": {
        "id": "FAe3JTpWIFjM"
      },
      "execution_count": null,
      "outputs": []
    },
    {
      "cell_type": "code",
      "source": [
        "avg_feature = (dt_feature + rf_feature + et_feature + xgb_feature)/4"
      ],
      "metadata": {
        "id": "DT8J8ukPIhhr"
      },
      "execution_count": null,
      "outputs": []
    },
    {
      "cell_type": "code",
      "source": [
        "feature=(df.drop(['Label'],axis=1)).columns.values\n",
        "print (\"Features sorted by their score:\")\n",
        "print (sorted(zip(map(lambda x: round(x, 4), avg_feature), feature), reverse=True))"
      ],
      "metadata": {
        "colab": {
          "base_uri": "https://localhost:8080/"
        },
        "id": "2dcV9BbiJLnz",
        "outputId": "4a701845-193a-419c-a471-74e4c467af7d"
      },
      "execution_count": null,
      "outputs": [
        {
          "output_type": "stream",
          "name": "stdout",
          "text": [
            "Features sorted by their score:\n",
            "[(np.float64(0.106), 'Bwd Packet Length Min'), (np.float64(0.0844), 'Bwd Packet Length Std'), (np.float64(0.0597), 'Packet Length Mean'), (np.float64(0.0499), 'Init_Win_bytes_forward'), (np.float64(0.0416), 'PSH Flag Count'), (np.float64(0.0336), 'Init_Win_bytes_backward'), (np.float64(0.0313), 'Bwd Packets/s'), (np.float64(0.03), 'Bwd Packet Length Mean'), (np.float64(0.0257), 'Total Backward Packets'), (np.float64(0.0248), 'Average Packet Size'), (np.float64(0.0238), 'Packet Length Std'), (np.float64(0.0236), 'Max Packet Length'), (np.float64(0.0231), 'Avg Bwd Segment Size'), (np.float64(0.0222), 'Fwd Header Length'), (np.float64(0.0199), 'Bwd Packet Length Max'), (np.float64(0.0196), 'Fwd Header Length.1'), (np.float64(0.0195), 'Fwd Packet Length Min'), (np.float64(0.017), 'Total Length of Fwd Packets'), (np.float64(0.0162), 'min_seg_size_forward'), (np.float64(0.0157), 'Fwd IAT Min'), (np.float64(0.0156), 'ACK Flag Count'), (np.float64(0.0154), 'Packet Length Variance'), (np.float64(0.0145), 'Fwd PSH Flags'), (np.float64(0.0142), 'Total Fwd Packets'), (np.float64(0.0134), 'Bwd Header Length'), (np.float64(0.0133), 'Subflow Fwd Bytes'), (np.float64(0.0117), 'act_data_pkt_fwd'), (np.float64(0.0115), 'Fwd IAT Max'), (np.float64(0.011), 'Min Packet Length'), (np.float64(0.0099), 'Subflow Bwd Packets'), (np.float64(0.0099), 'Down/Up Ratio'), (np.float64(0.0098), 'Fwd Packet Length Mean'), (np.float64(0.0088), 'Fwd Packet Length Max'), (np.float64(0.0083), 'Avg Fwd Segment Size'), (np.float64(0.0082), 'Subflow Bwd Bytes'), (np.float64(0.008), 'Subflow Fwd Packets'), (np.float64(0.0076), 'Idle Max'), (np.float64(0.0076), 'Flow IAT Max'), (np.float64(0.0074), 'Total Length of Bwd Packets'), (np.float64(0.0074), 'Fwd IAT Std'), (np.float64(0.0074), 'Flow Duration'), (np.float64(0.0073), 'FIN Flag Count'), (np.float64(0.0071), 'SYN Flag Count'), (np.float64(0.0071), 'Fwd IAT Total'), (np.float64(0.007), 'URG Flag Count'), (np.float64(0.0069), 'Flow IAT Std'), (np.float64(0.0068), 'Fwd IAT Mean'), (np.float64(0.0067), 'Flow IAT Mean'), (np.float64(0.0058), 'Fwd Packets/s'), (np.float64(0.0048), 'Flow IAT Min'), (np.float64(0.0047), 'Fwd Packet Length Std'), (np.float64(0.0042), 'Bwd IAT Total'), (np.float64(0.0036), 'Bwd IAT Mean'), (np.float64(0.0035), 'Idle Mean'), (np.float64(0.003), 'Bwd IAT Std'), (np.float64(0.003), 'Bwd IAT Max'), (np.float64(0.0028), 'Idle Min'), (np.float64(0.0026), 'Bwd IAT Min'), (np.float64(0.0013), 'Active Min'), (np.float64(0.0013), 'Active Mean'), (np.float64(0.001), 'Idle Std'), (np.float64(0.0008), 'Active Max'), (np.float64(0.0004), 'Active Std'), (np.float64(0.0), 'RST Flag Count'), (np.float64(0.0), 'Fwd URG Flags'), (np.float64(0.0), 'Fwd Avg Packets/Bulk'), (np.float64(0.0), 'Fwd Avg Bytes/Bulk'), (np.float64(0.0), 'Fwd Avg Bulk Rate'), (np.float64(0.0), 'Flow Packets/s'), (np.float64(0.0), 'Flow Bytes/s'), (np.float64(0.0), 'ECE Flag Count'), (np.float64(0.0), 'CWE Flag Count'), (np.float64(0.0), 'Bwd URG Flags'), (np.float64(0.0), 'Bwd PSH Flags'), (np.float64(0.0), 'Bwd Avg Packets/Bulk'), (np.float64(0.0), 'Bwd Avg Bytes/Bulk'), (np.float64(0.0), 'Bwd Avg Bulk Rate')]\n"
          ]
        }
      ]
    },
    {
      "cell_type": "code",
      "source": [
        "f_list = sorted(zip(map(lambda x: round(x, 4), avg_feature), feature), reverse=True)"
      ],
      "metadata": {
        "id": "-CE5Gy4IJSPy"
      },
      "execution_count": null,
      "outputs": []
    },
    {
      "cell_type": "code",
      "source": [
        "len(f_list)"
      ],
      "metadata": {
        "colab": {
          "base_uri": "https://localhost:8080/"
        },
        "id": "OFWKL3LQKL8z",
        "outputId": "c66d4113-f791-450e-a683-81f9340164ac"
      },
      "execution_count": null,
      "outputs": [
        {
          "output_type": "execute_result",
          "data": {
            "text/plain": [
              "77"
            ]
          },
          "metadata": {},
          "execution_count": 35
        }
      ]
    },
    {
      "cell_type": "code",
      "source": [
        "# Select the important features from top-importance to bottom-importance until the accumulated importance reaches 0.9 (out of 1)\n",
        "Sum = 0\n",
        "fs = []\n",
        "for i in range(0, len(f_list)):\n",
        "    Sum = Sum + f_list[i][0]\n",
        "    fs.append(f_list[i][1])\n",
        "    if Sum>=0.9:\n",
        "        break"
      ],
      "metadata": {
        "id": "577yLrxnKN_5"
      },
      "execution_count": null,
      "outputs": []
    },
    {
      "cell_type": "code",
      "source": [
        "X_fs = df[fs].values\n"
      ],
      "metadata": {
        "id": "bFkPt6jAK9H4"
      },
      "execution_count": null,
      "outputs": []
    },
    {
      "cell_type": "code",
      "source": [
        "X_train, X_test, y_train, y_test = train_test_split(X_fs,y, train_size = 0.8, test_size = 0.2, random_state = 0,stratify = y)"
      ],
      "metadata": {
        "id": "Hw0bIgO9LAAI"
      },
      "execution_count": null,
      "outputs": []
    },
    {
      "cell_type": "code",
      "source": [
        "X_train.shape"
      ],
      "metadata": {
        "colab": {
          "base_uri": "https://localhost:8080/"
        },
        "id": "N9w5jNwmLEcB",
        "outputId": "8887c487-6af8-4785-9e36-306c83bbc4c2"
      },
      "execution_count": null,
      "outputs": [
        {
          "output_type": "execute_result",
          "data": {
            "text/plain": [
              "(45328, 40)"
            ]
          },
          "metadata": {},
          "execution_count": 39
        }
      ]
    },
    {
      "cell_type": "code",
      "source": [
        "pd.Series(y_train).value_counts()"
      ],
      "metadata": {
        "colab": {
          "base_uri": "https://localhost:8080/",
          "height": 303
        },
        "id": "U67m6VpuNe_l",
        "outputId": "932483ed-8b77-4e02-d1ff-e884a8f92a89"
      },
      "execution_count": null,
      "outputs": [
        {
          "output_type": "execute_result",
          "data": {
            "text/plain": [
              "0    18184\n",
              "3    15228\n",
              "5     6357\n",
              "2     2213\n",
              "6     1744\n",
              "1     1573\n",
              "4       29\n",
              "Name: count, dtype: int64"
            ],
            "text/html": [
              "<div>\n",
              "<style scoped>\n",
              "    .dataframe tbody tr th:only-of-type {\n",
              "        vertical-align: middle;\n",
              "    }\n",
              "\n",
              "    .dataframe tbody tr th {\n",
              "        vertical-align: top;\n",
              "    }\n",
              "\n",
              "    .dataframe thead th {\n",
              "        text-align: right;\n",
              "    }\n",
              "</style>\n",
              "<table border=\"1\" class=\"dataframe\">\n",
              "  <thead>\n",
              "    <tr style=\"text-align: right;\">\n",
              "      <th></th>\n",
              "      <th>count</th>\n",
              "    </tr>\n",
              "  </thead>\n",
              "  <tbody>\n",
              "    <tr>\n",
              "      <th>0</th>\n",
              "      <td>18184</td>\n",
              "    </tr>\n",
              "    <tr>\n",
              "      <th>3</th>\n",
              "      <td>15228</td>\n",
              "    </tr>\n",
              "    <tr>\n",
              "      <th>5</th>\n",
              "      <td>6357</td>\n",
              "    </tr>\n",
              "    <tr>\n",
              "      <th>2</th>\n",
              "      <td>2213</td>\n",
              "    </tr>\n",
              "    <tr>\n",
              "      <th>6</th>\n",
              "      <td>1744</td>\n",
              "    </tr>\n",
              "    <tr>\n",
              "      <th>1</th>\n",
              "      <td>1573</td>\n",
              "    </tr>\n",
              "    <tr>\n",
              "      <th>4</th>\n",
              "      <td>29</td>\n",
              "    </tr>\n",
              "  </tbody>\n",
              "</table>\n",
              "</div><br><label><b>dtype:</b> int64</label>"
            ]
          },
          "metadata": {},
          "execution_count": 40
        }
      ]
    },
    {
      "cell_type": "code",
      "source": [
        "from imblearn.over_sampling import SMOTE\n",
        "smote=SMOTE(sampling_strategy={4:1500})"
      ],
      "metadata": {
        "id": "mK7wv-0YPuxD"
      },
      "execution_count": null,
      "outputs": []
    },
    {
      "cell_type": "code",
      "source": [
        "y_train = y_train.astype(int)\n",
        "y_test = y_test.astype(int)\n"
      ],
      "metadata": {
        "id": "QwfZlNBiQDD0"
      },
      "execution_count": null,
      "outputs": []
    },
    {
      "cell_type": "code",
      "source": [
        "X_train, y_train = smote.fit_resample(X_train, y_train)"
      ],
      "metadata": {
        "id": "8Hp5y187PxNj"
      },
      "execution_count": null,
      "outputs": []
    },
    {
      "cell_type": "code",
      "source": [
        "pd.Series(y_train).value_counts()"
      ],
      "metadata": {
        "colab": {
          "base_uri": "https://localhost:8080/",
          "height": 303
        },
        "id": "V8dcGTVLP2Sr",
        "outputId": "9b4dc641-dcc5-4518-aa4a-f62daa024bb7"
      },
      "execution_count": null,
      "outputs": [
        {
          "output_type": "execute_result",
          "data": {
            "text/plain": [
              "0    18184\n",
              "3    15228\n",
              "5     6357\n",
              "2     2213\n",
              "6     1744\n",
              "1     1573\n",
              "4     1500\n",
              "Name: count, dtype: int64"
            ],
            "text/html": [
              "<div>\n",
              "<style scoped>\n",
              "    .dataframe tbody tr th:only-of-type {\n",
              "        vertical-align: middle;\n",
              "    }\n",
              "\n",
              "    .dataframe tbody tr th {\n",
              "        vertical-align: top;\n",
              "    }\n",
              "\n",
              "    .dataframe thead th {\n",
              "        text-align: right;\n",
              "    }\n",
              "</style>\n",
              "<table border=\"1\" class=\"dataframe\">\n",
              "  <thead>\n",
              "    <tr style=\"text-align: right;\">\n",
              "      <th></th>\n",
              "      <th>count</th>\n",
              "    </tr>\n",
              "  </thead>\n",
              "  <tbody>\n",
              "    <tr>\n",
              "      <th>0</th>\n",
              "      <td>18184</td>\n",
              "    </tr>\n",
              "    <tr>\n",
              "      <th>3</th>\n",
              "      <td>15228</td>\n",
              "    </tr>\n",
              "    <tr>\n",
              "      <th>5</th>\n",
              "      <td>6357</td>\n",
              "    </tr>\n",
              "    <tr>\n",
              "      <th>2</th>\n",
              "      <td>2213</td>\n",
              "    </tr>\n",
              "    <tr>\n",
              "      <th>6</th>\n",
              "      <td>1744</td>\n",
              "    </tr>\n",
              "    <tr>\n",
              "      <th>1</th>\n",
              "      <td>1573</td>\n",
              "    </tr>\n",
              "    <tr>\n",
              "      <th>4</th>\n",
              "      <td>1500</td>\n",
              "    </tr>\n",
              "  </tbody>\n",
              "</table>\n",
              "</div><br><label><b>dtype:</b> int64</label>"
            ]
          },
          "metadata": {},
          "execution_count": 44
        }
      ]
    },
    {
      "cell_type": "code",
      "source": [
        "best_dt_params = run_optuna(tune_dt, \"Decision Tree\")\n",
        "dt = DecisionTreeClassifier(**best_dt_params, random_state=0)\n",
        "train_and_evaluate(dt, X_train, y_train, X_test, y_test, \"Decision Tree\")\n"
      ],
      "metadata": {
        "colab": {
          "base_uri": "https://localhost:8080/",
          "height": 1000
        },
        "id": "KkV-eVcpQGN6",
        "outputId": "390bb6b6-2366-4c0c-81ba-7213cdf88d8d"
      },
      "execution_count": null,
      "outputs": [
        {
          "output_type": "stream",
          "name": "stderr",
          "text": [
            "[I 2025-04-01 18:50:40,336] A new study created in memory with name: no-name-ff33b7d4-695d-4c65-838f-696d88648534\n",
            "[I 2025-04-01 18:50:41,081] Trial 0 finished with value: 0.9902055942821848 and parameters: {'max_depth': 29, 'min_samples_split': 16, 'min_samples_leaf': 18, 'criterion': 'entropy'}. Best is trial 0 with value: 0.9902055942821848.\n",
            "[I 2025-04-01 18:50:41,783] Trial 1 finished with value: 0.9902055942821848 and parameters: {'max_depth': 24, 'min_samples_split': 6, 'min_samples_leaf': 18, 'criterion': 'entropy'}. Best is trial 0 with value: 0.9902055942821848.\n",
            "[I 2025-04-01 18:50:42,326] Trial 2 finished with value: 0.9701755933998059 and parameters: {'max_depth': 7, 'min_samples_split': 2, 'min_samples_leaf': 18, 'criterion': 'gini'}. Best is trial 0 with value: 0.9902055942821848.\n",
            "[I 2025-04-01 18:50:43,039] Trial 3 finished with value: 0.9902055942821848 and parameters: {'max_depth': 24, 'min_samples_split': 3, 'min_samples_leaf': 18, 'criterion': 'entropy'}. Best is trial 0 with value: 0.9902055942821848.\n",
            "[I 2025-04-01 18:50:43,688] Trial 4 finished with value: 0.993823347745522 and parameters: {'max_depth': 21, 'min_samples_split': 18, 'min_samples_leaf': 2, 'criterion': 'gini'}. Best is trial 4 with value: 0.993823347745522.\n",
            "[I 2025-04-01 18:50:44,387] Trial 5 finished with value: 0.9923233036265773 and parameters: {'max_depth': 12, 'min_samples_split': 10, 'min_samples_leaf': 6, 'criterion': 'entropy'}. Best is trial 4 with value: 0.993823347745522.\n",
            "[I 2025-04-01 18:50:44,983] Trial 6 finished with value: 0.9445866054883967 and parameters: {'max_depth': 6, 'min_samples_split': 18, 'min_samples_leaf': 9, 'criterion': 'entropy'}. Best is trial 4 with value: 0.993823347745522.\n",
            "[I 2025-04-01 18:50:45,194] Trial 7 finished with value: 0.6781081796523427 and parameters: {'max_depth': 2, 'min_samples_split': 10, 'min_samples_leaf': 3, 'criterion': 'gini'}. Best is trial 4 with value: 0.993823347745522.\n",
            "[I 2025-04-01 18:50:45,808] Trial 8 finished with value: 0.9928527309626753 and parameters: {'max_depth': 17, 'min_samples_split': 8, 'min_samples_leaf': 10, 'criterion': 'gini'}. Best is trial 4 with value: 0.993823347745522.\n",
            "[I 2025-04-01 18:50:46,439] Trial 9 finished with value: 0.9939998235242213 and parameters: {'max_depth': 28, 'min_samples_split': 14, 'min_samples_leaf': 6, 'criterion': 'gini'}. Best is trial 9 with value: 0.9939998235242213.\n",
            "[I 2025-04-01 18:50:47,068] Trial 10 finished with value: 0.9931174446307245 and parameters: {'max_depth': 30, 'min_samples_split': 14, 'min_samples_leaf': 13, 'criterion': 'gini'}. Best is trial 9 with value: 0.9939998235242213.\n",
            "[I 2025-04-01 18:50:47,727] Trial 11 finished with value: 0.9934703961881232 and parameters: {'max_depth': 20, 'min_samples_split': 20, 'min_samples_leaf': 2, 'criterion': 'gini'}. Best is trial 9 with value: 0.9939998235242213.\n",
            "[I 2025-04-01 18:50:48,502] Trial 12 finished with value: 0.9944410129709698 and parameters: {'max_depth': 23, 'min_samples_split': 14, 'min_samples_leaf': 5, 'criterion': 'gini'}. Best is trial 12 with value: 0.9944410129709698.\n",
            "[I 2025-04-01 18:50:49,457] Trial 13 finished with value: 0.9939998235242213 and parameters: {'max_depth': 26, 'min_samples_split': 13, 'min_samples_leaf': 7, 'criterion': 'gini'}. Best is trial 12 with value: 0.9944410129709698.\n",
            "[I 2025-04-01 18:50:50,409] Trial 14 finished with value: 0.9942645371922704 and parameters: {'max_depth': 16, 'min_samples_split': 13, 'min_samples_leaf': 5, 'criterion': 'gini'}. Best is trial 12 with value: 0.9944410129709698.\n",
            "[I 2025-04-01 18:50:51,157] Trial 15 finished with value: 0.9929409688520251 and parameters: {'max_depth': 14, 'min_samples_split': 12, 'min_samples_leaf': 12, 'criterion': 'gini'}. Best is trial 12 with value: 0.9944410129709698.\n",
            "[I 2025-04-01 18:50:51,795] Trial 16 finished with value: 0.9944410129709698 and parameters: {'max_depth': 18, 'min_samples_split': 16, 'min_samples_leaf': 4, 'criterion': 'gini'}. Best is trial 12 with value: 0.9944410129709698.\n",
            "[I 2025-04-01 18:50:52,434] Trial 17 finished with value: 0.9944410129709698 and parameters: {'max_depth': 20, 'min_samples_split': 16, 'min_samples_leaf': 4, 'criterion': 'gini'}. Best is trial 12 with value: 0.9944410129709698.\n",
            "[I 2025-04-01 18:50:53,095] Trial 18 finished with value: 0.9932939204094238 and parameters: {'max_depth': 11, 'min_samples_split': 16, 'min_samples_leaf': 1, 'criterion': 'gini'}. Best is trial 12 with value: 0.9944410129709698.\n",
            "[I 2025-04-01 18:50:53,739] Trial 19 finished with value: 0.9927644930733257 and parameters: {'max_depth': 18, 'min_samples_split': 19, 'min_samples_leaf': 15, 'criterion': 'gini'}. Best is trial 12 with value: 0.9944410129709698.\n",
            "[I 2025-04-01 18:50:54,370] Trial 20 finished with value: 0.9932056825200741 and parameters: {'max_depth': 23, 'min_samples_split': 7, 'min_samples_leaf': 9, 'criterion': 'gini'}. Best is trial 12 with value: 0.9944410129709698.\n",
            "[I 2025-04-01 18:50:55,028] Trial 21 finished with value: 0.9944410129709698 and parameters: {'max_depth': 20, 'min_samples_split': 16, 'min_samples_leaf': 4, 'criterion': 'gini'}. Best is trial 12 with value: 0.9944410129709698.\n",
            "[I 2025-04-01 18:50:55,669] Trial 22 finished with value: 0.9939115856348716 and parameters: {'max_depth': 22, 'min_samples_split': 15, 'min_samples_leaf': 8, 'criterion': 'gini'}. Best is trial 12 with value: 0.9944410129709698.\n",
            "[I 2025-04-01 18:50:56,308] Trial 23 finished with value: 0.9942645371922704 and parameters: {'max_depth': 26, 'min_samples_split': 17, 'min_samples_leaf': 4, 'criterion': 'gini'}. Best is trial 12 with value: 0.9944410129709698.\n",
            "[I 2025-04-01 18:50:56,969] Trial 24 finished with value: 0.9947057266390188 and parameters: {'max_depth': 18, 'min_samples_split': 12, 'min_samples_leaf': 1, 'criterion': 'gini'}. Best is trial 24 with value: 0.9947057266390188.\n",
            "[I 2025-04-01 18:50:57,619] Trial 25 finished with value: 0.9946174887496692 and parameters: {'max_depth': 14, 'min_samples_split': 11, 'min_samples_leaf': 1, 'criterion': 'gini'}. Best is trial 24 with value: 0.9947057266390188.\n",
            "[I 2025-04-01 18:50:58,352] Trial 26 finished with value: 0.9929409688520251 and parameters: {'max_depth': 13, 'min_samples_split': 11, 'min_samples_leaf': 1, 'criterion': 'entropy'}. Best is trial 24 with value: 0.9947057266390188.\n",
            "[I 2025-04-01 18:50:58,980] Trial 27 finished with value: 0.9929409688520251 and parameters: {'max_depth': 9, 'min_samples_split': 10, 'min_samples_leaf': 1, 'criterion': 'gini'}. Best is trial 24 with value: 0.9947057266390188.\n",
            "[I 2025-04-01 18:50:59,612] Trial 28 finished with value: 0.9946174887496692 and parameters: {'max_depth': 14, 'min_samples_split': 9, 'min_samples_leaf': 3, 'criterion': 'gini'}. Best is trial 24 with value: 0.9947057266390188.\n",
            "[I 2025-04-01 18:51:00,364] Trial 29 finished with value: 0.989852642724786 and parameters: {'max_depth': 15, 'min_samples_split': 9, 'min_samples_leaf': 16, 'criterion': 'entropy'}. Best is trial 24 with value: 0.9947057266390188.\n",
            "[I 2025-04-01 18:51:01,055] Trial 30 finished with value: 0.9909114973969823 and parameters: {'max_depth': 9, 'min_samples_split': 6, 'min_samples_leaf': 20, 'criterion': 'gini'}. Best is trial 24 with value: 0.9947057266390188.\n",
            "[I 2025-04-01 18:51:02,016] Trial 31 finished with value: 0.9945292508603194 and parameters: {'max_depth': 15, 'min_samples_split': 12, 'min_samples_leaf': 3, 'criterion': 'gini'}. Best is trial 24 with value: 0.9947057266390188.\n",
            "[I 2025-04-01 18:51:03,004] Trial 32 finished with value: 0.9939998235242213 and parameters: {'max_depth': 15, 'min_samples_split': 12, 'min_samples_leaf': 2, 'criterion': 'gini'}. Best is trial 24 with value: 0.9947057266390188.\n",
            "[I 2025-04-01 18:51:03,791] Trial 33 finished with value: 0.9941762993029207 and parameters: {'max_depth': 12, 'min_samples_split': 8, 'min_samples_leaf': 3, 'criterion': 'gini'}. Best is trial 24 with value: 0.9947057266390188.\n",
            "[I 2025-04-01 18:51:04,527] Trial 34 finished with value: 0.9894996911673872 and parameters: {'max_depth': 10, 'min_samples_split': 11, 'min_samples_leaf': 3, 'criterion': 'entropy'}. Best is trial 24 with value: 0.9947057266390188.\n",
            "[I 2025-04-01 18:51:05,212] Trial 35 finished with value: 0.9950586781964176 and parameters: {'max_depth': 18, 'min_samples_split': 4, 'min_samples_leaf': 1, 'criterion': 'gini'}. Best is trial 35 with value: 0.9950586781964176.\n",
            "[I 2025-04-01 18:51:05,869] Trial 36 finished with value: 0.9951469160857672 and parameters: {'max_depth': 18, 'min_samples_split': 5, 'min_samples_leaf': 1, 'criterion': 'gini'}. Best is trial 36 with value: 0.9951469160857672.\n",
            "[I 2025-04-01 18:51:06,618] Trial 37 finished with value: 0.9955881055325156 and parameters: {'max_depth': 18, 'min_samples_split': 4, 'min_samples_leaf': 1, 'criterion': 'entropy'}. Best is trial 37 with value: 0.9955881055325156.\n",
            "[I 2025-04-01 18:51:07,360] Trial 38 finished with value: 0.9953233918644666 and parameters: {'max_depth': 18, 'min_samples_split': 4, 'min_samples_leaf': 2, 'criterion': 'entropy'}. Best is trial 37 with value: 0.9955881055325156.\n",
            "[I 2025-04-01 18:51:08,075] Trial 39 finished with value: 0.9945292508603194 and parameters: {'max_depth': 19, 'min_samples_split': 4, 'min_samples_leaf': 6, 'criterion': 'entropy'}. Best is trial 37 with value: 0.9955881055325156.\n",
            "[I 2025-04-01 18:51:08,803] Trial 40 finished with value: 0.9953233918644666 and parameters: {'max_depth': 17, 'min_samples_split': 4, 'min_samples_leaf': 2, 'criterion': 'entropy'}. Best is trial 37 with value: 0.9955881055325156.\n",
            "[I 2025-04-01 18:51:09,540] Trial 41 finished with value: 0.9953233918644666 and parameters: {'max_depth': 17, 'min_samples_split': 4, 'min_samples_leaf': 2, 'criterion': 'entropy'}. Best is trial 37 with value: 0.9955881055325156.\n",
            "[I 2025-04-01 18:51:10,274] Trial 42 finished with value: 0.9954116297538163 and parameters: {'max_depth': 16, 'min_samples_split': 2, 'min_samples_leaf': 2, 'criterion': 'entropy'}. Best is trial 37 with value: 0.9955881055325156.\n",
            "[I 2025-04-01 18:51:10,995] Trial 43 finished with value: 0.9954116297538163 and parameters: {'max_depth': 16, 'min_samples_split': 2, 'min_samples_leaf': 2, 'criterion': 'entropy'}. Best is trial 37 with value: 0.9955881055325156.\n",
            "[I 2025-04-01 18:51:11,729] Trial 44 finished with value: 0.9946174887496692 and parameters: {'max_depth': 16, 'min_samples_split': 3, 'min_samples_leaf': 5, 'criterion': 'entropy'}. Best is trial 37 with value: 0.9955881055325156.\n",
            "[I 2025-04-01 18:51:12,467] Trial 45 finished with value: 0.9953233918644666 and parameters: {'max_depth': 21, 'min_samples_split': 2, 'min_samples_leaf': 2, 'criterion': 'entropy'}. Best is trial 37 with value: 0.9955881055325156.\n",
            "[I 2025-04-01 18:51:13,177] Trial 46 finished with value: 0.9949704403070678 and parameters: {'max_depth': 16, 'min_samples_split': 2, 'min_samples_leaf': 6, 'criterion': 'entropy'}. Best is trial 37 with value: 0.9955881055325156.\n",
            "[I 2025-04-01 18:51:14,169] Trial 47 finished with value: 0.99435277508162 and parameters: {'max_depth': 21, 'min_samples_split': 3, 'min_samples_leaf': 3, 'criterion': 'entropy'}. Best is trial 37 with value: 0.9955881055325156.\n",
            "[I 2025-04-01 18:51:14,637] Trial 48 finished with value: 0.749580870025589 and parameters: {'max_depth': 2, 'min_samples_split': 5, 'min_samples_leaf': 7, 'criterion': 'entropy'}. Best is trial 37 with value: 0.9955881055325156.\n",
            "[I 2025-04-01 18:51:15,787] Trial 49 finished with value: 0.9953233918644666 and parameters: {'max_depth': 25, 'min_samples_split': 2, 'min_samples_leaf': 2, 'criterion': 'entropy'}. Best is trial 37 with value: 0.9955881055325156.\n"
          ]
        },
        {
          "output_type": "stream",
          "name": "stdout",
          "text": [
            "Best parameters for Decision Tree: {'max_depth': 18, 'min_samples_split': 4, 'min_samples_leaf': 1, 'criterion': 'entropy'}\n",
            "Accuracy of Decision Tree: 0.9955881055325156\n",
            "Precision of Decision Tree: 0.9957141241900852\n",
            "Recall of Decision Tree: 0.9955881055325156\n",
            "F1-score of Decision Tree: 0.9956361238139685\n",
            "              precision    recall  f1-score   support\n",
            "\n",
            "           0       1.00      0.99      0.99      4547\n",
            "           1       0.99      0.98      0.99       393\n",
            "           2       1.00      1.00      1.00       554\n",
            "           3       1.00      1.00      1.00      3807\n",
            "           4       0.50      0.71      0.59         7\n",
            "           5       1.00      1.00      1.00      1589\n",
            "           6       0.99      0.98      0.98       436\n",
            "\n",
            "    accuracy                           1.00     11333\n",
            "   macro avg       0.92      0.95      0.94     11333\n",
            "weighted avg       1.00      1.00      1.00     11333\n",
            "\n"
          ]
        },
        {
          "output_type": "display_data",
          "data": {
            "text/plain": [
              "<Figure size 500x500 with 2 Axes>"
            ],
            "image/png": "[encoded data removed]"
          },
          "metadata": {}
        }
      ]
    },
    {
      "cell_type": "code",
      "source": [
        "dt_train=dt.predict(X_train)\n",
        "dt_test=dt.predict(X_test)"
      ],
      "metadata": {
        "id": "CW3TKTDcQPDy"
      },
      "execution_count": null,
      "outputs": []
    },
    {
      "cell_type": "code",
      "source": [
        "\n",
        "best_rf_params = run_optuna(tune_rf, \"Random Forest\")\n",
        "rf = RandomForestClassifier(**best_rf_params, random_state=0)\n",
        "train_and_evaluate(rf, X_train, y_train, X_test, y_test, \"Random Forest\")\n"
      ],
      "metadata": {
        "colab": {
          "base_uri": "https://localhost:8080/",
          "height": 1000
        },
        "id": "uIRFyiz5Qbtj",
        "outputId": "d66da8f0-1a0c-49d3-fcb0-7a4d9ff17a43"
      },
      "execution_count": null,
      "outputs": [
        {
          "output_type": "stream",
          "name": "stderr",
          "text": [
            "[I 2025-04-01 18:51:17,194] A new study created in memory with name: no-name-c5d35cf6-678a-4260-9cfa-283552861f88\n",
            "[I 2025-04-01 18:51:21,610] Trial 0 finished with value: 0.990999735286332 and parameters: {'n_estimators': 50, 'max_depth': 12, 'min_samples_split': 4, 'min_samples_leaf': 9, 'criterion': 'entropy'}. Best is trial 0 with value: 0.990999735286332.\n",
            "[I 2025-04-01 18:51:31,212] Trial 1 finished with value: 0.9894996911673872 and parameters: {'n_estimators': 100, 'max_depth': 45, 'min_samples_split': 6, 'min_samples_leaf': 16, 'criterion': 'entropy'}. Best is trial 0 with value: 0.990999735286332.\n",
            "[I 2025-04-01 18:51:50,717] Trial 2 finished with value: 0.9947057266390188 and parameters: {'n_estimators': 250, 'max_depth': 46, 'min_samples_split': 6, 'min_samples_leaf': 5, 'criterion': 'gini'}. Best is trial 2 with value: 0.9947057266390188.\n",
            "[I 2025-04-01 18:52:09,882] Trial 3 finished with value: 0.9875584576016941 and parameters: {'n_estimators': 200, 'max_depth': 48, 'min_samples_split': 17, 'min_samples_leaf': 19, 'criterion': 'entropy'}. Best is trial 2 with value: 0.9947057266390188.\n",
            "[I 2025-04-01 18:52:13,948] Trial 4 finished with value: 0.9796170475602224 and parameters: {'n_estimators': 50, 'max_depth': 8, 'min_samples_split': 18, 'min_samples_leaf': 20, 'criterion': 'entropy'}. Best is trial 2 with value: 0.9947057266390188.\n",
            "[I 2025-04-01 18:52:17,003] Trial 5 finished with value: 0.9486455483984824 and parameters: {'n_estimators': 50, 'max_depth': 6, 'min_samples_split': 4, 'min_samples_leaf': 6, 'criterion': 'gini'}. Best is trial 2 with value: 0.9947057266390188.\n",
            "[I 2025-04-01 18:52:25,032] Trial 6 finished with value: 0.990999735286332 and parameters: {'n_estimators': 100, 'max_depth': 14, 'min_samples_split': 18, 'min_samples_leaf': 12, 'criterion': 'gini'}. Best is trial 2 with value: 0.9947057266390188.\n",
            "[I 2025-04-01 18:52:28,694] Trial 7 finished with value: 0.993823347745522 and parameters: {'n_estimators': 50, 'max_depth': 25, 'min_samples_split': 19, 'min_samples_leaf': 8, 'criterion': 'gini'}. Best is trial 2 with value: 0.9947057266390188.\n",
            "[I 2025-04-01 18:52:48,514] Trial 8 finished with value: 0.9944410129709698 and parameters: {'n_estimators': 200, 'max_depth': 29, 'min_samples_split': 11, 'min_samples_leaf': 7, 'criterion': 'entropy'}. Best is trial 2 with value: 0.9947057266390188.\n",
            "[I 2025-04-01 18:53:16,575] Trial 9 finished with value: 0.988176122827142 and parameters: {'n_estimators': 300, 'max_depth': 46, 'min_samples_split': 15, 'min_samples_leaf': 19, 'criterion': 'entropy'}. Best is trial 2 with value: 0.9947057266390188.\n",
            "[I 2025-04-01 18:53:41,364] Trial 10 finished with value: 0.9964704844260125 and parameters: {'n_estimators': 300, 'max_depth': 36, 'min_samples_split': 9, 'min_samples_leaf': 1, 'criterion': 'gini'}. Best is trial 10 with value: 0.9964704844260125.\n",
            "[I 2025-04-01 18:54:06,328] Trial 11 finished with value: 0.9964704844260125 and parameters: {'n_estimators': 300, 'max_depth': 36, 'min_samples_split': 9, 'min_samples_leaf': 1, 'criterion': 'gini'}. Best is trial 10 with value: 0.9964704844260125.\n",
            "[I 2025-04-01 18:54:31,811] Trial 12 finished with value: 0.9963822465366629 and parameters: {'n_estimators': 300, 'max_depth': 36, 'min_samples_split': 10, 'min_samples_leaf': 1, 'criterion': 'gini'}. Best is trial 10 with value: 0.9964704844260125.\n",
            "[I 2025-04-01 18:54:53,904] Trial 13 finished with value: 0.9962940086473132 and parameters: {'n_estimators': 250, 'max_depth': 35, 'min_samples_split': 9, 'min_samples_leaf': 1, 'criterion': 'gini'}. Best is trial 10 with value: 0.9964704844260125.\n",
            "[I 2025-04-01 18:55:14,315] Trial 14 finished with value: 0.9951469160857672 and parameters: {'n_estimators': 250, 'max_depth': 37, 'min_samples_split': 13, 'min_samples_leaf': 3, 'criterion': 'gini'}. Best is trial 10 with value: 0.9964704844260125.\n",
            "[I 2025-04-01 18:55:38,561] Trial 15 finished with value: 0.9951469160857672 and parameters: {'n_estimators': 300, 'max_depth': 24, 'min_samples_split': 7, 'min_samples_leaf': 4, 'criterion': 'gini'}. Best is trial 10 with value: 0.9964704844260125.\n",
            "[I 2025-04-01 18:55:50,395] Trial 16 finished with value: 0.989852642724786 and parameters: {'n_estimators': 150, 'max_depth': 32, 'min_samples_split': 2, 'min_samples_leaf': 12, 'criterion': 'gini'}. Best is trial 10 with value: 0.9964704844260125.\n",
            "[I 2025-04-01 18:56:10,849] Trial 17 finished with value: 0.9950586781964176 and parameters: {'n_estimators': 250, 'max_depth': 20, 'min_samples_split': 12, 'min_samples_leaf': 3, 'criterion': 'gini'}. Best is trial 10 with value: 0.9964704844260125.\n",
            "[I 2025-04-01 18:56:35,460] Trial 18 finished with value: 0.9964704844260125 and parameters: {'n_estimators': 300, 'max_depth': 41, 'min_samples_split': 8, 'min_samples_leaf': 1, 'criterion': 'gini'}. Best is trial 10 with value: 0.9964704844260125.\n",
            "[I 2025-04-01 18:56:50,808] Trial 19 finished with value: 0.9891467396099886 and parameters: {'n_estimators': 200, 'max_depth': 39, 'min_samples_split': 14, 'min_samples_leaf': 15, 'criterion': 'gini'}. Best is trial 10 with value: 0.9964704844260125.\n",
            "[I 2025-04-01 18:57:02,616] Trial 20 finished with value: 0.9920585899585282 and parameters: {'n_estimators': 150, 'max_depth': 31, 'min_samples_split': 10, 'min_samples_leaf': 10, 'criterion': 'gini'}. Best is trial 10 with value: 0.9964704844260125.\n",
            "[I 2025-04-01 18:57:27,374] Trial 21 finished with value: 0.9964704844260125 and parameters: {'n_estimators': 300, 'max_depth': 42, 'min_samples_split': 8, 'min_samples_leaf': 1, 'criterion': 'gini'}. Best is trial 10 with value: 0.9964704844260125.\n",
            "[I 2025-04-01 18:57:51,543] Trial 22 finished with value: 0.9955881055325156 and parameters: {'n_estimators': 300, 'max_depth': 40, 'min_samples_split': 9, 'min_samples_leaf': 3, 'criterion': 'gini'}. Best is trial 10 with value: 0.9964704844260125.\n",
            "[I 2025-04-01 18:58:12,272] Trial 23 finished with value: 0.9963822465366629 and parameters: {'n_estimators': 250, 'max_depth': 42, 'min_samples_split': 7, 'min_samples_leaf': 1, 'criterion': 'gini'}. Best is trial 10 with value: 0.9964704844260125.\n",
            "[I 2025-04-01 18:58:35,799] Trial 24 finished with value: 0.9947057266390188 and parameters: {'n_estimators': 300, 'max_depth': 50, 'min_samples_split': 5, 'min_samples_leaf': 5, 'criterion': 'gini'}. Best is trial 10 with value: 0.9964704844260125.\n",
            "[I 2025-04-01 18:58:56,338] Trial 25 finished with value: 0.9953233918644666 and parameters: {'n_estimators': 250, 'max_depth': 33, 'min_samples_split': 11, 'min_samples_leaf': 3, 'criterion': 'gini'}. Best is trial 10 with value: 0.9964704844260125.\n",
            "[I 2025-04-01 18:59:22,168] Trial 26 finished with value: 0.9962057707579635 and parameters: {'n_estimators': 300, 'max_depth': 27, 'min_samples_split': 8, 'min_samples_leaf': 2, 'criterion': 'gini'}. Best is trial 10 with value: 0.9964704844260125.\n",
            "[I 2025-04-01 18:59:42,406] Trial 27 finished with value: 0.9944410129709698 and parameters: {'n_estimators': 250, 'max_depth': 42, 'min_samples_split': 12, 'min_samples_leaf': 6, 'criterion': 'gini'}. Best is trial 10 with value: 0.9964704844260125.\n",
            "[I 2025-04-01 19:00:07,133] Trial 28 finished with value: 0.995235153975117 and parameters: {'n_estimators': 300, 'max_depth': 21, 'min_samples_split': 2, 'min_samples_leaf': 4, 'criterion': 'gini'}. Best is trial 10 with value: 0.9964704844260125.\n",
            "[I 2025-04-01 19:00:25,742] Trial 29 finished with value: 0.9931174446307245 and parameters: {'n_estimators': 200, 'max_depth': 37, 'min_samples_split': 4, 'min_samples_leaf': 9, 'criterion': 'entropy'}. Best is trial 10 with value: 0.9964704844260125.\n",
            "[I 2025-04-01 19:00:50,521] Trial 30 finished with value: 0.9955881055325156 and parameters: {'n_estimators': 300, 'max_depth': 34, 'min_samples_split': 15, 'min_samples_leaf': 2, 'criterion': 'gini'}. Best is trial 10 with value: 0.9964704844260125.\n",
            "[I 2025-04-01 19:01:15,128] Trial 31 finished with value: 0.9964704844260125 and parameters: {'n_estimators': 300, 'max_depth': 42, 'min_samples_split': 8, 'min_samples_leaf': 1, 'criterion': 'gini'}. Best is trial 10 with value: 0.9964704844260125.\n",
            "[I 2025-04-01 19:01:39,784] Trial 32 finished with value: 0.9962057707579635 and parameters: {'n_estimators': 300, 'max_depth': 44, 'min_samples_split': 8, 'min_samples_leaf': 2, 'criterion': 'gini'}. Best is trial 10 with value: 0.9964704844260125.\n",
            "[I 2025-04-01 19:01:59,954] Trial 33 finished with value: 0.9947057266390188 and parameters: {'n_estimators': 250, 'max_depth': 40, 'min_samples_split': 6, 'min_samples_leaf': 5, 'criterion': 'gini'}. Best is trial 10 with value: 0.9964704844260125.\n",
            "[I 2025-04-01 19:02:28,799] Trial 34 finished with value: 0.995499867643166 and parameters: {'n_estimators': 300, 'max_depth': 45, 'min_samples_split': 10, 'min_samples_leaf': 4, 'criterion': 'entropy'}. Best is trial 10 with value: 0.9964704844260125.\n",
            "[I 2025-04-01 19:02:47,572] Trial 35 finished with value: 0.9879996470484426 and parameters: {'n_estimators': 250, 'max_depth': 49, 'min_samples_split': 7, 'min_samples_leaf': 16, 'criterion': 'gini'}. Best is trial 10 with value: 0.9964704844260125.\n",
            "[I 2025-04-01 19:03:12,241] Trial 36 finished with value: 0.9960292949792641 and parameters: {'n_estimators': 300, 'max_depth': 38, 'min_samples_split': 9, 'min_samples_leaf': 2, 'criterion': 'gini'}. Best is trial 10 with value: 0.9964704844260125.\n",
            "[I 2025-04-01 19:03:37,070] Trial 37 finished with value: 0.9947057266390188 and parameters: {'n_estimators': 250, 'max_depth': 31, 'min_samples_split': 5, 'min_samples_leaf': 6, 'criterion': 'entropy'}. Best is trial 10 with value: 0.9964704844260125.\n",
            "[I 2025-04-01 19:03:49,292] Trial 38 finished with value: 0.9965587223153622 and parameters: {'n_estimators': 150, 'max_depth': 43, 'min_samples_split': 5, 'min_samples_leaf': 1, 'criterion': 'gini'}. Best is trial 38 with value: 0.9965587223153622.\n",
            "[I 2025-04-01 19:03:57,636] Trial 39 finished with value: 0.9936468719668226 and parameters: {'n_estimators': 100, 'max_depth': 46, 'min_samples_split': 4, 'min_samples_leaf': 7, 'criterion': 'gini'}. Best is trial 38 with value: 0.9965587223153622.\n",
            "[I 2025-04-01 19:04:11,732] Trial 40 finished with value: 0.992676255183976 and parameters: {'n_estimators': 150, 'max_depth': 47, 'min_samples_split': 6, 'min_samples_leaf': 13, 'criterion': 'entropy'}. Best is trial 38 with value: 0.9965587223153622.\n",
            "[I 2025-04-01 19:04:20,348] Trial 41 finished with value: 0.9963822465366629 and parameters: {'n_estimators': 100, 'max_depth': 43, 'min_samples_split': 8, 'min_samples_leaf': 1, 'criterion': 'gini'}. Best is trial 38 with value: 0.9965587223153622.\n",
            "[I 2025-04-01 19:04:32,557] Trial 42 finished with value: 0.9963822465366629 and parameters: {'n_estimators': 150, 'max_depth': 40, 'min_samples_split': 5, 'min_samples_leaf': 2, 'criterion': 'gini'}. Best is trial 38 with value: 0.9965587223153622.\n",
            "[I 2025-04-01 19:04:48,735] Trial 43 finished with value: 0.9966469602047119 and parameters: {'n_estimators': 200, 'max_depth': 35, 'min_samples_split': 6, 'min_samples_leaf': 1, 'criterion': 'gini'}. Best is trial 43 with value: 0.9966469602047119.\n",
            "[I 2025-04-01 19:05:04,566] Trial 44 finished with value: 0.995235153975117 and parameters: {'n_estimators': 200, 'max_depth': 29, 'min_samples_split': 6, 'min_samples_leaf': 4, 'criterion': 'gini'}. Best is trial 43 with value: 0.9966469602047119.\n",
            "[I 2025-04-01 19:05:16,654] Trial 45 finished with value: 0.9956763434218654 and parameters: {'n_estimators': 150, 'max_depth': 35, 'min_samples_split': 3, 'min_samples_leaf': 3, 'criterion': 'gini'}. Best is trial 43 with value: 0.9966469602047119.\n",
            "[I 2025-04-01 19:05:25,202] Trial 46 finished with value: 0.9964704844260125 and parameters: {'n_estimators': 100, 'max_depth': 36, 'min_samples_split': 7, 'min_samples_leaf': 1, 'criterion': 'gini'}. Best is trial 43 with value: 0.9966469602047119.\n",
            "[I 2025-04-01 19:05:41,172] Trial 47 finished with value: 0.9959410570899144 and parameters: {'n_estimators': 200, 'max_depth': 33, 'min_samples_split': 9, 'min_samples_leaf': 2, 'criterion': 'gini'}. Best is trial 43 with value: 0.9966469602047119.\n",
            "[I 2025-04-01 19:05:46,354] Trial 48 finished with value: 0.9956763434218654 and parameters: {'n_estimators': 50, 'max_depth': 29, 'min_samples_split': 10, 'min_samples_leaf': 3, 'criterion': 'entropy'}. Best is trial 43 with value: 0.9966469602047119.\n",
            "[I 2025-04-01 19:05:57,720] Trial 49 finished with value: 0.9925880172946263 and parameters: {'n_estimators': 150, 'max_depth': 13, 'min_samples_split': 20, 'min_samples_leaf': 5, 'criterion': 'gini'}. Best is trial 43 with value: 0.9966469602047119.\n"
          ]
        },
        {
          "output_type": "stream",
          "name": "stdout",
          "text": [
            "Best parameters for Random Forest: {'n_estimators': 200, 'max_depth': 35, 'min_samples_split': 6, 'min_samples_leaf': 1, 'criterion': 'gini'}\n",
            "Accuracy of Random Forest: 0.9966469602047119\n",
            "Precision of Random Forest: 0.9966311723234895\n",
            "Recall of Random Forest: 0.9966469602047119\n",
            "F1-score of Random Forest: 0.9966332480443414\n",
            "              precision    recall  f1-score   support\n",
            "\n",
            "           0       1.00      1.00      1.00      4547\n",
            "           1       0.99      0.98      0.99       393\n",
            "           2       1.00      1.00      1.00       554\n",
            "           3       1.00      1.00      1.00      3807\n",
            "           4       0.83      0.71      0.77         7\n",
            "           5       1.00      1.00      1.00      1589\n",
            "           6       1.00      0.98      0.99       436\n",
            "\n",
            "    accuracy                           1.00     11333\n",
            "   macro avg       0.97      0.95      0.96     11333\n",
            "weighted avg       1.00      1.00      1.00     11333\n",
            "\n"
          ]
        },
        {
          "output_type": "display_data",
          "data": {
            "text/plain": [
              "<Figure size 500x500 with 2 Axes>"
            ],
            "image/png": "[encoded data removed]"
          },
          "metadata": {}
        }
      ]
    },
    {
      "cell_type": "code",
      "source": [
        "rf_train=rf.predict(X_train)\n",
        "rf_test=rf.predict(X_test)"
      ],
      "metadata": {
        "id": "XK9tznk1QgSD"
      },
      "execution_count": null,
      "outputs": []
    },
    {
      "cell_type": "code",
      "source": [
        "best_et_params = run_optuna(tune_et, \"Extra Trees\")\n",
        "et = ExtraTreesClassifier(**best_et_params, random_state=0)\n",
        "train_and_evaluate(et, X_train, y_train, X_test, y_test, \"Extra Trees\")\n",
        "\n"
      ],
      "metadata": {
        "colab": {
          "base_uri": "https://localhost:8080/",
          "height": 1000
        },
        "id": "DJjKGSkAQlTT",
        "outputId": "ca29bd0c-d222-4be9-b3c2-f85ce52ad446"
      },
      "execution_count": null,
      "outputs": [
        {
          "output_type": "stream",
          "name": "stderr",
          "text": [
            "[I 2025-04-01 19:06:16,064] A new study created in memory with name: no-name-33f35acd-b0c6-460e-a242-4592e1089c74\n",
            "[I 2025-04-01 19:06:17,650] Trial 0 finished with value: 0.9691167387276096 and parameters: {'n_estimators': 50, 'max_depth': 26, 'min_samples_split': 15, 'min_samples_leaf': 3, 'criterion': 'gini'}. Best is trial 0 with value: 0.9691167387276096.\n",
            "[I 2025-04-01 19:06:20,028] Trial 1 finished with value: 0.9307332568604959 and parameters: {'n_estimators': 100, 'max_depth': 9, 'min_samples_split': 12, 'min_samples_leaf': 8, 'criterion': 'entropy'}. Best is trial 0 with value: 0.9691167387276096.\n",
            "[I 2025-04-01 19:06:21,431] Trial 2 finished with value: 0.9557045795464573 and parameters: {'n_estimators': 50, 'max_depth': 44, 'min_samples_split': 12, 'min_samples_leaf': 14, 'criterion': 'entropy'}. Best is trial 0 with value: 0.9691167387276096.\n",
            "[I 2025-04-01 19:06:25,156] Trial 3 finished with value: 0.956057531103856 and parameters: {'n_estimators': 100, 'max_depth': 19, 'min_samples_split': 2, 'min_samples_leaf': 18, 'criterion': 'entropy'}. Best is trial 0 with value: 0.9691167387276096.\n",
            "[I 2025-04-01 19:06:30,515] Trial 4 finished with value: 0.9571163857760523 and parameters: {'n_estimators': 200, 'max_depth': 14, 'min_samples_split': 10, 'min_samples_leaf': 10, 'criterion': 'entropy'}. Best is trial 0 with value: 0.9691167387276096.\n",
            "[I 2025-04-01 19:06:31,896] Trial 5 finished with value: 0.9587046677843466 and parameters: {'n_estimators': 50, 'max_depth': 13, 'min_samples_split': 10, 'min_samples_leaf': 2, 'criterion': 'entropy'}. Best is trial 0 with value: 0.9691167387276096.\n",
            "[I 2025-04-01 19:06:34,596] Trial 6 finished with value: 0.9550869143210095 and parameters: {'n_estimators': 100, 'max_depth': 41, 'min_samples_split': 8, 'min_samples_leaf': 19, 'criterion': 'entropy'}. Best is trial 0 with value: 0.9691167387276096.\n",
            "[I 2025-04-01 19:06:39,861] Trial 7 finished with value: 0.9668225536045177 and parameters: {'n_estimators': 150, 'max_depth': 39, 'min_samples_split': 20, 'min_samples_leaf': 6, 'criterion': 'entropy'}. Best is trial 0 with value: 0.9691167387276096.\n",
            "[I 2025-04-01 19:06:46,313] Trial 8 finished with value: 0.9821759463513633 and parameters: {'n_estimators': 200, 'max_depth': 38, 'min_samples_split': 2, 'min_samples_leaf': 2, 'criterion': 'gini'}. Best is trial 8 with value: 0.9821759463513633.\n",
            "[I 2025-04-01 19:06:48,027] Trial 9 finished with value: 0.9564104826612547 and parameters: {'n_estimators': 50, 'max_depth': 15, 'min_samples_split': 13, 'min_samples_leaf': 13, 'criterion': 'entropy'}. Best is trial 8 with value: 0.9821759463513633.\n",
            "[I 2025-04-01 19:06:59,362] Trial 10 finished with value: 0.9954116297538163 and parameters: {'n_estimators': 300, 'max_depth': 50, 'min_samples_split': 2, 'min_samples_leaf': 1, 'criterion': 'gini'}. Best is trial 10 with value: 0.9954116297538163.\n",
            "[I 2025-04-01 19:07:11,077] Trial 11 finished with value: 0.9954116297538163 and parameters: {'n_estimators': 300, 'max_depth': 50, 'min_samples_split': 2, 'min_samples_leaf': 1, 'criterion': 'gini'}. Best is trial 10 with value: 0.9954116297538163.\n",
            "[I 2025-04-01 19:07:21,225] Trial 12 finished with value: 0.9705285449572046 and parameters: {'n_estimators': 300, 'max_depth': 50, 'min_samples_split': 5, 'min_samples_leaf': 5, 'criterion': 'gini'}. Best is trial 10 with value: 0.9954116297538163.\n",
            "[I 2025-04-01 19:07:32,375] Trial 13 finished with value: 0.9705285449572046 and parameters: {'n_estimators': 300, 'max_depth': 50, 'min_samples_split': 6, 'min_samples_leaf': 5, 'criterion': 'gini'}. Best is trial 10 with value: 0.9954116297538163.\n",
            "[I 2025-04-01 19:07:41,867] Trial 14 finished with value: 0.9890585017206388 and parameters: {'n_estimators': 250, 'max_depth': 32, 'min_samples_split': 5, 'min_samples_leaf': 1, 'criterion': 'gini'}. Best is trial 10 with value: 0.9954116297538163.\n",
            "[I 2025-04-01 19:07:49,224] Trial 15 finished with value: 0.9608223771287391 and parameters: {'n_estimators': 250, 'max_depth': 32, 'min_samples_split': 3, 'min_samples_leaf': 7, 'criterion': 'gini'}. Best is trial 10 with value: 0.9954116297538163.\n",
            "[I 2025-04-01 19:07:57,971] Trial 16 finished with value: 0.9696461660637078 and parameters: {'n_estimators': 250, 'max_depth': 45, 'min_samples_split': 7, 'min_samples_leaf': 4, 'criterion': 'gini'}. Best is trial 10 with value: 0.9954116297538163.\n",
            "[I 2025-04-01 19:08:07,815] Trial 17 finished with value: 0.9580870025588988 and parameters: {'n_estimators': 300, 'max_depth': 34, 'min_samples_split': 4, 'min_samples_leaf': 9, 'criterion': 'gini'}. Best is trial 10 with value: 0.9954116297538163.\n",
            "[I 2025-04-01 19:08:14,869] Trial 18 finished with value: 0.9573810994441013 and parameters: {'n_estimators': 250, 'max_depth': 46, 'min_samples_split': 17, 'min_samples_leaf': 12, 'criterion': 'gini'}. Best is trial 10 with value: 0.9954116297538163.\n",
            "[I 2025-04-01 19:08:25,772] Trial 19 finished with value: 0.9834112768022589 and parameters: {'n_estimators': 300, 'max_depth': 25, 'min_samples_split': 8, 'min_samples_leaf': 1, 'criterion': 'gini'}. Best is trial 10 with value: 0.9954116297538163.\n",
            "[I 2025-04-01 19:08:30,424] Trial 20 finished with value: 0.7587576105179564 and parameters: {'n_estimators': 200, 'max_depth': 5, 'min_samples_split': 4, 'min_samples_leaf': 16, 'criterion': 'gini'}. Best is trial 10 with value: 0.9954116297538163.\n",
            "[I 2025-04-01 19:08:39,055] Trial 21 finished with value: 0.989323215388688 and parameters: {'n_estimators': 250, 'max_depth': 32, 'min_samples_split': 2, 'min_samples_leaf': 1, 'criterion': 'gini'}. Best is trial 10 with value: 0.9954116297538163.\n",
            "[I 2025-04-01 19:08:49,427] Trial 22 finished with value: 0.9674402188299656 and parameters: {'n_estimators': 300, 'max_depth': 22, 'min_samples_split': 2, 'min_samples_leaf': 3, 'criterion': 'gini'}. Best is trial 10 with value: 0.9954116297538163.\n",
            "[I 2025-04-01 19:08:59,377] Trial 23 finished with value: 0.9954116297538163 and parameters: {'n_estimators': 250, 'max_depth': 50, 'min_samples_split': 4, 'min_samples_leaf': 1, 'criterion': 'gini'}. Best is trial 10 with value: 0.9954116297538163.\n",
            "[I 2025-04-01 19:09:09,709] Trial 24 finished with value: 0.9699108797317568 and parameters: {'n_estimators': 300, 'max_depth': 50, 'min_samples_split': 4, 'min_samples_leaf': 4, 'criterion': 'gini'}. Best is trial 10 with value: 0.9954116297538163.\n",
            "[I 2025-04-01 19:09:17,668] Trial 25 finished with value: 0.9706167828465543 and parameters: {'n_estimators': 250, 'max_depth': 46, 'min_samples_split': 6, 'min_samples_leaf': 3, 'criterion': 'gini'}. Best is trial 10 with value: 0.9954116297538163.\n",
            "[I 2025-04-01 19:09:27,725] Trial 26 finished with value: 0.9682343598341128 and parameters: {'n_estimators': 300, 'max_depth': 42, 'min_samples_split': 8, 'min_samples_leaf': 6, 'criterion': 'gini'}. Best is trial 10 with value: 0.9954116297538163.\n",
            "[I 2025-04-01 19:09:35,605] Trial 27 finished with value: 0.9914409247330804 and parameters: {'n_estimators': 200, 'max_depth': 36, 'min_samples_split': 4, 'min_samples_leaf': 1, 'criterion': 'gini'}. Best is trial 10 with value: 0.9954116297538163.\n",
            "[I 2025-04-01 19:09:40,218] Trial 28 finished with value: 0.970705020735904 and parameters: {'n_estimators': 150, 'max_depth': 47, 'min_samples_split': 6, 'min_samples_leaf': 4, 'criterion': 'gini'}. Best is trial 10 with value: 0.9954116297538163.\n",
            "[I 2025-04-01 19:09:49,051] Trial 29 finished with value: 0.9701755933998059 and parameters: {'n_estimators': 250, 'max_depth': 42, 'min_samples_split': 15, 'min_samples_leaf': 3, 'criterion': 'gini'}. Best is trial 10 with value: 0.9954116297538163.\n",
            "[I 2025-04-01 19:09:59,001] Trial 30 finished with value: 0.959410570899144 and parameters: {'n_estimators': 300, 'max_depth': 28, 'min_samples_split': 3, 'min_samples_leaf': 7, 'criterion': 'gini'}. Best is trial 10 with value: 0.9954116297538163.\n",
            "[I 2025-04-01 19:10:06,029] Trial 31 finished with value: 0.9936468719668226 and parameters: {'n_estimators': 200, 'max_depth': 38, 'min_samples_split': 4, 'min_samples_leaf': 1, 'criterion': 'gini'}. Best is trial 10 with value: 0.9954116297538163.\n",
            "[I 2025-04-01 19:10:13,518] Trial 32 finished with value: 0.9828818494661608 and parameters: {'n_estimators': 200, 'max_depth': 48, 'min_samples_split': 3, 'min_samples_leaf': 2, 'criterion': 'gini'}. Best is trial 10 with value: 0.9954116297538163.\n",
            "[I 2025-04-01 19:10:22,550] Trial 33 finished with value: 0.9813818053472161 and parameters: {'n_estimators': 250, 'max_depth': 43, 'min_samples_split': 5, 'min_samples_leaf': 2, 'criterion': 'gini'}. Best is trial 10 with value: 0.9954116297538163.\n",
            "[I 2025-04-01 19:10:27,882] Trial 34 finished with value: 0.995764581311215 and parameters: {'n_estimators': 150, 'max_depth': 48, 'min_samples_split': 3, 'min_samples_leaf': 1, 'criterion': 'gini'}. Best is trial 34 with value: 0.995764581311215.\n",
            "[I 2025-04-01 19:10:32,659] Trial 35 finished with value: 0.969557928174358 and parameters: {'n_estimators': 150, 'max_depth': 48, 'min_samples_split': 2, 'min_samples_leaf': 3, 'criterion': 'gini'}. Best is trial 34 with value: 0.995764581311215.\n",
            "[I 2025-04-01 19:10:38,250] Trial 36 finished with value: 0.9705285449572046 and parameters: {'n_estimators': 150, 'max_depth': 45, 'min_samples_split': 3, 'min_samples_leaf': 5, 'criterion': 'gini'}. Best is trial 34 with value: 0.995764581311215.\n",
            "[I 2025-04-01 19:10:40,977] Trial 37 finished with value: 0.9557928174358069 and parameters: {'n_estimators': 100, 'max_depth': 50, 'min_samples_split': 10, 'min_samples_leaf': 16, 'criterion': 'entropy'}. Best is trial 34 with value: 0.995764581311215.\n",
            "[I 2025-04-01 19:10:43,921] Trial 38 finished with value: 0.9587046677843466 and parameters: {'n_estimators': 100, 'max_depth': 40, 'min_samples_split': 7, 'min_samples_leaf': 9, 'criterion': 'gini'}. Best is trial 34 with value: 0.995764581311215.\n",
            "[I 2025-04-01 19:10:54,228] Trial 39 finished with value: 0.9815582811259155 and parameters: {'n_estimators': 300, 'max_depth': 44, 'min_samples_split': 2, 'min_samples_leaf': 2, 'criterion': 'entropy'}. Best is trial 34 with value: 0.995764581311215.\n",
            "[I 2025-04-01 19:10:59,727] Trial 40 finished with value: 0.9698226418424072 and parameters: {'n_estimators': 150, 'max_depth': 48, 'min_samples_split': 9, 'min_samples_leaf': 4, 'criterion': 'gini'}. Best is trial 34 with value: 0.995764581311215.\n",
            "[I 2025-04-01 19:11:06,819] Trial 41 finished with value: 0.9914409247330804 and parameters: {'n_estimators': 200, 'max_depth': 36, 'min_samples_split': 4, 'min_samples_leaf': 1, 'criterion': 'gini'}. Best is trial 34 with value: 0.995764581311215.\n",
            "[I 2025-04-01 19:11:14,314] Trial 42 finished with value: 0.9821759463513633 and parameters: {'n_estimators': 200, 'max_depth': 38, 'min_samples_split': 3, 'min_samples_leaf': 2, 'criterion': 'gini'}. Best is trial 34 with value: 0.995764581311215.\n",
            "[I 2025-04-01 19:11:23,221] Trial 43 finished with value: 0.9955881055325156 and parameters: {'n_estimators': 250, 'max_depth': 48, 'min_samples_split': 6, 'min_samples_leaf': 1, 'criterion': 'gini'}. Best is trial 34 with value: 0.995764581311215.\n",
            "[I 2025-04-01 19:11:32,799] Trial 44 finished with value: 0.9722933027441983 and parameters: {'n_estimators': 250, 'max_depth': 48, 'min_samples_split': 5, 'min_samples_leaf': 3, 'criterion': 'entropy'}. Best is trial 34 with value: 0.995764581311215.\n",
            "[I 2025-04-01 19:11:43,524] Trial 45 finished with value: 0.9827936115768111 and parameters: {'n_estimators': 300, 'max_depth': 50, 'min_samples_split': 6, 'min_samples_leaf': 2, 'criterion': 'gini'}. Best is trial 34 with value: 0.995764581311215.\n",
            "[I 2025-04-01 19:11:51,992] Trial 46 finished with value: 0.9677931703873643 and parameters: {'n_estimators': 250, 'max_depth': 44, 'min_samples_split': 2, 'min_samples_leaf': 6, 'criterion': 'gini'}. Best is trial 34 with value: 0.995764581311215.\n",
            "[I 2025-04-01 19:12:02,951] Trial 47 finished with value: 0.9942645371922704 and parameters: {'n_estimators': 300, 'max_depth': 41, 'min_samples_split': 12, 'min_samples_leaf': 1, 'criterion': 'entropy'}. Best is trial 34 with value: 0.995764581311215.\n",
            "[I 2025-04-01 19:12:07,271] Trial 48 finished with value: 0.9572928615547516 and parameters: {'n_estimators': 150, 'max_depth': 46, 'min_samples_split': 7, 'min_samples_leaf': 11, 'criterion': 'gini'}. Best is trial 34 with value: 0.995764581311215.\n",
            "[I 2025-04-01 19:12:15,626] Trial 49 finished with value: 0.9589693814523956 and parameters: {'n_estimators': 250, 'max_depth': 17, 'min_samples_split': 20, 'min_samples_leaf': 5, 'criterion': 'gini'}. Best is trial 34 with value: 0.995764581311215.\n"
          ]
        },
        {
          "output_type": "stream",
          "name": "stdout",
          "text": [
            "Best parameters for Extra Trees: {'n_estimators': 150, 'max_depth': 48, 'min_samples_split': 3, 'min_samples_leaf': 1, 'criterion': 'gini'}\n",
            "Accuracy of Extra Trees: 0.995764581311215\n",
            "Precision of Extra Trees: 0.9957574742877291\n",
            "Recall of Extra Trees: 0.995764581311215\n",
            "F1-score of Extra Trees: 0.9957561519125192\n",
            "              precision    recall  f1-score   support\n",
            "\n",
            "           0       1.00      0.99      1.00      4547\n",
            "           1       0.97      0.98      0.98       393\n",
            "           2       1.00      1.00      1.00       554\n",
            "           3       1.00      1.00      1.00      3807\n",
            "           4       0.83      0.71      0.77         7\n",
            "           5       1.00      1.00      1.00      1589\n",
            "           6       1.00      0.99      0.99       436\n",
            "\n",
            "    accuracy                           1.00     11333\n",
            "   macro avg       0.97      0.95      0.96     11333\n",
            "weighted avg       1.00      1.00      1.00     11333\n",
            "\n"
          ]
        },
        {
          "output_type": "display_data",
          "data": {
            "text/plain": [
              "<Figure size 500x500 with 2 Axes>"
            ],
            "image/png": "[encoded data removed]"
          },
          "metadata": {}
        }
      ]
    },
    {
      "cell_type": "code",
      "source": [
        "et_train=et.predict(X_train)\n",
        "et_test=et.predict(X_test)"
      ],
      "metadata": {
        "id": "eYYyhqVBQq99"
      },
      "execution_count": null,
      "outputs": []
    },
    {
      "cell_type": "code",
      "source": [
        "best_xg_params = run_optuna(tune_xg, \"XGBoost\")\n",
        "xg = xgb.XGBClassifier(**best_xg_params, random_state=0)\n",
        "train_and_evaluate(xg, X_train, y_train, X_test, y_test, \"XGBoost\")"
      ],
      "metadata": {
        "colab": {
          "base_uri": "https://localhost:8080/",
          "height": 1000
        },
        "id": "aVym0eyCTFgY",
        "outputId": "f9225fe2-4599-4f01-c866-5016c6dbddf4"
      },
      "execution_count": null,
      "outputs": [
        {
          "output_type": "stream",
          "name": "stderr",
          "text": [
            "[I 2025-04-01 19:12:22,274] A new study created in memory with name: no-name-37e8e122-41a2-4bd2-b47c-38b094043415\n",
            "[I 2025-04-01 19:12:24,748] Trial 0 finished with value: 0.9863231271507985 and parameters: {'n_estimators': 50, 'max_depth': 4, 'learning_rate': 0.06444353399557184, 'subsample': 0.848170023437839, 'colsample_bytree': 0.5161956311030352}. Best is trial 0 with value: 0.9863231271507985.\n",
            "[I 2025-04-01 19:12:44,798] Trial 1 finished with value: 0.9975293390982087 and parameters: {'n_estimators': 300, 'max_depth': 10, 'learning_rate': 0.2792133834493082, 'subsample': 0.8815619599604977, 'colsample_bytree': 0.8902067569603009}. Best is trial 1 with value: 0.9975293390982087.\n",
            "[I 2025-04-01 19:13:06,321] Trial 2 finished with value: 0.9973528633195095 and parameters: {'n_estimators': 250, 'max_depth': 13, 'learning_rate': 0.03273987053367189, 'subsample': 0.7473198514041339, 'colsample_bytree': 0.7068950104822298}. Best is trial 1 with value: 0.9975293390982087.\n",
            "[I 2025-04-01 19:13:24,593] Trial 3 finished with value: 0.9970881496514603 and parameters: {'n_estimators': 250, 'max_depth': 10, 'learning_rate': 0.026121707402213264, 'subsample': 0.5278511004071161, 'colsample_bytree': 0.6295976937444345}. Best is trial 1 with value: 0.9975293390982087.\n",
            "[I 2025-04-01 19:13:36,298] Trial 4 finished with value: 0.9977940527662579 and parameters: {'n_estimators': 150, 'max_depth': 10, 'learning_rate': 0.09312533513963202, 'subsample': 0.6419026407475321, 'colsample_bytree': 0.5906103941413864}. Best is trial 4 with value: 0.9977940527662579.\n",
            "[I 2025-04-01 19:13:53,487] Trial 5 finished with value: 0.9963822465366629 and parameters: {'n_estimators': 200, 'max_depth': 18, 'learning_rate': 0.011072067970365806, 'subsample': 0.9285534492139211, 'colsample_bytree': 0.5644091785938852}. Best is trial 4 with value: 0.9977940527662579.\n",
            "[I 2025-04-01 19:14:05,458] Trial 6 finished with value: 0.9972646254301597 and parameters: {'n_estimators': 150, 'max_depth': 13, 'learning_rate': 0.1444015514084531, 'subsample': 0.7996471934131346, 'colsample_bytree': 0.9219814012226362}. Best is trial 4 with value: 0.9977940527662579.\n",
            "[I 2025-04-01 19:14:14,089] Trial 7 finished with value: 0.9977058148769081 and parameters: {'n_estimators': 100, 'max_depth': 12, 'learning_rate': 0.14858947630119268, 'subsample': 0.5324554170945694, 'colsample_bytree': 0.7747879571992169}. Best is trial 4 with value: 0.9977940527662579.\n",
            "[I 2025-04-01 19:14:30,506] Trial 8 finished with value: 0.9970881496514603 and parameters: {'n_estimators': 200, 'max_depth': 19, 'learning_rate': 0.05633228082432543, 'subsample': 0.5860600342351983, 'colsample_bytree': 0.8866396255024988}. Best is trial 4 with value: 0.9977940527662579.\n",
            "[I 2025-04-01 19:14:36,434] Trial 9 finished with value: 0.9959410570899144 and parameters: {'n_estimators': 50, 'max_depth': 17, 'learning_rate': 0.02416580734565411, 'subsample': 0.881849197182587, 'colsample_bytree': 0.6348052888786309}. Best is trial 4 with value: 0.9977940527662579.\n",
            "[I 2025-04-01 19:14:43,907] Trial 10 finished with value: 0.9968234359834113 and parameters: {'n_estimators': 150, 'max_depth': 4, 'learning_rate': 0.10217679604725038, 'subsample': 0.6961388440747027, 'colsample_bytree': 0.7741679930134615}. Best is trial 4 with value: 0.9977940527662579.\n",
            "[I 2025-04-01 19:14:52,222] Trial 11 finished with value: 0.9977058148769081 and parameters: {'n_estimators': 100, 'max_depth': 8, 'learning_rate': 0.186148785666361, 'subsample': 0.6344990327898865, 'colsample_bytree': 0.7716199465178848}. Best is trial 4 with value: 0.9977940527662579.\n",
            "[I 2025-04-01 19:15:01,131] Trial 12 finished with value: 0.9973528633195095 and parameters: {'n_estimators': 100, 'max_depth': 15, 'learning_rate': 0.10671803803849032, 'subsample': 0.5127634681092919, 'colsample_bytree': 0.7038474943809244}. Best is trial 4 with value: 0.9977940527662579.\n",
            "[I 2025-04-01 19:15:07,457] Trial 13 finished with value: 0.9976175769875585 and parameters: {'n_estimators': 100, 'max_depth': 8, 'learning_rate': 0.24942345592163218, 'subsample': 0.6345129765987023, 'colsample_bytree': 0.8216990551421117}. Best is trial 4 with value: 0.9977940527662579.\n",
            "[I 2025-04-01 19:15:18,483] Trial 14 finished with value: 0.9975293390982087 and parameters: {'n_estimators': 150, 'max_depth': 7, 'learning_rate': 0.08833991492433228, 'subsample': 0.5857765465776934, 'colsample_bytree': 0.6277747199081533}. Best is trial 4 with value: 0.9977940527662579.\n",
            "[I 2025-04-01 19:15:27,378] Trial 15 finished with value: 0.9976175769875585 and parameters: {'n_estimators': 100, 'max_depth': 12, 'learning_rate': 0.15397910583947866, 'subsample': 0.6970585468939413, 'colsample_bytree': 0.8297069843757547}. Best is trial 4 with value: 0.9977940527662579.\n",
            "[I 2025-04-01 19:15:31,687] Trial 16 finished with value: 0.9964704844260125 and parameters: {'n_estimators': 50, 'max_depth': 16, 'learning_rate': 0.07543386315647212, 'subsample': 0.5800672259390811, 'colsample_bytree': 0.9755867868291277}. Best is trial 4 with value: 0.9977940527662579.\n",
            "[I 2025-04-01 19:15:46,586] Trial 17 finished with value: 0.9966469602047119 and parameters: {'n_estimators': 200, 'max_depth': 6, 'learning_rate': 0.03813652099432657, 'subsample': 0.6743650660582143, 'colsample_bytree': 0.6961551866795714}. Best is trial 4 with value: 0.9977940527662579.\n",
            "[I 2025-04-01 19:15:57,828] Trial 18 finished with value: 0.9979705285449572 and parameters: {'n_estimators': 150, 'max_depth': 10, 'learning_rate': 0.134075922206226, 'subsample': 0.9996002336046277, 'colsample_bytree': 0.5022933393397182}. Best is trial 18 with value: 0.9979705285449572.\n",
            "[I 2025-04-01 19:16:16,192] Trial 19 finished with value: 0.9977058148769081 and parameters: {'n_estimators': 250, 'max_depth': 10, 'learning_rate': 0.04729145792469891, 'subsample': 0.979845341731933, 'colsample_bytree': 0.5084119463935209}. Best is trial 18 with value: 0.9979705285449572.\n",
            "[I 2025-04-01 19:16:29,475] Trial 20 finished with value: 0.9962940086473132 and parameters: {'n_estimators': 150, 'max_depth': 14, 'learning_rate': 0.011955186169194585, 'subsample': 0.7819061639909853, 'colsample_bytree': 0.5781725030557565}. Best is trial 18 with value: 0.9979705285449572.\n",
            "[I 2025-04-01 19:16:43,797] Trial 21 finished with value: 0.9977058148769081 and parameters: {'n_estimators': 100, 'max_depth': 11, 'learning_rate': 0.13475855587200414, 'subsample': 0.5454025703072354, 'colsample_bytree': 0.5659114291051096}. Best is trial 18 with value: 0.9979705285449572.\n",
            "[I 2025-04-01 19:16:52,693] Trial 22 finished with value: 0.9978822906556075 and parameters: {'n_estimators': 150, 'max_depth': 9, 'learning_rate': 0.1964632111819024, 'subsample': 0.9901131017284155, 'colsample_bytree': 0.5067614404169694}. Best is trial 18 with value: 0.9979705285449572.\n",
            "[I 2025-04-01 19:17:03,405] Trial 23 finished with value: 0.9977940527662579 and parameters: {'n_estimators': 150, 'max_depth': 9, 'learning_rate': 0.20686565557895784, 'subsample': 0.9787677271469291, 'colsample_bytree': 0.5026793773851564}. Best is trial 18 with value: 0.9979705285449572.\n",
            "[I 2025-04-01 19:17:16,192] Trial 24 finished with value: 0.9977940527662579 and parameters: {'n_estimators': 200, 'max_depth': 6, 'learning_rate': 0.11724959378877994, 'subsample': 0.99585235479875, 'colsample_bytree': 0.5470685366590394}. Best is trial 18 with value: 0.9979705285449572.\n",
            "[I 2025-04-01 19:17:26,539] Trial 25 finished with value: 0.9978822906556075 and parameters: {'n_estimators': 150, 'max_depth': 6, 'learning_rate': 0.19474459883842696, 'subsample': 0.9366406256448029, 'colsample_bytree': 0.6055056875447364}. Best is trial 18 with value: 0.9979705285449572.\n",
            "[I 2025-04-01 19:17:38,848] Trial 26 finished with value: 0.9980587664343069 and parameters: {'n_estimators': 200, 'max_depth': 5, 'learning_rate': 0.20667608203102156, 'subsample': 0.9378112142291307, 'colsample_bytree': 0.6136355477301436}. Best is trial 26 with value: 0.9980587664343069.\n",
            "[I 2025-04-01 19:17:49,221] Trial 27 finished with value: 0.9977940527662579 and parameters: {'n_estimators': 200, 'max_depth': 3, 'learning_rate': 0.27995302895597735, 'subsample': 0.929047014611813, 'colsample_bytree': 0.6727956351211096}. Best is trial 26 with value: 0.9980587664343069.\n",
            "[I 2025-04-01 19:18:07,375] Trial 28 finished with value: 0.9980587664343069 and parameters: {'n_estimators': 300, 'max_depth': 8, 'learning_rate': 0.21720649935424852, 'subsample': 0.9495514587955028, 'colsample_bytree': 0.5435828490362087}. Best is trial 26 with value: 0.9980587664343069.\n",
            "[I 2025-04-01 19:18:23,517] Trial 29 finished with value: 0.9975293390982087 and parameters: {'n_estimators': 300, 'max_depth': 4, 'learning_rate': 0.06776834731507693, 'subsample': 0.8400021929287248, 'colsample_bytree': 0.5412440169866338}. Best is trial 26 with value: 0.9980587664343069.\n",
            "[I 2025-04-01 19:18:42,330] Trial 30 finished with value: 0.9978822906556075 and parameters: {'n_estimators': 300, 'max_depth': 5, 'learning_rate': 0.23310144476458328, 'subsample': 0.8875139553826343, 'colsample_bytree': 0.6661383951362833}. Best is trial 26 with value: 0.9980587664343069.\n",
            "[I 2025-04-01 19:18:58,019] Trial 31 finished with value: 0.9981470043236566 and parameters: {'n_estimators': 250, 'max_depth': 8, 'learning_rate': 0.17427339391549376, 'subsample': 0.9559638897369797, 'colsample_bytree': 0.5334801203426525}. Best is trial 31 with value: 0.9981470043236566.\n",
            "[I 2025-04-01 19:19:13,856] Trial 32 finished with value: 0.9978822906556075 and parameters: {'n_estimators': 250, 'max_depth': 8, 'learning_rate': 0.17042886214573813, 'subsample': 0.9492280104061992, 'colsample_bytree': 0.5420690658397697}. Best is trial 31 with value: 0.9981470043236566.\n",
            "[I 2025-04-01 19:19:33,576] Trial 33 finished with value: 0.9979705285449572 and parameters: {'n_estimators': 300, 'max_depth': 7, 'learning_rate': 0.23112061805526427, 'subsample': 0.8986023018971494, 'colsample_bytree': 0.5310677176231815}. Best is trial 31 with value: 0.9981470043236566.\n",
            "[I 2025-04-01 19:19:50,066] Trial 34 finished with value: 0.9978822906556075 and parameters: {'n_estimators': 250, 'max_depth': 5, 'learning_rate': 0.2734584681731364, 'subsample': 0.850889602062992, 'colsample_bytree': 0.5976728139661691}. Best is trial 31 with value: 0.9981470043236566.\n",
            "[I 2025-04-01 19:20:08,484] Trial 35 finished with value: 0.9979705285449572 and parameters: {'n_estimators': 250, 'max_depth': 9, 'learning_rate': 0.12128373591971749, 'subsample': 0.9512374535150564, 'colsample_bytree': 0.6140040126185314}. Best is trial 31 with value: 0.9981470043236566.\n",
            "[I 2025-04-01 19:20:23,603] Trial 36 finished with value: 0.9978822906556075 and parameters: {'n_estimators': 300, 'max_depth': 3, 'learning_rate': 0.16750617255845973, 'subsample': 0.9139929339016981, 'colsample_bytree': 0.5731358513943535}. Best is trial 31 with value: 0.9981470043236566.\n",
            "[I 2025-04-01 19:20:39,130] Trial 37 finished with value: 0.9977940527662579 and parameters: {'n_estimators': 250, 'max_depth': 11, 'learning_rate': 0.29541823515375304, 'subsample': 0.8478307317321621, 'colsample_bytree': 0.6516148148801624}. Best is trial 31 with value: 0.9981470043236566.\n",
            "[I 2025-04-01 19:20:52,710] Trial 38 finished with value: 0.9979705285449572 and parameters: {'n_estimators': 200, 'max_depth': 7, 'learning_rate': 0.08138118726552397, 'subsample': 0.9606600214470981, 'colsample_bytree': 0.5312584893739469}. Best is trial 31 with value: 0.9981470043236566.\n",
            "[I 2025-04-01 19:21:07,768] Trial 39 finished with value: 0.9978822906556075 and parameters: {'n_estimators': 250, 'max_depth': 5, 'learning_rate': 0.12269042496640677, 'subsample': 0.9116494387869855, 'colsample_bytree': 0.5618987529097599}. Best is trial 31 with value: 0.9981470043236566.\n",
            "[I 2025-04-01 19:21:21,295] Trial 40 finished with value: 0.9977058148769081 and parameters: {'n_estimators': 200, 'max_depth': 10, 'learning_rate': 0.2189426486252196, 'subsample': 0.8108210647563109, 'colsample_bytree': 0.5928112247379501}. Best is trial 31 with value: 0.9981470043236566.\n",
            "[I 2025-04-01 19:21:41,017] Trial 41 finished with value: 0.9977940527662579 and parameters: {'n_estimators': 300, 'max_depth': 7, 'learning_rate': 0.24673552686377426, 'subsample': 0.8977987181944594, 'colsample_bytree': 0.5259870230357677}. Best is trial 31 with value: 0.9981470043236566.\n",
            "[I 2025-04-01 19:21:59,326] Trial 42 finished with value: 0.9981470043236566 and parameters: {'n_estimators': 300, 'max_depth': 8, 'learning_rate': 0.1622096873908883, 'subsample': 0.9656065710335981, 'colsample_bytree': 0.5249099269185725}. Best is trial 31 with value: 0.9981470043236566.\n",
            "[I 2025-04-01 19:22:20,024] Trial 43 finished with value: 0.9977058148769081 and parameters: {'n_estimators': 300, 'max_depth': 9, 'learning_rate': 0.14228585166643348, 'subsample': 0.9687321203336269, 'colsample_bytree': 0.5568391866240293}. Best is trial 31 with value: 0.9981470043236566.\n",
            "[I 2025-04-01 19:22:40,512] Trial 44 finished with value: 0.9978822906556075 and parameters: {'n_estimators': 300, 'max_depth': 8, 'learning_rate': 0.16399889595712086, 'subsample': 0.8661303735036666, 'colsample_bytree': 0.5194562772827652}. Best is trial 31 with value: 0.9981470043236566.\n",
            "[I 2025-04-01 19:22:57,622] Trial 45 finished with value: 0.9979705285449572 and parameters: {'n_estimators': 250, 'max_depth': 11, 'learning_rate': 0.10282534783866323, 'subsample': 0.9986803939322978, 'colsample_bytree': 0.5819641640125586}. Best is trial 31 with value: 0.9981470043236566.\n",
            "[I 2025-04-01 19:23:16,714] Trial 46 finished with value: 0.9977058148769081 and parameters: {'n_estimators': 300, 'max_depth': 13, 'learning_rate': 0.18582577574981402, 'subsample': 0.9375867600143081, 'colsample_bytree': 0.5008974833240183}. Best is trial 31 with value: 0.9981470043236566.\n",
            "[I 2025-04-01 19:23:34,369] Trial 47 finished with value: 0.9979705285449572 and parameters: {'n_estimators': 250, 'max_depth': 8, 'learning_rate': 0.13685334838250815, 'subsample': 0.9585710367740754, 'colsample_bytree': 0.6336501469211921}. Best is trial 31 with value: 0.9981470043236566.\n",
            "[I 2025-04-01 19:23:50,428] Trial 48 finished with value: 0.9978822906556075 and parameters: {'n_estimators': 200, 'max_depth': 10, 'learning_rate': 0.16383272154313114, 'subsample': 0.9166662223891804, 'colsample_bytree': 0.7223569788311663}. Best is trial 31 with value: 0.9981470043236566.\n",
            "[I 2025-04-01 19:24:09,142] Trial 49 finished with value: 0.9979705285449572 and parameters: {'n_estimators': 300, 'max_depth': 6, 'learning_rate': 0.20815008708194566, 'subsample': 0.9737449936445776, 'colsample_bytree': 0.5511137010799232}. Best is trial 31 with value: 0.9981470043236566.\n"
          ]
        },
        {
          "output_type": "stream",
          "name": "stdout",
          "text": [
            "Best parameters for XGBoost: {'n_estimators': 250, 'max_depth': 8, 'learning_rate': 0.17427339391549376, 'subsample': 0.9559638897369797, 'colsample_bytree': 0.5334801203426525}\n",
            "Accuracy of XGBoost: 0.9981470043236566\n",
            "Precision of XGBoost: 0.9981326025873692\n",
            "Recall of XGBoost: 0.9981470043236566\n",
            "F1-score of XGBoost: 0.9981364312175266\n",
            "              precision    recall  f1-score   support\n",
            "\n",
            "           0       1.00      1.00      1.00      4547\n",
            "           1       0.99      0.99      0.99       393\n",
            "           2       1.00      1.00      1.00       554\n",
            "           3       1.00      1.00      1.00      3807\n",
            "           4       0.83      0.71      0.77         7\n",
            "           5       1.00      1.00      1.00      1589\n",
            "           6       1.00      1.00      1.00       436\n",
            "\n",
            "    accuracy                           1.00     11333\n",
            "   macro avg       0.97      0.96      0.97     11333\n",
            "weighted avg       1.00      1.00      1.00     11333\n",
            "\n"
          ]
        },
        {
          "output_type": "display_data",
          "data": {
            "text/plain": [
              "<Figure size 500x500 with 2 Axes>"
            ],
            "image/png": "[encoded data removed]"
          },
          "metadata": {}
        }
      ]
    },
    {
      "cell_type": "code",
      "source": [
        "xg_train=xg.predict(X_train)\n",
        "xg_test=xg.predict(X_test)"
      ],
      "metadata": {
        "id": "RggZFHKXTHaQ"
      },
      "execution_count": null,
      "outputs": []
    },
    {
      "cell_type": "code",
      "source": [
        "base_predictions_train = pd.DataFrame( {\n",
        "    'DecisionTree': dt_train.ravel(),\n",
        "        'RandomForest': rf_train.ravel(),\n",
        "     'ExtraTrees': et_train.ravel(),\n",
        "     'XgBoost': xg_train.ravel(),\n",
        "    })\n",
        "base_predictions_train.head(5)"
      ],
      "metadata": {
        "colab": {
          "base_uri": "https://localhost:8080/",
          "height": 206
        },
        "id": "z0M-ArbcTJmI",
        "outputId": "0f599f0e-3ccb-48ec-9ff3-ab41a770c6b8"
      },
      "execution_count": null,
      "outputs": [
        {
          "output_type": "execute_result",
          "data": {
            "text/plain": [
              "   DecisionTree  RandomForest  ExtraTrees  XgBoost\n",
              "0             5             5           5        5\n",
              "1             3             3           3        3\n",
              "2             5             5           5        5\n",
              "3             3             3           3        3\n",
              "4             2             2           2        2"
            ],
            "text/html": [
              "\n",
              "  <div id=\"df-20b39378-d82b-47a3-8be8-8bd79b95b1c7\" class=\"colab-df-container\">\n",
              "    <div>\n",
              "<style scoped>\n",
              "    .dataframe tbody tr th:only-of-type {\n",
              "        vertical-align: middle;\n",
              "    }\n",
              "\n",
              "    .dataframe tbody tr th {\n",
              "        vertical-align: top;\n",
              "    }\n",
              "\n",
              "    .dataframe thead th {\n",
              "        text-align: right;\n",
              "    }\n",
              "</style>\n",
              "<table border=\"1\" class=\"dataframe\">\n",
              "  <thead>\n",
              "    <tr style=\"text-align: right;\">\n",
              "      <th></th>\n",
              "      <th>DecisionTree</th>\n",
              "      <th>RandomForest</th>\n",
              "      <th>ExtraTrees</th>\n",
              "      <th>XgBoost</th>\n",
              "    </tr>\n",
              "  </thead>\n",
              "  <tbody>\n",
              "    <tr>\n",
              "      <th>0</th>\n",
              "      <td>5</td>\n",
              "      <td>5</td>\n",
              "      <td>5</td>\n",
              "      <td>5</td>\n",
              "    </tr>\n",
              "    <tr>\n",
              "      <th>1</th>\n",
              "      <td>3</td>\n",
              "      <td>3</td>\n",
              "      <td>3</td>\n",
              "      <td>3</td>\n",
              "    </tr>\n",
              "    <tr>\n",
              "      <th>2</th>\n",
              "      <td>5</td>\n",
              "      <td>5</td>\n",
              "      <td>5</td>\n",
              "      <td>5</td>\n",
              "    </tr>\n",
              "    <tr>\n",
              "      <th>3</th>\n",
              "      <td>3</td>\n",
              "      <td>3</td>\n",
              "      <td>3</td>\n",
              "      <td>3</td>\n",
              "    </tr>\n",
              "    <tr>\n",
              "      <th>4</th>\n",
              "      <td>2</td>\n",
              "      <td>2</td>\n",
              "      <td>2</td>\n",
              "      <td>2</td>\n",
              "    </tr>\n",
              "  </tbody>\n",
              "</table>\n",
              "</div>\n",
              "    <div class=\"colab-df-buttons\">\n",
              "\n",
              "  <div class=\"colab-df-container\">\n",
              "    <button class=\"colab-df-convert\" onclick=\"convertToInteractive('df-20b39378-d82b-47a3-8be8-8bd79b95b1c7')\"\n",
              "            title=\"Convert this dataframe to an interactive table.\"\n",
              "            style=\"display:none;\">\n",
              "\n",
              "  <svg xmlns=\"http://www.w3.org/2000/svg\" height=\"24px\" viewBox=\"0 -960 960 960\">\n",
              "    <path d=\"M120-120v-720h720v720H120Zm60-500h600v-160H180v160Zm220 220h160v-160H400v160Zm0 220h160v-160H400v160ZM180-400h160v-160H180v160Zm440 0h160v-160H620v160ZM180-180h160v-160H180v160Zm440 0h160v-160H620v160Z\"/>\n",
              "  </svg>\n",
              "    </button>\n",
              "\n",
              "  <style>\n",
              "    .colab-df-container {\n",
              "      display:flex;\n",
              "      gap: 12px;\n",
              "    }\n",
              "\n",
              "    .colab-df-convert {\n",
              "      background-color: #E8F0FE;\n",
              "      border: none;\n",
              "      border-radius: 50%;\n",
              "      cursor: pointer;\n",
              "      display: none;\n",
              "      fill: #1967D2;\n",
              "      height: 32px;\n",
              "      padding: 0 0 0 0;\n",
              "      width: 32px;\n",
              "    }\n",
              "\n",
              "    .colab-df-convert:hover {\n",
              "      background-color: #E2EBFA;\n",
              "      box-shadow: 0px 1px 2px rgba(60, 64, 67, 0.3), 0px 1px 3px 1px rgba(60, 64, 67, 0.15);\n",
              "      fill: #174EA6;\n",
              "    }\n",
              "\n",
              "    .colab-df-buttons div {\n",
              "      margin-bottom: 4px;\n",
              "    }\n",
              "\n",
              "    [theme=dark] .colab-df-convert {\n",
              "      background-color: #3B4455;\n",
              "      fill: #D2E3FC;\n",
              "    }\n",
              "\n",
              "    [theme=dark] .colab-df-convert:hover {\n",
              "      background-color: #434B5C;\n",
              "      box-shadow: 0px 1px 3px 1px rgba(0, 0, 0, 0.15);\n",
              "      filter: drop-shadow(0px 1px 2px rgba(0, 0, 0, 0.3));\n",
              "      fill: #FFFFFF;\n",
              "    }\n",
              "  </style>\n",
              "\n",
              "    <script>\n",
              "      const buttonEl =\n",
              "        document.querySelector('#df-20b39378-d82b-47a3-8be8-8bd79b95b1c7 button.colab-df-convert');\n",
              "      buttonEl.style.display =\n",
              "        google.colab.kernel.accessAllowed ? 'block' : 'none';\n",
              "\n",
              "      async function convertToInteractive(key) {\n",
              "        const element = document.querySelector('#df-20b39378-d82b-47a3-8be8-8bd79b95b1c7');\n",
              "        const dataTable =\n",
              "          await google.colab.kernel.invokeFunction('convertToInteractive',\n",
              "                                                    [key], {});\n",
              "        if (!dataTable) return;\n",
              "\n",
              "        const docLinkHtml = 'Like what you see? Visit the ' +\n",
              "          '<a target=\"_blank\" href=https://colab.research.google.com/notebooks/data_table.ipynb>data table notebook</a>'\n",
              "          + ' to learn more about interactive tables.';\n",
              "        element.innerHTML = '';\n",
              "        dataTable['output_type'] = 'display_data';\n",
              "        await google.colab.output.renderOutput(dataTable, element);\n",
              "        const docLink = document.createElement('div');\n",
              "        docLink.innerHTML = docLinkHtml;\n",
              "        element.appendChild(docLink);\n",
              "      }\n",
              "    </script>\n",
              "  </div>\n",
              "\n",
              "\n",
              "<div id=\"df-852f536d-3268-4b33-87d7-6a76bafead76\">\n",
              "  <button class=\"colab-df-quickchart\" onclick=\"quickchart('df-852f536d-3268-4b33-87d7-6a76bafead76')\"\n",
              "            title=\"Suggest charts\"\n",
              "            style=\"display:none;\">\n",
              "\n",
              "<svg xmlns=\"http://www.w3.org/2000/svg\" height=\"24px\"viewBox=\"0 0 24 24\"\n",
              "     width=\"24px\">\n",
              "    <g>\n",
              "        <path d=\"M19 3H5c-1.1 0-2 .9-2 2v14c0 1.1.9 2 2 2h14c1.1 0 2-.9 2-2V5c0-1.1-.9-2-2-2zM9 17H7v-7h2v7zm4 0h-2V7h2v10zm4 0h-2v-4h2v4z\"/>\n",
              "    </g>\n",
              "</svg>\n",
              "  </button>\n",
              "\n",
              "<style>\n",
              "  .colab-df-quickchart {\n",
              "      --bg-color: #E8F0FE;\n",
              "      --fill-color: #1967D2;\n",
              "      --hover-bg-color: #E2EBFA;\n",
              "      --hover-fill-color: #174EA6;\n",
              "      --disabled-fill-color: #AAA;\n",
              "      --disabled-bg-color: #DDD;\n",
              "  }\n",
              "\n",
              "  [theme=dark] .colab-df-quickchart {\n",
              "      --bg-color: #3B4455;\n",
              "      --fill-color: #D2E3FC;\n",
              "      --hover-bg-color: #434B5C;\n",
              "      --hover-fill-color: #FFFFFF;\n",
              "      --disabled-bg-color: #3B4455;\n",
              "      --disabled-fill-color: #666;\n",
              "  }\n",
              "\n",
              "  .colab-df-quickchart {\n",
              "    background-color: var(--bg-color);\n",
              "    border: none;\n",
              "    border-radius: 50%;\n",
              "    cursor: pointer;\n",
              "    display: none;\n",
              "    fill: var(--fill-color);\n",
              "    height: 32px;\n",
              "    padding: 0;\n",
              "    width: 32px;\n",
              "  }\n",
              "\n",
              "  .colab-df-quickchart:hover {\n",
              "    background-color: var(--hover-bg-color);\n",
              "    box-shadow: 0 1px 2px rgba(60, 64, 67, 0.3), 0 1px 3px 1px rgba(60, 64, 67, 0.15);\n",
              "    fill: var(--button-hover-fill-color);\n",
              "  }\n",
              "\n",
              "  .colab-df-quickchart-complete:disabled,\n",
              "  .colab-df-quickchart-complete:disabled:hover {\n",
              "    background-color: var(--disabled-bg-color);\n",
              "    fill: var(--disabled-fill-color);\n",
              "    box-shadow: none;\n",
              "  }\n",
              "\n",
              "  .colab-df-spinner {\n",
              "    border: 2px solid var(--fill-color);\n",
              "    border-color: transparent;\n",
              "    border-bottom-color: var(--fill-color);\n",
              "    animation:\n",
              "      spin 1s steps(1) infinite;\n",
              "  }\n",
              "\n",
              "  @keyframes spin {\n",
              "    0% {\n",
              "      border-color: transparent;\n",
              "      border-bottom-color: var(--fill-color);\n",
              "      border-left-color: var(--fill-color);\n",
              "    }\n",
              "    20% {\n",
              "      border-color: transparent;\n",
              "      border-left-color: var(--fill-color);\n",
              "      border-top-color: var(--fill-color);\n",
              "    }\n",
              "    30% {\n",
              "      border-color: transparent;\n",
              "      border-left-color: var(--fill-color);\n",
              "      border-top-color: var(--fill-color);\n",
              "      border-right-color: var(--fill-color);\n",
              "    }\n",
              "    40% {\n",
              "      border-color: transparent;\n",
              "      border-right-color: var(--fill-color);\n",
              "      border-top-color: var(--fill-color);\n",
              "    }\n",
              "    60% {\n",
              "      border-color: transparent;\n",
              "      border-right-color: var(--fill-color);\n",
              "    }\n",
              "    80% {\n",
              "      border-color: transparent;\n",
              "      border-right-color: var(--fill-color);\n",
              "      border-bottom-color: var(--fill-color);\n",
              "    }\n",
              "    90% {\n",
              "      border-color: transparent;\n",
              "      border-bottom-color: var(--fill-color);\n",
              "    }\n",
              "  }\n",
              "</style>\n",
              "\n",
              "  <script>\n",
              "    async function quickchart(key) {\n",
              "      const quickchartButtonEl =\n",
              "        document.querySelector('#' + key + ' button');\n",
              "      quickchartButtonEl.disabled = true;  // To prevent multiple clicks.\n",
              "      quickchartButtonEl.classList.add('colab-df-spinner');\n",
              "      try {\n",
              "        const charts = await google.colab.kernel.invokeFunction(\n",
              "            'suggestCharts', [key], {});\n",
              "      } catch (error) {\n",
              "        console.error('Error during call to suggestCharts:', error);\n",
              "      }\n",
              "      quickchartButtonEl.classList.remove('colab-df-spinner');\n",
              "      quickchartButtonEl.classList.add('colab-df-quickchart-complete');\n",
              "    }\n",
              "    (() => {\n",
              "      let quickchartButtonEl =\n",
              "        document.querySelector('#df-852f536d-3268-4b33-87d7-6a76bafead76 button');\n",
              "      quickchartButtonEl.style.display =\n",
              "        google.colab.kernel.accessAllowed ? 'block' : 'none';\n",
              "    })();\n",
              "  </script>\n",
              "</div>\n",
              "\n",
              "    </div>\n",
              "  </div>\n"
            ],
            "application/vnd.google.colaboratory.intrinsic+json": {
              "type": "dataframe",
              "variable_name": "base_predictions_train",
              "summary": "{\n  \"name\": \"base_predictions_train\",\n  \"rows\": 46799,\n  \"fields\": [\n    {\n      \"column\": \"DecisionTree\",\n      \"properties\": {\n        \"dtype\": \"number\",\n        \"std\": 1,\n        \"min\": 0,\n        \"max\": 6,\n        \"num_unique_values\": 7,\n        \"samples\": [\n          5,\n          3,\n          1\n        ],\n        \"semantic_type\": \"\",\n        \"description\": \"\"\n      }\n    },\n    {\n      \"column\": \"RandomForest\",\n      \"properties\": {\n        \"dtype\": \"number\",\n        \"std\": 1,\n        \"min\": 0,\n        \"max\": 6,\n        \"num_unique_values\": 7,\n        \"samples\": [\n          5,\n          3,\n          1\n        ],\n        \"semantic_type\": \"\",\n        \"description\": \"\"\n      }\n    },\n    {\n      \"column\": \"ExtraTrees\",\n      \"properties\": {\n        \"dtype\": \"number\",\n        \"std\": 1,\n        \"min\": 0,\n        \"max\": 6,\n        \"num_unique_values\": 7,\n        \"samples\": [\n          5,\n          3,\n          1\n        ],\n        \"semantic_type\": \"\",\n        \"description\": \"\"\n      }\n    },\n    {\n      \"column\": \"XgBoost\",\n      \"properties\": {\n        \"dtype\": \"number\",\n        \"std\": 1,\n        \"min\": 0,\n        \"max\": 6,\n        \"num_unique_values\": 7,\n        \"samples\": [\n          5,\n          3,\n          1\n        ],\n        \"semantic_type\": \"\",\n        \"description\": \"\"\n      }\n    }\n  ]\n}"
            }
          },
          "metadata": {},
          "execution_count": 53
        }
      ]
    },
    {
      "cell_type": "code",
      "source": [
        "dt_train=dt_train.reshape(-1, 1)\n",
        "et_train=et_train.reshape(-1, 1)\n",
        "rf_train=rf_train.reshape(-1, 1)\n",
        "xg_train=xg_train.reshape(-1, 1)\n",
        "dt_test=dt_test.reshape(-1, 1)\n",
        "et_test=et_test.reshape(-1, 1)\n",
        "rf_test=rf_test.reshape(-1, 1)\n",
        "xg_test=xg_test.reshape(-1, 1)"
      ],
      "metadata": {
        "id": "QKSoO9qOTML3"
      },
      "execution_count": null,
      "outputs": []
    },
    {
      "cell_type": "code",
      "source": [
        "x_train = np.concatenate(( dt_train, et_train, rf_train, xg_train), axis=1)\n",
        "x_test = np.concatenate(( dt_test, et_test, rf_test, xg_test), axis=1)"
      ],
      "metadata": {
        "id": "7BN3UyETTPGX"
      },
      "execution_count": null,
      "outputs": []
    },
    {
      "cell_type": "code",
      "source": [
        "stk = xgb.XGBClassifier().fit(x_train, y_train)\n",
        "y_predict=stk.predict(x_test)\n",
        "y_true=y_test\n",
        "stk_score=accuracy_score(y_true,y_predict)\n",
        "print('Accuracy of Stacking: '+ str(stk_score))\n",
        "precision,recall,fscore,none= precision_recall_fscore_support(y_true, y_predict, average='weighted')\n",
        "print('Precision of Stacking: '+(str(precision)))\n",
        "print('Recall of Stacking: '+(str(recall)))\n",
        "print('F1-score of Stacking: '+(str(fscore)))\n",
        "print(classification_report(y_true,y_predict))\n",
        "cm=confusion_matrix(y_true,y_predict)\n",
        "f,ax=plt.subplots(figsize=(5,5))\n",
        "sns.heatmap(cm,annot=True,linewidth=0.5,linecolor=\"red\",fmt=\".0f\",ax=ax)\n",
        "plt.xlabel(\"y_pred\")\n",
        "plt.ylabel(\"y_true\")\n",
        "plt.show()"
      ],
      "metadata": {
        "colab": {
          "base_uri": "https://localhost:8080/",
          "height": 777
        },
        "id": "nDhuvqpNTQyX",
        "outputId": "cbca7dbc-a9f0-4d01-bed3-7024c9b03520"
      },
      "execution_count": null,
      "outputs": [
        {
          "output_type": "stream",
          "name": "stdout",
          "text": [
            "Accuracy of Stacking: 0.9960292949792641\n",
            "Precision of Stacking: 0.9961694697650314\n",
            "Recall of Stacking: 0.9960292949792641\n",
            "F1-score of Stacking: 0.996084268194693\n",
            "              precision    recall  f1-score   support\n",
            "\n",
            "           0       1.00      0.99      1.00      4547\n",
            "           1       0.97      0.98      0.98       393\n",
            "           2       0.99      1.00      0.99       554\n",
            "           3       1.00      1.00      1.00      3807\n",
            "           4       0.50      0.71      0.59         7\n",
            "           5       1.00      1.00      1.00      1589\n",
            "           6       1.00      0.99      0.99       436\n",
            "\n",
            "    accuracy                           1.00     11333\n",
            "   macro avg       0.92      0.95      0.94     11333\n",
            "weighted avg       1.00      1.00      1.00     11333\n",
            "\n"
          ]
        },
        {
          "output_type": "display_data",
          "data": {
            "text/plain": [
              "<Figure size 500x500 with 2 Axes>"
            ],
            "image/png": "[encoded data removed]"
          },
          "metadata": {}
        }
      ]
    },
    {
      "cell_type": "code",
      "source": [],
      "metadata": {
        "id": "D2prC7aNTT_G"
      },
      "execution_count": null,
      "outputs": []
    }
  ]
}